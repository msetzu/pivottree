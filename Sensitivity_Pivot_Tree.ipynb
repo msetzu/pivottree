{
  "cells": [
    {
      "cell_type": "code",
      "execution_count": null,
      "id": "07ce8727-9244-4b83-ab06-cf16b8d4cb42",
      "metadata": {
        "id": "07ce8727-9244-4b83-ab06-cf16b8d4cb42"
      },
      "outputs": [],
      "source": [
        "import os\n",
        "import numpy as np\n",
        "import pandas as pd\n",
        "from sklearn.model_selection import train_test_split\n",
        "\n",
        "from RuleTree import *\n",
        "from PivotTree import *\n",
        "\n",
        "import sys\n",
        "\n",
        "import pandas as pd\n",
        "from sklearn.model_selection import train_test_split\n",
        "from itertools import product\n",
        "import time\n",
        "from sklearn.neighbors import KNeighborsClassifier\n",
        "from sklearn.metrics import silhouette_score, roc_auc_score, balanced_accuracy_score, f1_score, accuracy_score, recall_score, precision_score\n",
        "from sklearn.datasets import load_breast_cancer\n",
        "import numpy as np\n",
        "import matplotlib.pyplot as plt\n",
        "from sklearn.datasets import load_iris\n",
        "from sklearn.tree import DecisionTreeClassifier\n",
        "from matplotlib.colors import ListedColormap\n",
        "\n",
        "from sklearn.datasets import load_iris\n",
        "from sklearn.model_selection import train_test_split\n",
        "from sklearn.tree import export_text\n"
      ]
    },
    {
      "cell_type": "code",
      "execution_count": null,
      "id": "e5690a3c-2908-4280-98bd-913ee597fc63",
      "metadata": {
        "id": "e5690a3c-2908-4280-98bd-913ee597fc63"
      },
      "outputs": [],
      "source": [
        "method = 'PT'\n",
        "\n",
        "validation_folder = 'datasets_stz/validation/validation_results_' + method + '/'\n",
        "testing_folder = 'datasets_stz/testing/testing_results_' + method + '/'\n",
        "\n",
        "validation_folder_scaled = 'datasets_stz/validation_scaled/validation_results_' + method + '/'\n",
        "testing_folder_scaled = 'datasets_stz/testing_scaled/testing_results_' + method + '/'\n",
        "\n",
        "\n",
        "validation_dfs_names = [validation_folder  + x for x in sorted(os.listdir(validation_folder))[1:]]\n",
        "testing_dfs_names = [testing_folder  + x for x in sorted(os.listdir(testing_folder))[1:]]\n",
        "\n",
        "\n",
        "validation_dfs_names_scaled = [validation_folder_scaled  + x for x in sorted(os.listdir(validation_folder_scaled))[1:]]\n",
        "testing_dfs_names_scaled = [testing_folder_scaled  + x for x in sorted(os.listdir(testing_folder_scaled))[1:]]"
      ]
    },
    {
      "cell_type": "code",
      "execution_count": null,
      "id": "b2c5910d-92c2-4052-ba2d-4512e46b075c",
      "metadata": {
        "id": "b2c5910d-92c2-4052-ba2d-4512e46b075c"
      },
      "outputs": [],
      "source": [
        "file_names_val_dict = {}\n",
        "\n",
        "for name_path in validation_dfs_names:\n",
        "    name_key = name_path\n",
        "    name_key = (name_key.split('/')[-1])\n",
        "    name_key = name_key.split('_')\n",
        "    name_key = name_key[0]\n",
        "    if name_key[-4:] == '.csv':\n",
        "        name_key = name_key[:-4]\n",
        "\n",
        "    #print(name_key)\n",
        "    file_names_val_dict[name_key] = pd.read_csv(name_path)\n",
        "\n",
        "file_names_test_dict = {}\n",
        "\n",
        "for name_path in testing_dfs_names:\n",
        "    name_key = name_path\n",
        "    name_key = (name_key.split('/')[-1])\n",
        "    name_key = name_key.split('_')\n",
        "    name_key = name_key[0]\n",
        "    if name_key[-4:] == '.csv':\n",
        "        name_key = name_key[:-4]\n",
        "\n",
        "    #print(name_key)\n",
        "    file_names_test_dict[name_key] = pd.read_csv(name_path)\n",
        "\n",
        "\n",
        "for name_path in validation_dfs_names_scaled:\n",
        "    name_key = name_path\n",
        "    name_key = (name_key.split('/')[-1])\n",
        "    name_key = name_key.split('_')\n",
        "    name_key = name_key[0] +'_scaled'\n",
        "   #print(name_key)\n",
        "\n",
        "    file_names_val_dict[name_key] = pd.read_csv(name_path)\n",
        "\n",
        "\n",
        "for name_path in testing_dfs_names_scaled:\n",
        "    name_key = name_path\n",
        "    name_key = (name_key.split('/')[-1])\n",
        "    name_key = name_key.split('_')\n",
        "    name_key = name_key[0] +'_scaled'\n",
        "   #print(name_key)\n",
        "\n",
        "    file_names_test_dict[name_key] = pd.read_csv(name_path)"
      ]
    },
    {
      "cell_type": "code",
      "execution_count": null,
      "id": "947b0a41-71b5-41c0-a774-22e7aa0aec7e",
      "metadata": {
        "id": "947b0a41-71b5-41c0-a774-22e7aa0aec7e"
      },
      "outputs": [],
      "source": [
        "if method == 'PT':\n",
        "    for key, value in file_names_val_dict.items():\n",
        "        df = value\n",
        "        df['configuration'] = df['configuration'].str.replace('True', 'False')\n",
        "        file_names_val_dict[key] = df\n",
        "\n",
        "    for key, value in file_names_test_dict.items():\n",
        "        df = value\n",
        "        df['configuration'] = df['configuration'].str.replace('True', 'False')\n",
        "        file_names_test_dict[key] = df\n",
        "\n"
      ]
    },
    {
      "cell_type": "code",
      "execution_count": null,
      "id": "6956891b-3d0d-4859-aba6-afa78ce48943",
      "metadata": {
        "id": "6956891b-3d0d-4859-aba6-afa78ce48943"
      },
      "outputs": [],
      "source": [
        "for to_del in ['breast', 'compas', 'german', 'heloc', 'house16',\n",
        " 'iris', 'page', 'processed', 'sonar', 'vertebral',\n",
        " 'wine', 'diamonds','gpt', 'electricity']:\n",
        "    del file_names_test_dict[to_del]"
      ]
    },
    {
      "cell_type": "code",
      "execution_count": null,
      "id": "c2135164-3ee8-4354-afa8-03f173351c0e",
      "metadata": {
        "id": "c2135164-3ee8-4354-afa8-03f173351c0e"
      },
      "outputs": [],
      "source": [
        "more_then_20 = ['cars','news']\n",
        "fiv_to_10 = ['subsetcifar10','subsetmnist','wine_scaled','ElectricDevices','ecg5000']\n",
        "binary_or_th = [x for x in list(file_names_test_dict.keys()) if x not in more_then_20 + fiv_to_10]"
      ]
    },
    {
      "cell_type": "code",
      "execution_count": null,
      "id": "12cd7e3a-bf25-4bc4-863d-262cebdfc596",
      "metadata": {
        "id": "12cd7e3a-bf25-4bc4-863d-262cebdfc596"
      },
      "outputs": [],
      "source": [
        "bins = [(x,x+10) for x in range(0,110,10)]\n",
        "bins\n",
        "\n",
        "def find_bin(x,bins):\n",
        "    #dato un valore trova il bin corrispondente\n",
        "    for bin in bins:\n",
        "        if x < bin[1]:\n",
        "            return bin\n",
        "\n",
        "\n",
        "#ho un numero finito di bins"
      ]
    },
    {
      "cell_type": "code",
      "execution_count": null,
      "id": "cf86bd8d-5b28-439f-bde0-999509d0742c",
      "metadata": {
        "id": "cf86bd8d-5b28-439f-bde0-999509d0742c"
      },
      "outputs": [],
      "source": [
        "classif = 'KNN5'     #use DT4 to reproduce the experiment with DecisionTree 4 as final classifier\n",
        "space = 'mapped'\n",
        "eval_measure = 'average_total_pivots_num'\n",
        "type_of_pivots = 'y_pivots_discriminative_descriptive'"
      ]
    },
    {
      "cell_type": "code",
      "execution_count": null,
      "id": "640c5db5-2884-4d3a-a43f-adaae6274a49",
      "metadata": {
        "id": "640c5db5-2884-4d3a-a43f-adaae6274a49"
      },
      "outputs": [],
      "source": [
        "def find_values(dataframe_key, max_limit = 110, classif = 'KNN5', space = 'mapped', type_of_pivots = 'y_pivots_discriminative_descriptive', eval_measure = 'average_total_pivots_num'):\n",
        "    df = file_names_test_dict[dataframe_key]\n",
        "    filtered_df = df[df['configuration'].str.contains('PT') & df['configuration'].str.contains(type_of_pivots)].sort_values(by=eval_measure, ascending = True)\n",
        "    filtered_df = filtered_df[filtered_df['configuration'].str.contains(classif)]\n",
        "    filtered_df = filtered_df[filtered_df['configuration'].str.contains(space)]\n",
        "    display(filtered_df)\n",
        "    filtered_df = filtered_df[filtered_df['average_total_pivots_num'] <= 100]\n",
        "    corresponding_bin = [find_bin(x,bins) for x in filtered_df['average_total_pivots_num']]\n",
        "    filtered_df['bin'] = corresponding_bin\n",
        "    # Group by 'bin' and find the index of the row with the maximum 'f1_score' in each group\n",
        "\n",
        "    max_f1_index = filtered_df.groupby('bin')['average_f1_score'].idxmax()\n",
        "\n",
        "    # Select the rows with the maximum 'f1_score' for each group\n",
        "    df_max_f1 = filtered_df.loc[max_f1_index]\n",
        "\n",
        "    #display(df_max_f1)\n",
        "\n",
        "    list_scores = []\n",
        "    for row_id in range(len(df_max_f1)):\n",
        "        row = df_max_f1.iloc[row_id]\n",
        "        bin, score, name = row.bin, row.average_f1_score, dataframe_key\n",
        "        list_scores.append((name,bin,score))\n",
        "\n",
        "\n",
        "\n",
        "\n",
        "\n",
        "    return list_scores\n",
        "\n",
        ""
      ]
    },
    {
      "cell_type": "code",
      "execution_count": null,
      "id": "b3d3e80b-f342-4a8c-8877-f2d00cf8a62c",
      "metadata": {
        "id": "b3d3e80b-f342-4a8c-8877-f2d00cf8a62c"
      },
      "outputs": [],
      "source": [
        "def analyze_list(list_results, filter_dataframes):\n",
        "    bins_dict_values = {}\n",
        "    for bin in bins[1:]:\n",
        "        filter_list = [tup for tup in list_results if tup[1] == bin]\n",
        "        filter_list = [tup for tup in filter_list if tup[0] in filter_dataframes]\n",
        "\n",
        "        bins_dict_values[bin] = [tup[2] for tup in filter_list]\n",
        "    return bins_dict_values"
      ]
    },
    {
      "cell_type": "code",
      "execution_count": null,
      "id": "1622f048-cf74-474a-ad48-147bffc26b67",
      "metadata": {
        "id": "1622f048-cf74-474a-ad48-147bffc26b67"
      },
      "outputs": [],
      "source": [
        "dicitonary_bins_fiv_to_10 = analyze_list(list_results,fiv_to_10)\n",
        "dicitonary_bins_binary_or_th = analyze_list(list_results,binary_or_th)"
      ]
    },
    {
      "cell_type": "code",
      "execution_count": null,
      "id": "e18ea1ae-7665-4e53-895c-f913d1fb65c3",
      "metadata": {
        "id": "e18ea1ae-7665-4e53-895c-f913d1fb65c3",
        "outputId": "388ceb56-998b-4207-c603-fc13084150de"
      },
      "outputs": [
        {
          "name": "stderr",
          "output_type": "stream",
          "text": [
            "/tmp/ipykernel_1838789/3767019184.py:2: RuntimeWarning: Mean of empty slice.\n",
            "  dicitonary_bins_fiv_to_10[key] = (np.array(value).mean(), np.array(value).std())\n",
            "/home/acascione/.local/lib/python3.10/site-packages/numpy/core/_methods.py:192: RuntimeWarning: invalid value encountered in scalar divide\n",
            "  ret = ret.dtype.type(ret / rcount)\n",
            "/home/acascione/.local/lib/python3.10/site-packages/numpy/core/_methods.py:269: RuntimeWarning: Degrees of freedom <= 0 for slice\n",
            "  ret = _var(a, axis=axis, dtype=dtype, out=out, ddof=ddof,\n",
            "/home/acascione/.local/lib/python3.10/site-packages/numpy/core/_methods.py:226: RuntimeWarning: invalid value encountered in divide\n",
            "  arrmean = um.true_divide(arrmean, div, out=arrmean,\n",
            "/home/acascione/.local/lib/python3.10/site-packages/numpy/core/_methods.py:261: RuntimeWarning: invalid value encountered in scalar divide\n",
            "  ret = ret.dtype.type(ret / rcount)\n",
            "/tmp/ipykernel_1838789/3767019184.py:5: RuntimeWarning: Mean of empty slice.\n",
            "  dicitonary_bins_binary_or_th[key] = (np.array(value).mean(), np.array(value).std())\n"
          ]
        }
      ],
      "source": [
        " for key, value in dicitonary_bins_fiv_to_10.items():\n",
        "        dicitonary_bins_fiv_to_10[key] = (np.array(value).mean(), np.array(value).std())\n",
        "\n",
        " for key, value in dicitonary_bins_binary_or_th.items():\n",
        "        dicitonary_bins_binary_or_th[key] = (np.array(value).mean(), np.array(value).std())"
      ]
    },
    {
      "cell_type": "code",
      "execution_count": null,
      "id": "2f1f0b30-1ece-4e40-bfc6-daf20e3904e7",
      "metadata": {
        "id": "2f1f0b30-1ece-4e40-bfc6-daf20e3904e7"
      },
      "outputs": [],
      "source": [
        "dictionaries = [dicitonary_bins_binary_or_th, dicitonary_bins_fiv_to_10]"
      ]
    },
    {
      "cell_type": "code",
      "execution_count": null,
      "id": "71340287-494f-4aa8-897c-b53456ce0b0e",
      "metadata": {
        "id": "71340287-494f-4aa8-897c-b53456ce0b0e"
      },
      "outputs": [],
      "source": [
        "color_mapping = {0: '#4daf4a', 1 : '#984ea3'}\n",
        "label_mapping = {0 : r'$l\\in[2,3]$', 1 : r'$l\\in[5,10]$'}\n",
        "marker_mapping = {0 :\"o\", 1: \"v\"}"
      ]
    },
    {
      "cell_type": "code",
      "execution_count": null,
      "id": "e35d063d-79b6-4af2-97cd-7d5eb0e044f0",
      "metadata": {
        "id": "e35d063d-79b6-4af2-97cd-7d5eb0e044f0",
        "outputId": "57984c86-8ca7-4e41-c482-fa903d33866b"
      },
      "outputs": [
        {
          "name": "stderr",
          "output_type": "stream",
          "text": [
            "/home/acascione/.local/lib/python3.10/site-packages/numpy/core/_methods.py:45: RuntimeWarning: invalid value encountered in reduce\n",
            "  return umr_minimum(a, axis, None, out, keepdims, initial, where)\n",
            "/home/acascione/.local/lib/python3.10/site-packages/numpy/core/_methods.py:41: RuntimeWarning: invalid value encountered in reduce\n",
            "  return umr_maximum(a, axis, None, out, keepdims, initial, where)\n",
            "/home/acascione/.local/lib/python3.10/site-packages/numpy/core/_methods.py:45: RuntimeWarning: invalid value encountered in reduce\n",
            "  return umr_minimum(a, axis, None, out, keepdims, initial, where)\n",
            "/home/acascione/.local/lib/python3.10/site-packages/numpy/core/_methods.py:41: RuntimeWarning: invalid value encountered in reduce\n",
            "  return umr_maximum(a, axis, None, out, keepdims, initial, where)\n"
          ]
        },
        {
          "data": {
            "image/png": "[encoded data removed]",
            "text/plain": [
              "<Figure size 800x400 with 1 Axes>"
            ]
          },
          "metadata": {},
          "output_type": "display_data"
        }
      ],
      "source": [
        "import matplotlib.pyplot as plt\n",
        "\n",
        "plt.figure(figsize=(8,4))  # Adjust the width and height as needed\n",
        "\n",
        "for i, dictionary_bins in enumerate(dictionaries):\n",
        "    x_axis = list(dictionary_bins.keys())\n",
        "    x_axis = np.arange(10,110,10)\n",
        "    x_axis = [str(x) for x in x_axis]\n",
        "\n",
        "    y_axis = list(dictionary_bins.values())\n",
        "    y_axis_mean = [x[0] for x in y_axis]\n",
        "    std = [x[1] for x in y_axis]\n",
        "\n",
        "    plt.plot(x_axis, y_axis_mean, color=color_mapping[i], lw=3, markersize=26)\n",
        "    plt.errorbar(x_axis, y_axis_mean, yerr=std, fmt=marker_mapping[i], color=color_mapping[i], lw=3 , markersize = 14, label=label_mapping[i])\n",
        "\n",
        "# Setting y-axis limits\n",
        "plt.ylim(0.0, 1.0)\n",
        "\n",
        "# Adding labels and legend with increased font size\n",
        "plt.xlabel('Number of pivots', fontsize=20)\n",
        "plt.ylabel('F1-score', fontsize=20)\n",
        "plt.xticks(fontsize=14)\n",
        "plt.yticks(fontsize=14)\n",
        "plt.title(f'{classif}'[:-1], fontsize=20)\n",
        "\n",
        "plt.legend(frameon=False, fontsize = 20, loc = 'lower left')\n",
        "\n",
        "\n",
        "\n",
        "plt.tick_params(axis='both', which='major', labelsize=18)\n",
        "\n",
        "\n",
        "\n",
        "plt.savefig('sensitivity_KNN.png', format = 'png', dpi = 300, bbox_inches = 'tight')\n",
        "\n",
        "plt.show()\n"
      ]
    }
  ],
  "metadata": {
    "kernelspec": {
      "display_name": "Python 3 (ipykernel)",
      "language": "python",
      "name": "python3"
    },
    "language_info": {
      "codemirror_mode": {
        "name": "ipython",
        "version": 3
      },
      "file_extension": ".py",
      "mimetype": "text/x-python",
      "name": "python",
      "nbconvert_exporter": "python",
      "pygments_lexer": "ipython3",
      "version": "3.10.12"
    },
    "colab": {
      "provenance": []
    }
  },
  "nbformat": 4,
  "nbformat_minor": 5
}