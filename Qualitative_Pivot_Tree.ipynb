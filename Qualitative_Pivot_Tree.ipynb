{
  "cells": [
    {
      "cell_type": "code",
      "execution_count": 132,
      "metadata": {
        "id": "D8IleF4blvWY"
      },
      "outputs": [],
      "source": [
        "from IPython.display import clear_output"
      ]
    },
    {
      "cell_type": "code",
      "execution_count": 133,
      "metadata": {
        "id": "v7QPLZUdlwvZ"
      },
      "outputs": [],
      "source": [
        "!pip install pyts\n",
        "!pip install -U sentence-transformers\n",
        "clear_output()"
      ]
    },
    {
      "cell_type": "code",
      "execution_count": 134,
      "metadata": {
        "id": "xgySUV4IIOJk"
      },
      "outputs": [],
      "source": [
        "!pip install kmedoids\n",
        "clear_output()"
      ]
    },
    {
      "cell_type": "code",
      "execution_count": 135,
      "metadata": {
        "id": "y-dg1xTtILF-"
      },
      "outputs": [],
      "source": [
        "from PivotTree import *\n",
        "from RuleTree import *"
      ]
    },
    {
      "cell_type": "code",
      "execution_count": 136,
      "metadata": {
        "id": "9Udfhp4JHDkF"
      },
      "outputs": [],
      "source": [
        "import numpy as np\n",
        "import pandas as pd\n",
        "import matplotlib.pyplot as plt\n",
        "from typing import List, Dict, Tuple\n",
        "\n",
        "import tensorflow as tf\n",
        "import tensorflow.keras as keras\n",
        "import tensorflow.keras.layers as layers\n",
        "\n",
        "from sklearn.compose import ColumnTransformer\n",
        "from sklearn.model_selection import train_test_split\n",
        "from sklearn.preprocessing import StandardScaler, OneHotEncoder\n",
        "from sklearn.neighbors import KNeighborsClassifier"
      ]
    },
    {
      "cell_type": "code",
      "execution_count": 137,
      "metadata": {
        "id": "svN8NkRPHFM-"
      },
      "outputs": [],
      "source": [
        "(X_train, y_train), (X_test, y_test) = tf.keras.datasets.cifar10.load_data()\n",
        "X_train = X_train.astype(np.float32) / 255.\n",
        "X_test = X_test.astype(np.float32) / 255.\n",
        "y_train, y_test = y_train.flatten(), y_test.flatten()\n",
        "\n",
        "\n",
        "# split the test into test-validation\n",
        "X_test, X_val, y_test, y_val = train_test_split(X_test, y_test, train_size=1000, test_size=1000, random_state=13)\n",
        "\n",
        "# subsample the datasets\n",
        "np.random.seed(13)\n",
        "train_idx = np.random.choice(len(X_train), size=1000, replace=False)\n",
        "X_train, y_train = X_train[train_idx], y_train[train_idx]"
      ]
    },
    {
      "cell_type": "code",
      "execution_count": 138,
      "metadata": {
        "id": "a7UyCWnFHIuv",
        "colab": {
          "base_uri": "https://localhost:8080/"
        },
        "outputId": "c728a369-ec0b-407f-c81e-4b3f5840b656"
      },
      "outputs": [
        {
          "output_type": "stream",
          "name": "stdout",
          "text": [
            "--2024-04-04 12:19:46--  https://storage.googleapis.com/seldon-models/alibi/model_cifar10/checkpoint\n",
            "Resolving storage.googleapis.com (storage.googleapis.com)... 74.125.23.207, 74.125.203.207, 64.233.187.207, ...\n",
            "Connecting to storage.googleapis.com (storage.googleapis.com)|74.125.23.207|:443... connected.\n",
            "HTTP request sent, awaiting response... 200 OK\n",
            "Length: 81 [application/octet-stream]\n",
            "Saving to: ‘model_cifar10/checkpoint.1’\n",
            "\n",
            "checkpoint.1        100%[===================>]      81  --.-KB/s    in 0s      \n",
            "\n",
            "2024-04-04 12:19:47 (35.4 MB/s) - ‘model_cifar10/checkpoint.1’ saved [81/81]\n",
            "\n",
            "--2024-04-04 12:19:47--  https://storage.googleapis.com/seldon-models/alibi/model_cifar10/cifar10.ckpt.data-00000-of-00001\n",
            "Resolving storage.googleapis.com (storage.googleapis.com)... 74.125.23.207, 74.125.203.207, 64.233.187.207, ...\n",
            "Connecting to storage.googleapis.com (storage.googleapis.com)|74.125.23.207|:443... connected.\n",
            "HTTP request sent, awaiting response... 200 OK\n",
            "Length: 2218891 (2.1M) [application/octet-stream]\n",
            "Saving to: ‘model_cifar10/cifar10.ckpt.data-00000-of-00001.1’\n",
            "\n",
            "cifar10.ckpt.data-0 100%[===================>]   2.12M  2.55MB/s    in 0.8s    \n",
            "\n",
            "2024-04-04 12:19:48 (2.55 MB/s) - ‘model_cifar10/cifar10.ckpt.data-00000-of-00001.1’ saved [2218891/2218891]\n",
            "\n",
            "--2024-04-04 12:19:49--  https://storage.googleapis.com/seldon-models/alibi/model_cifar10/cifar10.ckpt.index\n",
            "Resolving storage.googleapis.com (storage.googleapis.com)... 74.125.23.207, 74.125.203.207, 64.233.187.207, ...\n",
            "Connecting to storage.googleapis.com (storage.googleapis.com)|74.125.23.207|:443... connected.\n",
            "HTTP request sent, awaiting response... 200 OK\n",
            "Length: 2828 (2.8K) [application/octet-stream]\n",
            "Saving to: ‘model_cifar10/cifar10.ckpt.index.1’\n",
            "\n",
            "cifar10.ckpt.index. 100%[===================>]   2.76K  --.-KB/s    in 0s      \n",
            "\n",
            "2024-04-04 12:19:49 (36.6 MB/s) - ‘model_cifar10/cifar10.ckpt.index.1’ saved [2828/2828]\n",
            "\n"
          ]
        }
      ],
      "source": [
        "# download weights\n",
        "!wget https://storage.googleapis.com/seldon-models/alibi/model_cifar10/checkpoint -P model_cifar10\n",
        "!wget https://storage.googleapis.com/seldon-models/alibi/model_cifar10/cifar10.ckpt.data-00000-of-00001 -P model_cifar10\n",
        "!wget https://storage.googleapis.com/seldon-models/alibi/model_cifar10/cifar10.ckpt.index -P model_cifar10"
      ]
    },
    {
      "cell_type": "code",
      "execution_count": 152,
      "metadata": {
        "id": "CCokHa0bHKkM"
      },
      "outputs": [],
      "source": [
        "# define the network to be used.\n",
        "model = keras.Sequential([\n",
        "        layers.InputLayer(input_shape=(32, 32, 3)),\n",
        "        layers.Conv2D(32, (3, 3), kernel_initializer='he_uniform', padding='same'),\n",
        "        layers.ReLU(),\n",
        "        layers.BatchNormalization(),\n",
        "        layers.Conv2D(32, (3, 3), kernel_initializer='he_uniform', padding='same'),\n",
        "        layers.ReLU(),\n",
        "        layers.BatchNormalization(),\n",
        "        layers.MaxPooling2D((2, 2)),\n",
        "        layers.Dropout(0.2),\n",
        "        layers.Conv2D(64, (3, 3), kernel_initializer='he_uniform', padding='same'),\n",
        "        layers.ReLU(),\n",
        "        layers.BatchNormalization(),\n",
        "        layers.Conv2D(64, (3, 3), kernel_initializer='he_uniform', padding='same'),\n",
        "        layers.ReLU(),\n",
        "        layers.BatchNormalization(),\n",
        "        layers.MaxPooling2D((2, 2)),\n",
        "        layers.Dropout(0.3),\n",
        "        layers.Conv2D(128, (3, 3), kernel_initializer='he_uniform', padding='same'),\n",
        "        layers.ReLU(),\n",
        "        layers.BatchNormalization(),\n",
        "        layers.Conv2D(128, (3, 3), kernel_initializer='he_uniform', padding='same'),\n",
        "        layers.ReLU(),\n",
        "        layers.BatchNormalization(),\n",
        "        layers.MaxPooling2D((2, 2)),\n",
        "        layers.Dropout(0.4),\n",
        "        layers.Flatten(),\n",
        "        layers.Dense(128, kernel_initializer='he_uniform', name='feature_layer'),\n",
        "        layers.ReLU(),\n",
        "        layers.BatchNormalization(),\n",
        "        layers.Dropout(0.5),\n",
        "        layers.Dense(10)\n",
        "])\n",
        "\n",
        "# load the weights\n",
        "model.load_weights('model_cifar10/cifar10.ckpt');"
      ]
    },
    {
      "cell_type": "code",
      "execution_count": 153,
      "metadata": {
        "id": "hO5zg-mrHM4B"
      },
      "outputs": [],
      "source": [
        "# define preprocessing function\n",
        "partial_model = keras.Model(\n",
        "    inputs=model.inputs,\n",
        "    outputs=model.get_layer(name='feature_layer').output\n",
        ")\n",
        "\n",
        "def preprocess_fn(x: np.ndarray):\n",
        "    return partial_model(x, training=False).numpy()"
      ]
    },
    {
      "cell_type": "code",
      "execution_count": 154,
      "metadata": {
        "id": "KTRAP6Y7HPq2"
      },
      "outputs": [],
      "source": [
        "train_embeddings = preprocess_fn(X_train)\n",
        "test_embeddings =preprocess_fn(X_test)"
      ]
    },
    {
      "cell_type": "code",
      "execution_count": 155,
      "metadata": {
        "id": "xtbYbT5QH4JS"
      },
      "outputs": [],
      "source": [
        "clf = PivotTree(max_depth = 4, allow_oblique_splits = False, force_oblique_splits= False, random_state = 0)"
      ]
    },
    {
      "cell_type": "code",
      "execution_count": 156,
      "metadata": {
        "id": "0MX-7yO1IGy9"
      },
      "outputs": [],
      "source": [
        "clf.fit(train_embeddings, y_train)"
      ]
    },
    {
      "cell_type": "code",
      "execution_count": 157,
      "metadata": {
        "id": "obV16zixJhm0",
        "colab": {
          "base_uri": "https://localhost:8080/"
        },
        "outputId": "cb95ffd8-6e9b-4c61-93ba-c9285826b481"
      },
      "outputs": [
        {
          "output_type": "execute_result",
          "data": {
            "text/plain": [
              "{0: 'plane',\n",
              " 1: 'car',\n",
              " 2: 'bird',\n",
              " 3: 'cat',\n",
              " 4: 'deer',\n",
              " 5: 'dog',\n",
              " 6: 'frog',\n",
              " 7: 'horse',\n",
              " 8: 'ship',\n",
              " 9: 'truck'}"
            ]
          },
          "metadata": {},
          "execution_count": 157
        }
      ],
      "source": [
        "classes_dict = {}\n",
        "for i, x in enumerate(['plane', 'car', 'bird', 'cat', 'deer', 'dog', 'frog', 'horse', 'ship', 'truck']):\n",
        "  classes_dict[i] = x\n",
        "classes_dict\n"
      ]
    },
    {
      "cell_type": "markdown",
      "metadata": {
        "id": "eVAccuC9M8N9"
      },
      "source": [
        "## utils foos"
      ]
    },
    {
      "cell_type": "code",
      "execution_count": 186,
      "metadata": {
        "id": "TfpWa9WDPCiT"
      },
      "outputs": [],
      "source": [
        "def compute_score(y_validation, predictions):\n",
        "  balanced_accuracy_score_ = balanced_accuracy_score(y_validation, predictions)\n",
        "  f1_score_ = f1_score(y_validation, predictions, average='macro')\n",
        "  accuracy_score_ = accuracy_score(y_validation, predictions)\n",
        "  precision_score_ = precision_score(y_validation, predictions, average='macro')\n",
        "  recall_score_ = recall_score(y_validation, predictions, average='macro')\n",
        "\n",
        "  score_dict = {\n",
        "        'balanced_accuracy_score': balanced_accuracy_score_,\n",
        "        'f1_score': f1_score_,\n",
        "        'accuracy_score': accuracy_score_,\n",
        "        'precision_score': precision_score_,\n",
        "        'recall_score': recall_score_\n",
        "    }\n",
        "\n",
        "  return score_dict"
      ]
    },
    {
      "cell_type": "code",
      "execution_count": 187,
      "metadata": {
        "id": "36bGeeuIKhET"
      },
      "outputs": [],
      "source": [
        "def extract_values_oblique(data):\n",
        "    result = []\n",
        "\n",
        "    for outer_list in data:\n",
        "        for inner_list in outer_list:\n",
        "            for item in inner_list:\n",
        "                node_id = int(item.split(' ')[1])  # Extracting the node ID as an integer\n",
        "\n",
        "                if 'pivot:' in item:\n",
        "                    value = int(item.split('pivot: ')[-1])  # Extracting the pivot value as an integer\n",
        "                    result.append({'node_id': node_id, 'value': value, 'type': 'pivot'})\n",
        "\n",
        "                elif 'medoid:' in item:\n",
        "                    value = int(item.split('medoid: ')[-1])  # Extracting the medoid value as an integer\n",
        "                    result.append({'node_id': node_id, 'value': value, 'type': 'medoid'})\n",
        "\n",
        "    return result\n",
        "\n",
        "def extract_values_parallel(data):\n",
        "    result = []\n",
        "\n",
        "    for item in data:\n",
        "        node_id = int(item[0].split(' ')[1])  # Extracting the node ID as an integer\n",
        "\n",
        "        if 'pivot:' in item[0]:\n",
        "            value = int(item[0].split('pivot: ')[-1])  # Extracting the pivot value as an integer\n",
        "            result.append({'node_id': node_id, 'value': value, 'type': 'pivot'})\n",
        "\n",
        "        elif 'medoid:' in item[0]:\n",
        "            value = int(item[0].split('medoid: ')[-1])  # Extracting the medoid value as an integer\n",
        "            result.append({'node_id': node_id, 'value': value, 'type': 'medoid'})\n",
        "\n",
        "    return result\n"
      ]
    },
    {
      "cell_type": "code",
      "execution_count": 188,
      "metadata": {
        "id": "P3gsEj-YNE5W"
      },
      "outputs": [],
      "source": [
        "from RuleTree import *\n",
        "from PivotTree import *\n",
        "\n",
        "import sys\n",
        "\n",
        "import pandas as pd\n",
        "from sklearn.model_selection import train_test_split\n",
        "from itertools import product\n",
        "import time\n",
        "from sklearn.neighbors import KNeighborsClassifier\n",
        "from sklearn.metrics import silhouette_score, roc_auc_score, balanced_accuracy_score, f1_score, accuracy_score, recall_score, precision_score"
      ]
    },
    {
      "cell_type": "code",
      "execution_count": 189,
      "metadata": {
        "id": "wmvto-nFL6rn"
      },
      "outputs": [],
      "source": [
        "def pivot_tree_selection(params_list, pairwise_dist_matrix, X_curr, y_curr, random_state):\n",
        "\n",
        "  #initialize empty lists\n",
        "  X_pivots_discriminative, y_pivots_discriminative = [], []\n",
        "  X_pivots_descriptive, y_pivots_descriptive = [], []\n",
        "  X_pivots_used, y_pivots_used = [], []\n",
        "\n",
        "  discriminative_idxs = []\n",
        "\n",
        "\n",
        "  #set parameters\n",
        "  max_depth_clf = params_list['max_depth']\n",
        "  allow_oblique_splits_clf = params_list['allow_oblique_splits']\n",
        "  force_oblique_splits_clf = params_list['force_oblique_splits']\n",
        "  max_oblique_features_clf = params_list['max_oblique_features']\n",
        "  pivot_oblique_choice_features_clf = params_list['pivot_oblique_choice_features']\n",
        "  approximation_clf = params_list['approximation']\n",
        "\n",
        "\n",
        "  random_state_clf = random_state\n",
        "\n",
        "\n",
        "  #init pivottree and fit it\n",
        "  pivot_tree = PivotTree(allow_oblique_splits = allow_oblique_splits_clf, force_oblique_splits = force_oblique_splits_clf, random_state = random_state_clf,\n",
        "                             max_oblique_features=max_oblique_features_clf,max_depth = max_depth_clf, distance_matrix = pairwise_dist_matrix,\n",
        "                             pivot_oblique_choice_features = pivot_oblique_choice_features_clf, prune_tree = True, pairwise_metric = metric)\n",
        "\n",
        "\n",
        "  time_selection = 0.0\n",
        "  start_time = time.process_time()\n",
        "  pivot_tree.fit(X_curr, y_curr) #fit the pivot_tree with current configuration\n",
        "  end_time = time.process_time()\n",
        "\n",
        "  time_selection = end_time - start_time\n",
        "\n",
        "  #retrieve nodes\n",
        "  nodes = [node for node in list(pivot_tree._node_dict.values())] #get nodes\n",
        "\n",
        "  #get descriptive\n",
        "  X_descriptive = [node.X_pivot_descriptive for node in nodes if type(node.X_pivot_descriptive) != type(None)]\n",
        "  y_descriptive  = [node.y_pivot_descriptive for node in nodes if type(node.y_pivot_descriptive) != type(None)]\n",
        "\n",
        "  #get discriminative\n",
        "  X_discriminative_pivot_indexes = np.concatenate([node.discriminative_pivot_indexes for node in nodes if type(node.discriminative_pivot_indexes) != type(None)]).astype(int)\n",
        "\n",
        "  X_discriminative = X_curr[X_discriminative_pivot_indexes]\n",
        "  y_discriminative = y_curr[X_discriminative_pivot_indexes]\n",
        "\n",
        "  X_pivots_discriminative += [x for x in X_discriminative]\n",
        "  y_pivots_discriminative += [x for x in y_discriminative]\n",
        "\n",
        "  X_pivots_descriptive += sum([x for x in X_descriptive], [])\n",
        "  y_pivots_descriptive += sum([x for x in y_descriptive],[])\n",
        "\n",
        "  idxs_pivots_used = [node.pivot_used for node in nodes if type(node.pivot_used) != type(None)]\n",
        "\n",
        "  if force_oblique_splits_clf:\n",
        "      idxs_pivots_used = [x['value'] for x in extract_values_oblique(idxs_pivots_used)]\n",
        "  else:\n",
        "      idxs_pivots_used = [x['value'] for x in extract_values_parallel(idxs_pivots_used)]\n",
        "\n",
        "  X_pivots_used += [x for x in X_curr[idxs_pivots_used]]\n",
        "  y_pivots_used += [x for x in y_curr[idxs_pivots_used]]\n",
        "\n",
        "  #return fitted pivot_tree and prototypes extracted\n",
        "\n",
        "  prototypes = {'X_pivots_discriminative': X_pivots_discriminative, 'y_pivots_discriminative' : y_pivots_discriminative,\n",
        "                'X_pivots_descriptive': X_pivots_descriptive, 'y_pivots_descriptive' : y_pivots_descriptive,\n",
        "                'X_pivots_used' : X_pivots_used, 'y_pivots_used' : y_pivots_used,\n",
        "                'X_pivots_discriminative_descriptive' : X_pivots_discriminative + X_pivots_descriptive,\n",
        "                'y_pivots_discriminative_descriptive' : y_pivots_discriminative + y_pivots_descriptive,\n",
        "\n",
        "                }\n",
        "\n",
        "  return pivot_tree, prototypes, time_selection\n"
      ]
    },
    {
      "cell_type": "code",
      "execution_count": 190,
      "metadata": {
        "id": "9WIf41nPM6l4"
      },
      "outputs": [],
      "source": [
        "\n",
        "def generate_param_configurations(configurations):\n",
        "    keys, values_list = zip(*configurations.items())\n",
        "    param_combinations = list(product(*values_list))\n",
        "\n",
        "    result_configurations = []\n",
        "    for combination in param_combinations:\n",
        "        config_dict = dict(zip(keys, combination))\n",
        "        result_configurations.append(config_dict)\n",
        "\n",
        "    return result_configurations"
      ]
    },
    {
      "cell_type": "markdown",
      "metadata": {
        "id": "_dCNLrIEM-oL"
      },
      "source": [
        "## Extraction"
      ]
    },
    {
      "cell_type": "code",
      "execution_count": 191,
      "metadata": {
        "id": "orecylTmMtGr"
      },
      "outputs": [],
      "source": [
        "approximation = False\n",
        "metric = 'euclidean'\n",
        "#pivot Tree parameters that are relevant for us\n",
        "configurations = {'max_depth': [2,3,4],\n",
        "                  'allow_oblique_splits' : [False],\n",
        "                  'force_oblique_splits': [False],\n",
        "                  'max_oblique_features' : [2],\n",
        "                  'pivot_oblique_choice_features' : [None,2,3,4],\n",
        "                  'approximation' : [approximation]\n",
        "                 }\n",
        "\n",
        "possible_configurations = [x for x in generate_param_configurations(configurations)]\n"
      ]
    },
    {
      "cell_type": "code",
      "execution_count": 192,
      "metadata": {
        "id": "0zYvegwpNQfX",
        "colab": {
          "base_uri": "https://localhost:8080/"
        },
        "outputId": "a9b88167-1831-46b5-846d-e9c8c27e9197"
      },
      "outputs": [
        {
          "output_type": "execute_result",
          "data": {
            "text/plain": [
              "{'max_depth': 4,\n",
              " 'allow_oblique_splits': False,\n",
              " 'force_oblique_splits': False,\n",
              " 'max_oblique_features': 2,\n",
              " 'pivot_oblique_choice_features': None,\n",
              " 'approximation': False}"
            ]
          },
          "metadata": {},
          "execution_count": 192
        }
      ],
      "source": [
        "params_list = possible_configurations[-4]\n",
        "params_list"
      ]
    },
    {
      "cell_type": "code",
      "execution_count": 193,
      "metadata": {
        "id": "hmHLmhp0NYdj"
      },
      "outputs": [],
      "source": [
        "pairwise_dist_matrix = pairwise_distances(train_embeddings, metric = 'euclidean')"
      ]
    },
    {
      "cell_type": "code",
      "execution_count": 194,
      "metadata": {
        "id": "zewUQqBbMy5j"
      },
      "outputs": [],
      "source": [
        "pivot_tree, prototypes, time_selection = pivot_tree_selection(params_list, pairwise_dist_matrix, train_embeddings, y_train, random_state = 0)"
      ]
    },
    {
      "cell_type": "code",
      "execution_count": 195,
      "metadata": {
        "id": "bd0e8I7gNurx",
        "colab": {
          "base_uri": "https://localhost:8080/"
        },
        "outputId": "80fe459b-d28b-4578-9466-58d764c535c4"
      },
      "outputs": [
        {
          "output_type": "stream",
          "name": "stdout",
          "text": [
            "PivotTree\n",
            "[(True, ['node_id: 0  pivot: 574'], [1.0], 127.90208053588867, False, 0), (False, 0, 103, 0.103, 1, 1), (True, ['node_id: 2  pivot: 65'], [1.0], 163.16980743408203, False, 1), (False, 1, 103, 0.103, 5, 2), (True, ['node_id: 6  pivot: 351'], [1.0], 118.9583625793457, False, 2), (True, ['node_id: 9  pivot: 308'], [1.0], 121.63386535644531, False, 3), (False, 4, 99, 0.099, 13, 4), (False, 3, 3, 0.003, 14, 4), (True, ['node_id: 10  pivot: 781'], [1.0], 109.68937683105469, False, 3), (False, 5, 103, 0.103, 15, 4), (False, 2, 589, 0.589, 16, 4)]\n",
            "|-+ if node_id: 0  pivot: 574 <= 127.9:\n",
            "  |--> label: 0 (103, 0.1)\n",
            "  |-+ if node_id: 2  pivot: 65 <= 163.17:\n",
            "    |--> label: 1 (103, 0.1)\n",
            "    |-+ if node_id: 6  pivot: 351 <= 118.96:\n",
            "      |-+ if node_id: 9  pivot: 308 <= 121.63:\n",
            "        |--> label: 4 (99, 0.1)\n",
            "        |--> label: 3 (3, 0.0)\n",
            "      |-+ if node_id: 10  pivot: 781 <= 109.69:\n",
            "        |--> label: 5 (103, 0.1)\n",
            "        |--> label: 2 (589, 0.59)\n",
            "\n",
            "\n",
            "Accuracy 0.017\n"
          ]
        }
      ],
      "source": [
        "print('PivotTree')\n",
        "print(pivot_tree.print_tree())\n",
        "print('')\n",
        "\n",
        "y_pred = pivot_tree.predict(test_embeddings)\n",
        "print('Accuracy', accuracy_score(y_test, y_pred))"
      ]
    },
    {
      "cell_type": "code",
      "execution_count": 196,
      "metadata": {
        "id": "m3cg_T_vNyS9",
        "colab": {
          "base_uri": "https://localhost:8080/"
        },
        "outputId": "b48c713e-dc7e-484d-8833-b672b9dee350"
      },
      "outputs": [
        {
          "output_type": "execute_result",
          "data": {
            "text/plain": [
              "5"
            ]
          },
          "metadata": {},
          "execution_count": 196
        }
      ],
      "source": [
        "len(prototypes['X_pivots_discriminative_descriptive'])\n",
        "len(prototypes['X_pivots_used'])"
      ]
    },
    {
      "cell_type": "code",
      "execution_count": 197,
      "metadata": {
        "id": "lQ2sPCxAPjoJ",
        "colab": {
          "base_uri": "https://localhost:8080/"
        },
        "outputId": "0828336c-b563-4de0-a353-94097460f75a"
      },
      "outputs": [
        {
          "output_type": "execute_result",
          "data": {
            "text/plain": [
              "[65, 308, 351, 574, 781]"
            ]
          },
          "metadata": {},
          "execution_count": 197
        }
      ],
      "source": [
        "idxs = []\n",
        "for i, x in enumerate(train_embeddings):\n",
        "  if list(x) in [list(k) for k in prototypes['X_pivots_used']]:\n",
        "    idxs += [i]\n",
        "\n",
        "idxs"
      ]
    },
    {
      "cell_type": "code",
      "execution_count": 198,
      "metadata": {
        "id": "rX9UOB7NQU9F",
        "colab": {
          "base_uri": "https://localhost:8080/",
          "height": 1000
        },
        "outputId": "90df3e1d-e054-4e7b-ecac-e7426a07fe63"
      },
      "outputs": [
        {
          "output_type": "stream",
          "name": "stdout",
          "text": [
            "2 bird\n"
          ]
        },
        {
          "output_type": "display_data",
          "data": {
            "text/plain": [
              "<Figure size 640x480 with 1 Axes>"
            ],
            "image/png": "[encoded data removed]"
          },
          "metadata": {}
        },
        {
          "output_type": "stream",
          "name": "stdout",
          "text": [
            "7 horse\n"
          ]
        },
        {
          "output_type": "display_data",
          "data": {
            "text/plain": [
              "<Figure size 640x480 with 1 Axes>"
            ],
            "image/png": "[encoded data removed]"
          },
          "metadata": {}
        },
        {
          "output_type": "stream",
          "name": "stdout",
          "text": [
            "7 horse\n"
          ]
        },
        {
          "output_type": "display_data",
          "data": {
            "text/plain": [
              "<Figure size 640x480 with 1 Axes>"
            ],
            "image/png": "[encoded data removed]"
          },
          "metadata": {}
        },
        {
          "output_type": "stream",
          "name": "stdout",
          "text": [
            "1 car\n"
          ]
        },
        {
          "output_type": "display_data",
          "data": {
            "text/plain": [
              "<Figure size 640x480 with 1 Axes>"
            ],
            "image/png": "[encoded data removed]"
          },
          "metadata": {}
        },
        {
          "output_type": "stream",
          "name": "stdout",
          "text": [
            "9 truck\n"
          ]
        },
        {
          "output_type": "display_data",
          "data": {
            "text/plain": [
              "<Figure size 640x480 with 1 Axes>"
            ],
            "image/png": "[encoded data removed]"
          },
          "metadata": {}
        }
      ],
      "source": [
        "for id in idxs:\n",
        "  plt.imshow(X_train[id], interpolation='nearest')\n",
        "  print(y_train[id], classes_dict[y_train[id]])\n",
        "  plt.xticks([])\n",
        "  plt.yticks([])\n",
        "  num_piv = id\n",
        "\n",
        "  plt.title(f\"{classes_dict[y_train[id]]} - $p_{{{num_piv}}}$\", fontsize=36)\n",
        "\n",
        "  plt.savefig(str(id) + '_' + 'img_pivots.png', format = 'png', bbox_inches = 'tight' , dpi = 300)\n",
        "\n",
        "  plt.show()"
      ]
    },
    {
      "cell_type": "code",
      "execution_count": 199,
      "metadata": {
        "id": "Px00dEqpOllg"
      },
      "outputs": [],
      "source": [
        "X_pivots_name = 'X_pivots_used'"
      ]
    },
    {
      "cell_type": "code",
      "execution_count": 200,
      "metadata": {
        "id": "uj93PhgSN9RQ"
      },
      "outputs": [],
      "source": [
        "#train a decision tree on the mapped space\n",
        "X_train_reduced, time_pairwise_training = pariwise_computation(train_embeddings, prototypes[X_pivots_name], metric) #reduce training set\n",
        "X_test_reduced, time_pairwise_test =  pariwise_computation(test_embeddings, prototypes[X_pivots_name], metric) #reduce validation set"
      ]
    },
    {
      "cell_type": "code",
      "execution_count": 201,
      "metadata": {
        "id": "EOMPMu6qOtrl"
      },
      "outputs": [],
      "source": [
        "knn = KNeighborsClassifier(n_neighbors=5, metric = metric)\n",
        "knn.fit(X_train_reduced, y_train)\n",
        "predictions = knn.predict(X_test_reduced)\n",
        "KNN_score_dict = compute_score(y_test, predictions)"
      ]
    },
    {
      "cell_type": "code",
      "execution_count": 202,
      "metadata": {
        "id": "9SXvpLEmPIsQ",
        "colab": {
          "base_uri": "https://localhost:8080/"
        },
        "outputId": "4e3b8e10-8934-49c5-8199-4b3478ddffb0"
      },
      "outputs": [
        {
          "output_type": "execute_result",
          "data": {
            "text/plain": [
              "{'balanced_accuracy_score': 0.6543904136025989,\n",
              " 'f1_score': 0.6585685853001801,\n",
              " 'accuracy_score': 0.654,\n",
              " 'precision_score': 0.6680338243118944,\n",
              " 'recall_score': 0.6543904136025989}"
            ]
          },
          "metadata": {},
          "execution_count": 202
        }
      ],
      "source": [
        "KNN_score_dict"
      ]
    },
    {
      "cell_type": "code",
      "execution_count": 203,
      "metadata": {
        "id": "N7DPw5rEOukS",
        "colab": {
          "base_uri": "https://localhost:8080/"
        },
        "outputId": "b0a27575-e930-4e20-de65-c509bca58016"
      },
      "outputs": [
        {
          "output_type": "stream",
          "name": "stderr",
          "text": [
            "/usr/local/lib/python3.10/dist-packages/sklearn/metrics/_classification.py:1344: UndefinedMetricWarning: Precision is ill-defined and being set to 0.0 in labels with no predicted samples. Use `zero_division` parameter to control this behavior.\n",
            "  _warn_prf(average, modifier, msg_start, len(result))\n"
          ]
        }
      ],
      "source": [
        "dt = DecisionTreeClassifier(max_depth = 4, min_samples_leaf = 3, min_samples_split = 5, random_state = 0)\n",
        "dt.fit(X_train_reduced, y_train)\n",
        "predictions = dt.predict(X_test_reduced)\n",
        "DT_score_dict = compute_score(y_test, predictions)"
      ]
    },
    {
      "cell_type": "code",
      "execution_count": 204,
      "metadata": {
        "id": "5nvq4sVSPbpR",
        "colab": {
          "base_uri": "https://localhost:8080/"
        },
        "outputId": "9427fe25-309e-4d28-c0b4-b5654ca193a2"
      },
      "outputs": [
        {
          "output_type": "execute_result",
          "data": {
            "text/plain": [
              "{'balanced_accuracy_score': 0.45547467149148935,\n",
              " 'f1_score': 0.3915424690260926,\n",
              " 'accuracy_score': 0.453,\n",
              " 'precision_score': 0.42788771847052187,\n",
              " 'recall_score': 0.45547467149148935}"
            ]
          },
          "metadata": {},
          "execution_count": 204
        }
      ],
      "source": [
        "DT_score_dict"
      ]
    },
    {
      "cell_type": "code",
      "execution_count": 205,
      "metadata": {
        "id": "-GA0_XPHPb6v"
      },
      "outputs": [],
      "source": [
        "from sklearn.datasets import load_iris\n",
        "from sklearn.model_selection import train_test_split\n",
        "from sklearn.tree import export_text\n"
      ]
    },
    {
      "cell_type": "code",
      "execution_count": 206,
      "metadata": {
        "id": "BMg8-rTzQl7J",
        "colab": {
          "base_uri": "https://localhost:8080/"
        },
        "outputId": "fa723aa1-03c4-43ff-a24d-21f2a80ad1cf"
      },
      "outputs": [
        {
          "output_type": "stream",
          "name": "stdout",
          "text": [
            "DecisionTreeClassifier\n",
            "|--- 65 <= 127.90\n",
            "|   |--- 308 <= 213.21\n",
            "|   |   |--- 574 <= 151.23\n",
            "|   |   |   |--- class: 1\n",
            "|   |   |--- 574 >  151.23\n",
            "|   |   |   |--- class: 1\n",
            "|   |--- 308 >  213.21\n",
            "|   |   |--- class: 1\n",
            "|--- 65 >  127.90\n",
            "|   |--- 308 <= 163.17\n",
            "|   |   |--- 308 <= 161.79\n",
            "|   |   |   |--- 781 <= 157.24\n",
            "|   |   |   |   |--- class: 2\n",
            "|   |   |   |--- 781 >  157.24\n",
            "|   |   |   |   |--- class: 2\n",
            "|   |   |--- 308 >  161.79\n",
            "|   |   |   |--- class: 2\n",
            "|   |--- 308 >  163.17\n",
            "|   |   |--- 351 <= 118.96\n",
            "|   |   |   |--- 574 <= 121.63\n",
            "|   |   |   |   |--- class: 7\n",
            "|   |   |   |--- 574 >  121.63\n",
            "|   |   |   |   |--- class: 4\n",
            "|   |   |--- 351 >  118.96\n",
            "|   |   |   |--- 781 <= 109.69\n",
            "|   |   |   |   |--- class: 9\n",
            "|   |   |   |--- 781 >  109.69\n",
            "|   |   |   |   |--- class: 3\n",
            "\n",
            "\n"
          ]
        }
      ],
      "source": [
        "print('DecisionTreeClassifier')\n",
        "print(export_text(dt, feature_names=idxs))\n",
        "print('')"
      ]
    },
    {
      "cell_type": "code",
      "execution_count": 207,
      "metadata": {
        "id": "8E9PWE0ueOAO"
      },
      "outputs": [],
      "source": [
        "ids_test = [x for x in range(1000) if y_test[x] == 2]\n",
        "#ids_test"
      ]
    },
    {
      "cell_type": "code",
      "execution_count": 208,
      "metadata": {
        "colab": {
          "base_uri": "https://localhost:8080/",
          "height": 471
        },
        "id": "apvw9cAUQsiy",
        "outputId": "ec9eea70-ea33-4885-e618-14d02567dede"
      },
      "outputs": [
        {
          "output_type": "stream",
          "name": "stdout",
          "text": [
            "2 bird\n"
          ]
        },
        {
          "output_type": "display_data",
          "data": {
            "text/plain": [
              "<Figure size 640x480 with 1 Axes>"
            ],
            "image/png": "[encoded data removed]"
          },
          "metadata": {}
        }
      ],
      "source": [
        "id_test = 447\n",
        "\n",
        "##500 vabenne\n",
        "\n",
        "plt.imshow(X_test[id_test], interpolation='nearest')\n",
        "print(y_test[id_test], classes_dict[y_test[id_test]])\n",
        "plt.xticks([])\n",
        "plt.yticks([])\n",
        "\n",
        "\n",
        "#plt.title(f\"{classes_dict[y_test[id_test]]} - $p_{{{id_test}}}$\", fontsize=36)\n",
        "plt.title(f\"{classes_dict[y_test[id_test]]} - test\", fontsize=36)\n",
        "\n",
        "\n",
        "plt.savefig(str(id_test) + '_' + 'img_test_instance.png', format = 'png', bbox_inches = 'tight' , dpi = 300)\n",
        "plt.show()\n"
      ]
    },
    {
      "cell_type": "code",
      "execution_count": 209,
      "metadata": {
        "id": "Yy4ZKclleg6o"
      },
      "outputs": [],
      "source": [
        "for x in ids_test:\n",
        "  pred = knn.predict([X_test_reduced[x]])\n",
        "  if pred == y_test[x]:\n",
        "    1\n",
        "    #print(x)\n",
        "\n"
      ]
    },
    {
      "cell_type": "code",
      "execution_count": 210,
      "metadata": {
        "colab": {
          "base_uri": "https://localhost:8080/"
        },
        "id": "k9iyM_1PTmRy",
        "outputId": "3ec1e486-c260-445f-8c0a-39818651fa87"
      },
      "outputs": [
        {
          "output_type": "execute_result",
          "data": {
            "text/plain": [
              "array([2], dtype=uint8)"
            ]
          },
          "metadata": {},
          "execution_count": 210
        }
      ],
      "source": [
        "knn.predict([X_test_reduced[id_test]])"
      ]
    },
    {
      "cell_type": "code",
      "execution_count": 211,
      "metadata": {
        "id": "gaM6VkXwYLoN"
      },
      "outputs": [],
      "source": [
        "from sklearn.neighbors import NearestNeighbors"
      ]
    },
    {
      "cell_type": "code",
      "execution_count": 212,
      "metadata": {
        "colab": {
          "base_uri": "https://localhost:8080/",
          "height": 75
        },
        "id": "xsUtubB9YLqO",
        "outputId": "8fda5bc6-3716-4c9e-b0e6-2ab0e271f2ea"
      },
      "outputs": [
        {
          "output_type": "execute_result",
          "data": {
            "text/plain": [
              "NearestNeighbors()"
            ],
            "text/html": [
              "<style>#sk-container-id-6 {color: black;background-color: white;}#sk-container-id-6 pre{padding: 0;}#sk-container-id-6 div.sk-toggleable {background-color: white;}#sk-container-id-6 label.sk-toggleable__label {cursor: pointer;display: block;width: 100%;margin-bottom: 0;padding: 0.3em;box-sizing: border-box;text-align: center;}#sk-container-id-6 label.sk-toggleable__label-arrow:before {content: \"▸\";float: left;margin-right: 0.25em;color: #696969;}#sk-container-id-6 label.sk-toggleable__label-arrow:hover:before {color: black;}#sk-container-id-6 div.sk-estimator:hover label.sk-toggleable__label-arrow:before {color: black;}#sk-container-id-6 div.sk-toggleable__content {max-height: 0;max-width: 0;overflow: hidden;text-align: left;background-color: #f0f8ff;}#sk-container-id-6 div.sk-toggleable__content pre {margin: 0.2em;color: black;border-radius: 0.25em;background-color: #f0f8ff;}#sk-container-id-6 input.sk-toggleable__control:checked~div.sk-toggleable__content {max-height: 200px;max-width: 100%;overflow: auto;}#sk-container-id-6 input.sk-toggleable__control:checked~label.sk-toggleable__label-arrow:before {content: \"▾\";}#sk-container-id-6 div.sk-estimator input.sk-toggleable__control:checked~label.sk-toggleable__label {background-color: #d4ebff;}#sk-container-id-6 div.sk-label input.sk-toggleable__control:checked~label.sk-toggleable__label {background-color: #d4ebff;}#sk-container-id-6 input.sk-hidden--visually {border: 0;clip: rect(1px 1px 1px 1px);clip: rect(1px, 1px, 1px, 1px);height: 1px;margin: -1px;overflow: hidden;padding: 0;position: absolute;width: 1px;}#sk-container-id-6 div.sk-estimator {font-family: monospace;background-color: #f0f8ff;border: 1px dotted black;border-radius: 0.25em;box-sizing: border-box;margin-bottom: 0.5em;}#sk-container-id-6 div.sk-estimator:hover {background-color: #d4ebff;}#sk-container-id-6 div.sk-parallel-item::after {content: \"\";width: 100%;border-bottom: 1px solid gray;flex-grow: 1;}#sk-container-id-6 div.sk-label:hover label.sk-toggleable__label {background-color: #d4ebff;}#sk-container-id-6 div.sk-serial::before {content: \"\";position: absolute;border-left: 1px solid gray;box-sizing: border-box;top: 0;bottom: 0;left: 50%;z-index: 0;}#sk-container-id-6 div.sk-serial {display: flex;flex-direction: column;align-items: center;background-color: white;padding-right: 0.2em;padding-left: 0.2em;position: relative;}#sk-container-id-6 div.sk-item {position: relative;z-index: 1;}#sk-container-id-6 div.sk-parallel {display: flex;align-items: stretch;justify-content: center;background-color: white;position: relative;}#sk-container-id-6 div.sk-item::before, #sk-container-id-6 div.sk-parallel-item::before {content: \"\";position: absolute;border-left: 1px solid gray;box-sizing: border-box;top: 0;bottom: 0;left: 50%;z-index: -1;}#sk-container-id-6 div.sk-parallel-item {display: flex;flex-direction: column;z-index: 1;position: relative;background-color: white;}#sk-container-id-6 div.sk-parallel-item:first-child::after {align-self: flex-end;width: 50%;}#sk-container-id-6 div.sk-parallel-item:last-child::after {align-self: flex-start;width: 50%;}#sk-container-id-6 div.sk-parallel-item:only-child::after {width: 0;}#sk-container-id-6 div.sk-dashed-wrapped {border: 1px dashed gray;margin: 0 0.4em 0.5em 0.4em;box-sizing: border-box;padding-bottom: 0.4em;background-color: white;}#sk-container-id-6 div.sk-label label {font-family: monospace;font-weight: bold;display: inline-block;line-height: 1.2em;}#sk-container-id-6 div.sk-label-container {text-align: center;}#sk-container-id-6 div.sk-container {/* jupyter's `normalize.less` sets `[hidden] { display: none; }` but bootstrap.min.css set `[hidden] { display: none !important; }` so we also need the `!important` here to be able to override the default hidden behavior on the sphinx rendered scikit-learn.org. See: https://github.com/scikit-learn/scikit-learn/issues/21755 */display: inline-block !important;position: relative;}#sk-container-id-6 div.sk-text-repr-fallback {display: none;}</style><div id=\"sk-container-id-6\" class=\"sk-top-container\"><div class=\"sk-text-repr-fallback\"><pre>NearestNeighbors()</pre><b>In a Jupyter environment, please rerun this cell to show the HTML representation or trust the notebook. <br />On GitHub, the HTML representation is unable to render, please try loading this page with nbviewer.org.</b></div><div class=\"sk-container\" hidden><div class=\"sk-item\"><div class=\"sk-estimator sk-toggleable\"><input class=\"sk-toggleable__control sk-hidden--visually\" id=\"sk-estimator-id-6\" type=\"checkbox\" checked><label for=\"sk-estimator-id-6\" class=\"sk-toggleable__label sk-toggleable__label-arrow\">NearestNeighbors</label><div class=\"sk-toggleable__content\"><pre>NearestNeighbors()</pre></div></div></div></div></div>"
            ]
          },
          "metadata": {},
          "execution_count": 212
        }
      ],
      "source": [
        "neigh = NearestNeighbors(n_neighbors=5, radius=1.0)\n",
        "neigh.fit(X_train_reduced)"
      ]
    },
    {
      "cell_type": "code",
      "execution_count": 213,
      "metadata": {
        "colab": {
          "base_uri": "https://localhost:8080/"
        },
        "id": "AzyYwzhGYLsH",
        "outputId": "76f33ffa-4ee5-4a54-d431-8018f7252a88"
      },
      "outputs": [
        {
          "output_type": "execute_result",
          "data": {
            "text/plain": [
              "(array([[20.55221412, 24.42530279, 24.42947128, 24.65075312, 27.90356703]]),\n",
              " array([[105, 441, 977, 410, 501]]))"
            ]
          },
          "metadata": {},
          "execution_count": 213
        }
      ],
      "source": [
        "indxs_nearest = neigh.kneighbors([X_test_reduced[id_test]], 5, return_distance=True)\n",
        "indxs_nearest"
      ]
    },
    {
      "cell_type": "code",
      "execution_count": 214,
      "metadata": {
        "colab": {
          "base_uri": "https://localhost:8080/",
          "height": 1000
        },
        "id": "pv9ezXo-YLup",
        "outputId": "cf587fe4-3999-4591-842b-8eaf8e588cd8"
      },
      "outputs": [
        {
          "output_type": "stream",
          "name": "stdout",
          "text": [
            "2 bird\n"
          ]
        },
        {
          "output_type": "display_data",
          "data": {
            "text/plain": [
              "<Figure size 640x480 with 1 Axes>"
            ],
            "image/png": "[encoded data removed]"
          },
          "metadata": {}
        },
        {
          "output_type": "stream",
          "name": "stdout",
          "text": [
            "2 bird\n"
          ]
        },
        {
          "output_type": "display_data",
          "data": {
            "text/plain": [
              "<Figure size 640x480 with 1 Axes>"
            ],
            "image/png": "[encoded data removed]"
          },
          "metadata": {}
        },
        {
          "output_type": "stream",
          "name": "stdout",
          "text": [
            "2 bird\n"
          ]
        },
        {
          "output_type": "display_data",
          "data": {
            "text/plain": [
              "<Figure size 640x480 with 1 Axes>"
            ],
            "image/png": "[encoded data removed]"
          },
          "metadata": {}
        },
        {
          "output_type": "stream",
          "name": "stdout",
          "text": [
            "2 bird\n"
          ]
        },
        {
          "output_type": "display_data",
          "data": {
            "text/plain": [
              "<Figure size 640x480 with 1 Axes>"
            ],
            "image/png": "[encoded data removed]"
          },
          "metadata": {}
        },
        {
          "output_type": "stream",
          "name": "stdout",
          "text": [
            "2 bird\n"
          ]
        },
        {
          "output_type": "display_data",
          "data": {
            "text/plain": [
              "<Figure size 640x480 with 1 Axes>"
            ],
            "image/png": "[encoded data removed]"
          },
          "metadata": {}
        }
      ],
      "source": [
        "for id in indxs_nearest[1][0]:\n",
        "  plt.imshow(X_train[id], interpolation='nearest')\n",
        "  print(y_train[id], classes_dict[y_train[id]])\n",
        "  plt.xticks([])\n",
        "  plt.yticks([])\n",
        "\n",
        "\n",
        "  plt.title(f\"{classes_dict[y_train[id]]} - $k_{{{id}}}$\", fontsize=36)\n",
        "  plt.savefig(str(id) + '_' + 'img_neighs.png', format = 'png', bbox_inches = 'tight' , dpi = 300)\n",
        "\n",
        "  plt.show()"
      ]
    },
    {
      "cell_type": "code",
      "execution_count": 215,
      "metadata": {
        "id": "FmedLa50zLOP"
      },
      "outputs": [],
      "source": [
        "ids_test = [x for x in range(1000) if y_test[x] == 3]\n",
        "#ids_test"
      ]
    },
    {
      "cell_type": "code",
      "execution_count": 216,
      "metadata": {
        "colab": {
          "base_uri": "https://localhost:8080/"
        },
        "id": "XJAGiwnxzM7T",
        "outputId": "09a5d465-2369-48e7-d7a6-2cc57d29f347"
      },
      "outputs": [
        {
          "output_type": "execute_result",
          "data": {
            "text/plain": [
              "27"
            ]
          },
          "metadata": {},
          "execution_count": 216
        }
      ],
      "source": [
        "ids_test[3]"
      ]
    },
    {
      "cell_type": "code",
      "execution_count": 217,
      "metadata": {
        "colab": {
          "base_uri": "https://localhost:8080/",
          "height": 471
        },
        "id": "wF6oU1I1zLOS",
        "outputId": "8fd0bcb1-87fa-476c-ba4d-43bdf439f326"
      },
      "outputs": [
        {
          "output_type": "stream",
          "name": "stdout",
          "text": [
            "3 cat\n"
          ]
        },
        {
          "output_type": "display_data",
          "data": {
            "text/plain": [
              "<Figure size 640x480 with 1 Axes>"
            ],
            "image/png": "[encoded data removed]"
          },
          "metadata": {}
        }
      ],
      "source": [
        "id_test = 27\n",
        "\n",
        "##500 vabenne\n",
        "\n",
        "plt.imshow(X_test[id_test], interpolation='nearest')\n",
        "print(y_test[id_test], classes_dict[y_test[id_test]])\n",
        "plt.xticks([])\n",
        "plt.yticks([])\n",
        "\n",
        "\n",
        "plt.title(classes_dict[y_test[id_test]], fontsize = 36)\n",
        "plt.title(f\"{classes_dict[y_test[id_test]]} - test\", fontsize=36)\n",
        "\n",
        "plt.savefig(str(id_test) + '_' + 'img_test_instance.png', format = 'png', bbox_inches = 'tight' , dpi = 300)\n",
        "plt.show()\n"
      ]
    },
    {
      "cell_type": "code",
      "execution_count": 222,
      "metadata": {
        "colab": {
          "base_uri": "https://localhost:8080/"
        },
        "id": "SPoIXfo9zLOS",
        "outputId": "9d866766-95ba-424c-cb11-6e1a2a8b83e6"
      },
      "outputs": [
        {
          "output_type": "execute_result",
          "data": {
            "text/plain": [
              "array([3], dtype=uint8)"
            ]
          },
          "metadata": {},
          "execution_count": 222
        }
      ],
      "source": [
        "knn.predict([X_test_reduced[id_test]])"
      ]
    },
    {
      "cell_type": "code",
      "execution_count": 223,
      "metadata": {
        "id": "c2uVc_GUzLOT"
      },
      "outputs": [],
      "source": [
        "from sklearn.neighbors import NearestNeighbors"
      ]
    },
    {
      "cell_type": "code",
      "execution_count": 224,
      "metadata": {
        "colab": {
          "base_uri": "https://localhost:8080/",
          "height": 75
        },
        "id": "_bwlLqf-zLOT",
        "outputId": "7308a401-5f44-46e7-a2aa-c2b5d667438c"
      },
      "outputs": [
        {
          "output_type": "execute_result",
          "data": {
            "text/plain": [
              "NearestNeighbors()"
            ],
            "text/html": [
              "<style>#sk-container-id-8 {color: black;background-color: white;}#sk-container-id-8 pre{padding: 0;}#sk-container-id-8 div.sk-toggleable {background-color: white;}#sk-container-id-8 label.sk-toggleable__label {cursor: pointer;display: block;width: 100%;margin-bottom: 0;padding: 0.3em;box-sizing: border-box;text-align: center;}#sk-container-id-8 label.sk-toggleable__label-arrow:before {content: \"▸\";float: left;margin-right: 0.25em;color: #696969;}#sk-container-id-8 label.sk-toggleable__label-arrow:hover:before {color: black;}#sk-container-id-8 div.sk-estimator:hover label.sk-toggleable__label-arrow:before {color: black;}#sk-container-id-8 div.sk-toggleable__content {max-height: 0;max-width: 0;overflow: hidden;text-align: left;background-color: #f0f8ff;}#sk-container-id-8 div.sk-toggleable__content pre {margin: 0.2em;color: black;border-radius: 0.25em;background-color: #f0f8ff;}#sk-container-id-8 input.sk-toggleable__control:checked~div.sk-toggleable__content {max-height: 200px;max-width: 100%;overflow: auto;}#sk-container-id-8 input.sk-toggleable__control:checked~label.sk-toggleable__label-arrow:before {content: \"▾\";}#sk-container-id-8 div.sk-estimator input.sk-toggleable__control:checked~label.sk-toggleable__label {background-color: #d4ebff;}#sk-container-id-8 div.sk-label input.sk-toggleable__control:checked~label.sk-toggleable__label {background-color: #d4ebff;}#sk-container-id-8 input.sk-hidden--visually {border: 0;clip: rect(1px 1px 1px 1px);clip: rect(1px, 1px, 1px, 1px);height: 1px;margin: -1px;overflow: hidden;padding: 0;position: absolute;width: 1px;}#sk-container-id-8 div.sk-estimator {font-family: monospace;background-color: #f0f8ff;border: 1px dotted black;border-radius: 0.25em;box-sizing: border-box;margin-bottom: 0.5em;}#sk-container-id-8 div.sk-estimator:hover {background-color: #d4ebff;}#sk-container-id-8 div.sk-parallel-item::after {content: \"\";width: 100%;border-bottom: 1px solid gray;flex-grow: 1;}#sk-container-id-8 div.sk-label:hover label.sk-toggleable__label {background-color: #d4ebff;}#sk-container-id-8 div.sk-serial::before {content: \"\";position: absolute;border-left: 1px solid gray;box-sizing: border-box;top: 0;bottom: 0;left: 50%;z-index: 0;}#sk-container-id-8 div.sk-serial {display: flex;flex-direction: column;align-items: center;background-color: white;padding-right: 0.2em;padding-left: 0.2em;position: relative;}#sk-container-id-8 div.sk-item {position: relative;z-index: 1;}#sk-container-id-8 div.sk-parallel {display: flex;align-items: stretch;justify-content: center;background-color: white;position: relative;}#sk-container-id-8 div.sk-item::before, #sk-container-id-8 div.sk-parallel-item::before {content: \"\";position: absolute;border-left: 1px solid gray;box-sizing: border-box;top: 0;bottom: 0;left: 50%;z-index: -1;}#sk-container-id-8 div.sk-parallel-item {display: flex;flex-direction: column;z-index: 1;position: relative;background-color: white;}#sk-container-id-8 div.sk-parallel-item:first-child::after {align-self: flex-end;width: 50%;}#sk-container-id-8 div.sk-parallel-item:last-child::after {align-self: flex-start;width: 50%;}#sk-container-id-8 div.sk-parallel-item:only-child::after {width: 0;}#sk-container-id-8 div.sk-dashed-wrapped {border: 1px dashed gray;margin: 0 0.4em 0.5em 0.4em;box-sizing: border-box;padding-bottom: 0.4em;background-color: white;}#sk-container-id-8 div.sk-label label {font-family: monospace;font-weight: bold;display: inline-block;line-height: 1.2em;}#sk-container-id-8 div.sk-label-container {text-align: center;}#sk-container-id-8 div.sk-container {/* jupyter's `normalize.less` sets `[hidden] { display: none; }` but bootstrap.min.css set `[hidden] { display: none !important; }` so we also need the `!important` here to be able to override the default hidden behavior on the sphinx rendered scikit-learn.org. See: https://github.com/scikit-learn/scikit-learn/issues/21755 */display: inline-block !important;position: relative;}#sk-container-id-8 div.sk-text-repr-fallback {display: none;}</style><div id=\"sk-container-id-8\" class=\"sk-top-container\"><div class=\"sk-text-repr-fallback\"><pre>NearestNeighbors()</pre><b>In a Jupyter environment, please rerun this cell to show the HTML representation or trust the notebook. <br />On GitHub, the HTML representation is unable to render, please try loading this page with nbviewer.org.</b></div><div class=\"sk-container\" hidden><div class=\"sk-item\"><div class=\"sk-estimator sk-toggleable\"><input class=\"sk-toggleable__control sk-hidden--visually\" id=\"sk-estimator-id-8\" type=\"checkbox\" checked><label for=\"sk-estimator-id-8\" class=\"sk-toggleable__label sk-toggleable__label-arrow\">NearestNeighbors</label><div class=\"sk-toggleable__content\"><pre>NearestNeighbors()</pre></div></div></div></div></div>"
            ]
          },
          "metadata": {},
          "execution_count": 224
        }
      ],
      "source": [
        "neigh = NearestNeighbors(n_neighbors=5, radius=1.0)\n",
        "neigh.fit(X_train_reduced)"
      ]
    },
    {
      "cell_type": "code",
      "execution_count": 225,
      "metadata": {
        "colab": {
          "base_uri": "https://localhost:8080/"
        },
        "id": "9Ndq4MpDzLOT",
        "outputId": "c728e9c0-4032-426b-9c43-0ad1114f13eb"
      },
      "outputs": [
        {
          "output_type": "execute_result",
          "data": {
            "text/plain": [
              "(array([[10.02588916, 10.21167201, 10.56053898, 11.29363051, 11.50749316]]),\n",
              " array([[573, 115, 285,   8,  99]]))"
            ]
          },
          "metadata": {},
          "execution_count": 225
        }
      ],
      "source": [
        "indxs_nearest = neigh.kneighbors([X_test_reduced[id_test]], 5, return_distance=True)\n",
        "indxs_nearest"
      ]
    },
    {
      "cell_type": "code",
      "execution_count": 226,
      "metadata": {
        "colab": {
          "base_uri": "https://localhost:8080/",
          "height": 1000
        },
        "id": "hMKKKIHSzLOT",
        "outputId": "4a282c2e-61f8-4c94-8351-f2d0143f2089"
      },
      "outputs": [
        {
          "output_type": "stream",
          "name": "stdout",
          "text": [
            "4 deer\n"
          ]
        },
        {
          "output_type": "display_data",
          "data": {
            "text/plain": [
              "<Figure size 640x480 with 1 Axes>"
            ],
            "image/png": "[encoded data removed]"
          },
          "metadata": {}
        },
        {
          "output_type": "stream",
          "name": "stdout",
          "text": [
            "4 deer\n"
          ]
        },
        {
          "output_type": "display_data",
          "data": {
            "text/plain": [
              "<Figure size 640x480 with 1 Axes>"
            ],
            "image/png": "[encoded data removed]"
          },
          "metadata": {}
        },
        {
          "output_type": "stream",
          "name": "stdout",
          "text": [
            "3 cat\n"
          ]
        },
        {
          "output_type": "display_data",
          "data": {
            "text/plain": [
              "<Figure size 640x480 with 1 Axes>"
            ],
            "image/png": "[encoded data removed]"
          },
          "metadata": {}
        },
        {
          "output_type": "stream",
          "name": "stdout",
          "text": [
            "3 cat\n"
          ]
        },
        {
          "output_type": "display_data",
          "data": {
            "text/plain": [
              "<Figure size 640x480 with 1 Axes>"
            ],
            "image/png": "[encoded data removed]"
          },
          "metadata": {}
        },
        {
          "output_type": "stream",
          "name": "stdout",
          "text": [
            "3 cat\n"
          ]
        },
        {
          "output_type": "display_data",
          "data": {
            "text/plain": [
              "<Figure size 640x480 with 1 Axes>"
            ],
            "image/png": "[encoded data removed]"
          },
          "metadata": {}
        }
      ],
      "source": [
        "for id in indxs_nearest[1][0]:\n",
        "  plt.imshow(X_train[id], interpolation='nearest')\n",
        "  print(y_train[id], classes_dict[y_train[id]])\n",
        "  plt.xticks([])\n",
        "  plt.yticks([])\n",
        "\n",
        "  plt.title(f\"{classes_dict[y_train[id]]} - $k_{{{id}}}$\", fontsize=36)\n",
        "\n",
        "\n",
        "  plt.savefig(str(id) + '_' + 'img_neighs.png', format = 'png', bbox_inches = 'tight' , dpi = 300)\n",
        "\n",
        "  plt.show()"
      ]
    },
    {
      "cell_type": "markdown",
      "metadata": {
        "id": "_vb5HJ5De8SQ"
      },
      "source": [
        "### Visualization with time series\n"
      ]
    },
    {
      "cell_type": "code",
      "execution_count": 323,
      "metadata": {
        "id": "RaOi0MxWe7ee"
      },
      "outputs": [],
      "source": [
        "from pyts.datasets import load_gunpoint"
      ]
    },
    {
      "cell_type": "code",
      "execution_count": 324,
      "metadata": {
        "id": "iUJLfo1se7gn"
      },
      "outputs": [],
      "source": [
        "X_train, X_test, y_train, y_test = load_gunpoint(return_X_y=True)"
      ]
    },
    {
      "cell_type": "code",
      "execution_count": 325,
      "metadata": {
        "colab": {
          "base_uri": "https://localhost:8080/"
        },
        "id": "l4J2luJNhu5s",
        "outputId": "115d969c-24e1-45a6-8624-0b2dcf7e75ee"
      },
      "outputs": [
        {
          "output_type": "execute_result",
          "data": {
            "text/plain": [
              "array([1, 1, 0, 0, 1, 1, 1, 1, 1, 0, 0, 0, 0, 0, 1, 0, 1, 1, 0, 1, 0, 0,\n",
              "       0, 1, 0, 1, 0, 0, 1, 0, 0, 1, 1, 0, 1, 0, 1, 1, 1, 1, 1, 0, 0, 0,\n",
              "       1, 1, 0, 1, 0, 1])"
            ]
          },
          "metadata": {},
          "execution_count": 325
        }
      ],
      "source": [
        "y_train = y_train - 1\n",
        "y_test = y_test - 1\n",
        "y_train"
      ]
    },
    {
      "cell_type": "code",
      "execution_count": 326,
      "metadata": {
        "colab": {
          "base_uri": "https://localhost:8080/"
        },
        "id": "ozC4T3O8e7jC",
        "outputId": "ebd857fa-543e-4091-fcf5-5f1ef2092f01"
      },
      "outputs": [
        {
          "output_type": "execute_result",
          "data": {
            "text/plain": [
              "(50, 150)"
            ]
          },
          "metadata": {},
          "execution_count": 326
        }
      ],
      "source": [
        "X_train.shape"
      ]
    },
    {
      "cell_type": "code",
      "execution_count": 327,
      "metadata": {
        "id": "djO5Iv0Ahdkr"
      },
      "outputs": [],
      "source": [
        "classes_dict = {0 : 'gun', 1 : 'no gun'}"
      ]
    },
    {
      "cell_type": "code",
      "execution_count": 328,
      "metadata": {
        "id": "D1nPHSnIgadS"
      },
      "outputs": [],
      "source": [
        "approximation = False\n",
        "metric = 'euclidean'\n",
        "#pivot Tree parameters that are relevant for us\n",
        "configurations = {'max_depth': [2,3,4],\n",
        "                  'allow_oblique_splits' : [False],\n",
        "                  'force_oblique_splits': [False],\n",
        "                  'max_oblique_features' : [2],\n",
        "                  'pivot_oblique_choice_features' : [None,2,3,4],\n",
        "                  'approximation' : [approximation]\n",
        "                 }\n",
        "\n",
        "possible_configurations = [x for x in generate_param_configurations(configurations)]\n"
      ]
    },
    {
      "cell_type": "code",
      "execution_count": 329,
      "metadata": {
        "colab": {
          "base_uri": "https://localhost:8080/"
        },
        "id": "ScVOWrr4gadT",
        "outputId": "d82c015c-dab9-4cb3-b596-16a8c1127941"
      },
      "outputs": [
        {
          "output_type": "execute_result",
          "data": {
            "text/plain": [
              "{'max_depth': 4,\n",
              " 'allow_oblique_splits': False,\n",
              " 'force_oblique_splits': False,\n",
              " 'max_oblique_features': 2,\n",
              " 'pivot_oblique_choice_features': None,\n",
              " 'approximation': False}"
            ]
          },
          "metadata": {},
          "execution_count": 329
        }
      ],
      "source": [
        "params_list = possible_configurations[-4]\n",
        "params_list"
      ]
    },
    {
      "cell_type": "code",
      "execution_count": 330,
      "metadata": {
        "id": "07p5oMQ8gadU"
      },
      "outputs": [],
      "source": [
        "pairwise_dist_matrix = pairwise_distances(X_train, metric = 'euclidean')"
      ]
    },
    {
      "cell_type": "code",
      "execution_count": 331,
      "metadata": {
        "id": "gNqE-LiLgadU"
      },
      "outputs": [],
      "source": [
        "pivot_tree, prototypes, time_selection = pivot_tree_selection(params_list, pairwise_dist_matrix, X_train, y_train, random_state = 7)"
      ]
    },
    {
      "cell_type": "code",
      "execution_count": 332,
      "metadata": {
        "colab": {
          "base_uri": "https://localhost:8080/"
        },
        "id": "4r7fpSqkgadU",
        "outputId": "040f280e-8c6c-4d64-e10c-548cf50f29b4"
      },
      "outputs": [
        {
          "output_type": "stream",
          "name": "stdout",
          "text": [
            "PivotTree\n",
            "[(True, ['node_id: 0  pivot: 10'], [1.0], 6.237068176269531, False, 0), (True, ['node_id: 1  pivot: 45'], [1.0], 1.3805697560310364, False, 1), (False, 1, 3, 0.06, 3, 2), (False, 0, 17, 0.34, 4, 2), (True, ['node_id: 2  pivot: 41'], [1.0], 6.682602643966675, False, 1), (False, 0, 6, 0.12, 5, 2), (False, 1, 24, 0.48, 6, 2)]\n",
            "|-+ if node_id: 0  pivot: 10 <= 6.24:\n",
            "  |-+ if node_id: 1  pivot: 45 <= 1.38:\n",
            "    |--> label: 1 (3, 0.06)\n",
            "    |--> label: 0 (17, 0.34)\n",
            "  |-+ if node_id: 2  pivot: 41 <= 6.68:\n",
            "    |--> label: 0 (6, 0.12)\n",
            "    |--> label: 1 (24, 0.48)\n",
            "\n",
            "\n",
            "Accuracy 0.8066666666666666\n"
          ]
        }
      ],
      "source": [
        "print('PivotTree')\n",
        "print(pivot_tree.print_tree())\n",
        "print('')\n",
        "\n",
        "y_pred = pivot_tree.predict(X_test)\n",
        "print('Accuracy', accuracy_score(y_test, y_pred))"
      ]
    },
    {
      "cell_type": "code",
      "execution_count": 333,
      "metadata": {
        "colab": {
          "base_uri": "https://localhost:8080/"
        },
        "id": "3K-RqU6ChPqV",
        "outputId": "3ca0c532-3904-447c-919c-a6ed159f90e9"
      },
      "outputs": [
        {
          "output_type": "execute_result",
          "data": {
            "text/plain": [
              "3"
            ]
          },
          "metadata": {},
          "execution_count": 333
        }
      ],
      "source": [
        "len(prototypes['X_pivots_discriminative_descriptive'])\n",
        "len(prototypes['X_pivots_used'])"
      ]
    },
    {
      "cell_type": "code",
      "execution_count": 334,
      "metadata": {
        "colab": {
          "base_uri": "https://localhost:8080/"
        },
        "id": "FRLArSTehPqW",
        "outputId": "67806c9f-86c5-4d1f-c8bd-12da79c8d65f"
      },
      "outputs": [
        {
          "output_type": "execute_result",
          "data": {
            "text/plain": [
              "[10, 41, 45]"
            ]
          },
          "metadata": {},
          "execution_count": 334
        }
      ],
      "source": [
        "idxs = []\n",
        "for i, x in enumerate(X_train):\n",
        "  if list(x) in [list(k) for k in prototypes['X_pivots_used']]:\n",
        "    idxs += [i]\n",
        "\n",
        "idxs"
      ]
    },
    {
      "cell_type": "code",
      "execution_count": 335,
      "metadata": {
        "colab": {
          "base_uri": "https://localhost:8080/",
          "height": 320
        },
        "id": "UWKGHEfShPqX",
        "outputId": "ca90a49b-60dd-4ba1-df45-002120646ee9"
      },
      "outputs": [
        {
          "output_type": "stream",
          "name": "stdout",
          "text": [
            "0 gun\n",
            "0 gun\n",
            "1 no gun\n"
          ]
        },
        {
          "output_type": "display_data",
          "data": {
            "text/plain": [
              "<Figure size 400x300 with 1 Axes>"
            ],
            "image/png": "[encoded data removed]"
          },
          "metadata": {}
        }
      ],
      "source": [
        "plt.figure(figsize = (4,3))\n",
        "for i, id in enumerate(idxs):\n",
        "  class_ref =  classes_dict[y_train[id]]\n",
        " # plt.plot(X_train[id], lw = 3, label = r'$p_%s$ (%s)'%(id,class_ref), c = 'b' if 'no' in class_ref else 'g')\n",
        "  plt.plot(X_train[id], lw=3, label=f'$p_{{{id}}}$ ({class_ref})', c='b' if 'no' in class_ref else 'g')\n",
        "\n",
        "  print(y_train[id], classes_dict[y_train[id]])\n",
        "\n",
        "\n",
        "plt.xticks([])\n",
        "plt.yticks([])\n",
        "\n",
        "plt.legend(frameon = False, fontsize=16, handlelength  = 1, bbox_to_anchor=(0.5, 0., 1.18, 1.05))\n",
        "plt.savefig('ts_pivots.png', format = 'png', bbox_inches = 'tight' , dpi = 300)\n",
        "plt.show()"
      ]
    },
    {
      "cell_type": "code",
      "execution_count": 336,
      "metadata": {
        "id": "8K0lRbyujFQQ"
      },
      "outputs": [],
      "source": [
        "X_pivots_name = 'X_pivots_used'"
      ]
    },
    {
      "cell_type": "code",
      "execution_count": 337,
      "metadata": {
        "id": "UBRA9rBLjFQQ"
      },
      "outputs": [],
      "source": [
        "#train a decision tree on the mapped space\n",
        "X_train_reduced, time_pairwise_training = pariwise_computation(X_train, prototypes[X_pivots_name], metric) #reduce training set\n",
        "X_test_reduced, time_pairwise_test =  pariwise_computation(X_test, prototypes[X_pivots_name], metric) #reduce validation set"
      ]
    },
    {
      "cell_type": "code",
      "execution_count": 338,
      "metadata": {
        "id": "oa0FLaHdjFQQ"
      },
      "outputs": [],
      "source": [
        "knn = KNeighborsClassifier(n_neighbors=5, metric = metric)\n",
        "knn.fit(X_train_reduced, y_train)\n",
        "predictions = knn.predict(X_test_reduced)\n",
        "KNN_score_dict = compute_score(y_test, predictions)"
      ]
    },
    {
      "cell_type": "code",
      "execution_count": 339,
      "metadata": {
        "colab": {
          "base_uri": "https://localhost:8080/"
        },
        "id": "M637wgPijFQQ",
        "outputId": "480956ad-4aea-496a-b383-876b66923734"
      },
      "outputs": [
        {
          "output_type": "execute_result",
          "data": {
            "text/plain": [
              "{'balanced_accuracy_score': 0.7795163584637268,\n",
              " 'f1_score': 0.7795198432141107,\n",
              " 'accuracy_score': 0.78,\n",
              " 'precision_score': 0.7812667740203971,\n",
              " 'recall_score': 0.7795163584637268}"
            ]
          },
          "metadata": {},
          "execution_count": 339
        }
      ],
      "source": [
        "KNN_score_dict"
      ]
    },
    {
      "cell_type": "code",
      "execution_count": 340,
      "metadata": {
        "id": "UaykTX_4jFQR"
      },
      "outputs": [],
      "source": [
        "dt = DecisionTreeClassifier(max_depth = 4, min_samples_leaf = 3, min_samples_split = 5, random_state = 0)\n",
        "dt.fit(X_train_reduced, y_train)\n",
        "predictions = dt.predict(X_test_reduced)\n",
        "DT_score_dict = compute_score(y_test, predictions)"
      ]
    },
    {
      "cell_type": "code",
      "execution_count": 341,
      "metadata": {
        "colab": {
          "base_uri": "https://localhost:8080/"
        },
        "id": "VjQSy3ODjFQR",
        "outputId": "936ca482-8c4d-4f71-88f8-af4599030c2b"
      },
      "outputs": [
        {
          "output_type": "execute_result",
          "data": {
            "text/plain": [
              "{'balanced_accuracy_score': 0.7670697012802276,\n",
              " 'f1_score': 0.7665732959850606,\n",
              " 'accuracy_score': 0.7666666666666667,\n",
              " 'precision_score': 0.7677839187020858,\n",
              " 'recall_score': 0.7670697012802276}"
            ]
          },
          "metadata": {},
          "execution_count": 341
        }
      ],
      "source": [
        "DT_score_dict"
      ]
    },
    {
      "cell_type": "code",
      "execution_count": 342,
      "metadata": {
        "id": "P_lRVDvTjFQR"
      },
      "outputs": [],
      "source": [
        "from sklearn.datasets import load_iris\n",
        "from sklearn.model_selection import train_test_split\n",
        "from sklearn.tree import export_text\n"
      ]
    },
    {
      "cell_type": "code",
      "execution_count": 343,
      "metadata": {
        "colab": {
          "base_uri": "https://localhost:8080/"
        },
        "id": "9VUXIbO4jFQR",
        "outputId": "4cc3503d-3eeb-4aa9-febe-95cb7d132ba9"
      },
      "outputs": [
        {
          "output_type": "stream",
          "name": "stdout",
          "text": [
            "DecisionTreeClassifier\n",
            "|--- 10 <= 6.24\n",
            "|   |--- 45 <= 8.58\n",
            "|   |   |--- class: 0\n",
            "|   |--- 45 >  8.58\n",
            "|   |   |--- class: 1\n",
            "|--- 10 >  6.24\n",
            "|   |--- 45 <= 6.68\n",
            "|   |   |--- 41 <= 8.07\n",
            "|   |   |   |--- class: 0\n",
            "|   |   |--- 41 >  8.07\n",
            "|   |   |   |--- class: 0\n",
            "|   |--- 45 >  6.68\n",
            "|   |   |--- 41 <= 3.08\n",
            "|   |   |   |--- class: 1\n",
            "|   |   |--- 41 >  3.08\n",
            "|   |   |   |--- class: 1\n",
            "\n",
            "\n"
          ]
        }
      ],
      "source": [
        "print('DecisionTreeClassifier')\n",
        "print(export_text(dt, feature_names=idxs))\n",
        "print('')"
      ]
    },
    {
      "cell_type": "code",
      "execution_count": 344,
      "metadata": {
        "colab": {
          "base_uri": "https://localhost:8080/",
          "height": 285
        },
        "id": "tF6mthZzjV8U",
        "outputId": "127f0b65-bd02-4c25-c175-ba8061801d23"
      },
      "outputs": [
        {
          "output_type": "stream",
          "name": "stdout",
          "text": [
            "0 gun\n"
          ]
        },
        {
          "output_type": "display_data",
          "data": {
            "text/plain": [
              "<Figure size 400x300 with 1 Axes>"
            ],
            "image/png": "[encoded data removed]"
          },
          "metadata": {}
        }
      ],
      "source": [
        "id_test = 90\n",
        "\n",
        "\n",
        "plt.figure(figsize = (4,3))\n",
        "\n",
        "\n",
        "#plt.plot(X_test[id_test], lw = 3, label = f'$p_{{{id_test}}}$ ')\n",
        "\n",
        "#plt.plot(X_test[id_test], lw = 3, label=f'$p_{{{id_test}}}$' )\n",
        "#plt.plot(X_train[id], lw=3, label=f'$p_{{{id}}}$ ({class_ref})', c='b' if 'no' in class_ref else 'g')\n",
        "\n",
        "plt.plot(X_test[id_test], lw = 3, label = 'test')\n",
        "\n",
        "\n",
        "\n",
        "print(y_test[id_test], classes_dict[y_test[id_test]])\n",
        "\n",
        "plt.xticks([])\n",
        "plt.yticks([])\n",
        "\n",
        "plt.legend(frameon = False, fontsize = 16, handlelength  = 1)\n",
        "plt.savefig('ts_test_instance.png', format = 'png', bbox_inches = 'tight' , dpi = 300)\n",
        "plt.show()"
      ]
    },
    {
      "cell_type": "code",
      "execution_count": 345,
      "metadata": {
        "colab": {
          "base_uri": "https://localhost:8080/"
        },
        "id": "MpXaRoeBjV8U",
        "outputId": "e5c4c712-c3ea-45b6-c0a5-bf2a8e3ef547"
      },
      "outputs": [
        {
          "output_type": "execute_result",
          "data": {
            "text/plain": [
              "array([0])"
            ]
          },
          "metadata": {},
          "execution_count": 345
        }
      ],
      "source": [
        "knn.predict([X_test_reduced[id_test]])"
      ]
    },
    {
      "cell_type": "code",
      "execution_count": 346,
      "metadata": {
        "id": "f5evynV1jV8V"
      },
      "outputs": [],
      "source": [
        "from sklearn.neighbors import NearestNeighbors"
      ]
    },
    {
      "cell_type": "code",
      "execution_count": 347,
      "metadata": {
        "colab": {
          "base_uri": "https://localhost:8080/",
          "height": 75
        },
        "id": "upGilhTYjV8V",
        "outputId": "c514d94b-11fc-4c60-c42e-b977e3f3d319"
      },
      "outputs": [
        {
          "output_type": "execute_result",
          "data": {
            "text/plain": [
              "NearestNeighbors()"
            ],
            "text/html": [
              "<style>#sk-container-id-11 {color: black;background-color: white;}#sk-container-id-11 pre{padding: 0;}#sk-container-id-11 div.sk-toggleable {background-color: white;}#sk-container-id-11 label.sk-toggleable__label {cursor: pointer;display: block;width: 100%;margin-bottom: 0;padding: 0.3em;box-sizing: border-box;text-align: center;}#sk-container-id-11 label.sk-toggleable__label-arrow:before {content: \"▸\";float: left;margin-right: 0.25em;color: #696969;}#sk-container-id-11 label.sk-toggleable__label-arrow:hover:before {color: black;}#sk-container-id-11 div.sk-estimator:hover label.sk-toggleable__label-arrow:before {color: black;}#sk-container-id-11 div.sk-toggleable__content {max-height: 0;max-width: 0;overflow: hidden;text-align: left;background-color: #f0f8ff;}#sk-container-id-11 div.sk-toggleable__content pre {margin: 0.2em;color: black;border-radius: 0.25em;background-color: #f0f8ff;}#sk-container-id-11 input.sk-toggleable__control:checked~div.sk-toggleable__content {max-height: 200px;max-width: 100%;overflow: auto;}#sk-container-id-11 input.sk-toggleable__control:checked~label.sk-toggleable__label-arrow:before {content: \"▾\";}#sk-container-id-11 div.sk-estimator input.sk-toggleable__control:checked~label.sk-toggleable__label {background-color: #d4ebff;}#sk-container-id-11 div.sk-label input.sk-toggleable__control:checked~label.sk-toggleable__label {background-color: #d4ebff;}#sk-container-id-11 input.sk-hidden--visually {border: 0;clip: rect(1px 1px 1px 1px);clip: rect(1px, 1px, 1px, 1px);height: 1px;margin: -1px;overflow: hidden;padding: 0;position: absolute;width: 1px;}#sk-container-id-11 div.sk-estimator {font-family: monospace;background-color: #f0f8ff;border: 1px dotted black;border-radius: 0.25em;box-sizing: border-box;margin-bottom: 0.5em;}#sk-container-id-11 div.sk-estimator:hover {background-color: #d4ebff;}#sk-container-id-11 div.sk-parallel-item::after {content: \"\";width: 100%;border-bottom: 1px solid gray;flex-grow: 1;}#sk-container-id-11 div.sk-label:hover label.sk-toggleable__label {background-color: #d4ebff;}#sk-container-id-11 div.sk-serial::before {content: \"\";position: absolute;border-left: 1px solid gray;box-sizing: border-box;top: 0;bottom: 0;left: 50%;z-index: 0;}#sk-container-id-11 div.sk-serial {display: flex;flex-direction: column;align-items: center;background-color: white;padding-right: 0.2em;padding-left: 0.2em;position: relative;}#sk-container-id-11 div.sk-item {position: relative;z-index: 1;}#sk-container-id-11 div.sk-parallel {display: flex;align-items: stretch;justify-content: center;background-color: white;position: relative;}#sk-container-id-11 div.sk-item::before, #sk-container-id-11 div.sk-parallel-item::before {content: \"\";position: absolute;border-left: 1px solid gray;box-sizing: border-box;top: 0;bottom: 0;left: 50%;z-index: -1;}#sk-container-id-11 div.sk-parallel-item {display: flex;flex-direction: column;z-index: 1;position: relative;background-color: white;}#sk-container-id-11 div.sk-parallel-item:first-child::after {align-self: flex-end;width: 50%;}#sk-container-id-11 div.sk-parallel-item:last-child::after {align-self: flex-start;width: 50%;}#sk-container-id-11 div.sk-parallel-item:only-child::after {width: 0;}#sk-container-id-11 div.sk-dashed-wrapped {border: 1px dashed gray;margin: 0 0.4em 0.5em 0.4em;box-sizing: border-box;padding-bottom: 0.4em;background-color: white;}#sk-container-id-11 div.sk-label label {font-family: monospace;font-weight: bold;display: inline-block;line-height: 1.2em;}#sk-container-id-11 div.sk-label-container {text-align: center;}#sk-container-id-11 div.sk-container {/* jupyter's `normalize.less` sets `[hidden] { display: none; }` but bootstrap.min.css set `[hidden] { display: none !important; }` so we also need the `!important` here to be able to override the default hidden behavior on the sphinx rendered scikit-learn.org. See: https://github.com/scikit-learn/scikit-learn/issues/21755 */display: inline-block !important;position: relative;}#sk-container-id-11 div.sk-text-repr-fallback {display: none;}</style><div id=\"sk-container-id-11\" class=\"sk-top-container\"><div class=\"sk-text-repr-fallback\"><pre>NearestNeighbors()</pre><b>In a Jupyter environment, please rerun this cell to show the HTML representation or trust the notebook. <br />On GitHub, the HTML representation is unable to render, please try loading this page with nbviewer.org.</b></div><div class=\"sk-container\" hidden><div class=\"sk-item\"><div class=\"sk-estimator sk-toggleable\"><input class=\"sk-toggleable__control sk-hidden--visually\" id=\"sk-estimator-id-11\" type=\"checkbox\" checked><label for=\"sk-estimator-id-11\" class=\"sk-toggleable__label sk-toggleable__label-arrow\">NearestNeighbors</label><div class=\"sk-toggleable__content\"><pre>NearestNeighbors()</pre></div></div></div></div></div>"
            ]
          },
          "metadata": {},
          "execution_count": 347
        }
      ],
      "source": [
        "neigh = NearestNeighbors(n_neighbors=5, radius=1.0)\n",
        "neigh.fit(X_train_reduced)"
      ]
    },
    {
      "cell_type": "code",
      "execution_count": 348,
      "metadata": {
        "colab": {
          "base_uri": "https://localhost:8080/"
        },
        "id": "DGyw1tIVjV8V",
        "outputId": "bb0a3028-f798-40be-8b6d-1b5743a5b38d"
      },
      "outputs": [
        {
          "output_type": "execute_result",
          "data": {
            "text/plain": [
              "(array([[0.25408941, 0.29495518, 0.54487042, 0.83995863, 1.0352149 ]]),\n",
              " array([[34, 35, 24, 48, 37]]))"
            ]
          },
          "metadata": {},
          "execution_count": 348
        }
      ],
      "source": [
        "indxs_nearest = neigh.kneighbors([X_test_reduced[id_test]], 5, return_distance=True)\n",
        "indxs_nearest"
      ]
    },
    {
      "cell_type": "code",
      "execution_count": 349,
      "metadata": {
        "colab": {
          "base_uri": "https://localhost:8080/",
          "height": 355
        },
        "id": "bSVcTeg9jV8W",
        "outputId": "fdf86312-37cb-4172-80b4-8650fbdd263b"
      },
      "outputs": [
        {
          "output_type": "stream",
          "name": "stdout",
          "text": [
            "1 no gun\n",
            "0 gun\n",
            "0 gun\n",
            "0 gun\n",
            "1 no gun\n"
          ]
        },
        {
          "output_type": "display_data",
          "data": {
            "text/plain": [
              "<Figure size 400x300 with 1 Axes>"
            ],
            "image/png": "[encoded data removed]"
          },
          "metadata": {}
        }
      ],
      "source": [
        "plt.figure(figsize = (4,3))\n",
        "\n",
        "for i, id in enumerate(indxs_nearest[1][0]):\n",
        "  class_ref =  classes_dict[y_train[id]]\n",
        " # plt.plot(X_train[id], lw = 2, label = r'$x_%s$ (%s)'%(i,class_ref), c = 'b' if 'no' in class_ref else 'g')\n",
        "  plt.plot(X_train[id], lw=2, label=f'$k_{{{id}}}$ ({class_ref})', c='b' if 'no' in class_ref else 'g')\n",
        "\n",
        "\n",
        "  print(y_train[id], classes_dict[y_train[id]])\n",
        "\n",
        "\n",
        "\n",
        "plt.xticks([])\n",
        "plt.yticks([])\n",
        "\n",
        "plt.legend(frameon = False, fontsize=16, handlelength  = 1, bbox_to_anchor=(0.5, 0., 1.15, 1.05))\n",
        "plt.savefig('ts_neighs.png', format = 'png', bbox_inches = 'tight' , dpi = 300)\n",
        "plt.show()\n",
        "\n",
        "\n"
      ]
    },
    {
      "cell_type": "markdown",
      "metadata": {
        "id": "qM_X4-2k82VV"
      },
      "source": [
        "#### ECG"
      ]
    },
    {
      "cell_type": "code",
      "execution_count": 350,
      "metadata": {
        "id": "pn4nWeEI80fe"
      },
      "outputs": [],
      "source": [
        "df = pd.read_csv('ecg5000_vis.csv')\n",
        "X = df.drop('class', axis = 1).values\n",
        "y = np.array(df['class'])\n",
        "\n",
        "from sklearn.model_selection import train_test_split\n"
      ]
    },
    {
      "cell_type": "code",
      "execution_count": 351,
      "metadata": {
        "id": "XF3Wudm680ff"
      },
      "outputs": [],
      "source": [
        "X_train, X_test, y_train, y_test = train_test_split(X, y, test_size=0.33, random_state=42)"
      ]
    },
    {
      "cell_type": "code",
      "execution_count": 352,
      "metadata": {
        "colab": {
          "base_uri": "https://localhost:8080/"
        },
        "id": "bBny5GHO9cqJ",
        "outputId": "26f7600d-b643-4a5e-b918-13a21461c85a"
      },
      "outputs": [
        {
          "output_type": "execute_result",
          "data": {
            "text/plain": [
              "array([0, 1, 0, 0, 1, 0, 1, 1, 0, 0, 1, 1, 1, 1, 0, 0, 0, 1, 1, 2, 0, 2,\n",
              "       0, 1, 0, 0, 0, 1, 1, 0, 1, 1, 0, 0, 0, 0, 0, 0, 1, 0, 0, 0, 0, 0,\n",
              "       0, 0, 1, 0, 0, 1, 0, 1, 0, 3, 1, 1, 0, 0, 1, 0, 1, 1, 0, 0, 0, 1,\n",
              "       0, 1, 0, 0, 1, 0, 0, 0, 0, 1, 0, 1, 0, 1, 0, 0, 0, 0, 1, 0, 1, 0,\n",
              "       0, 0, 0, 1, 1, 3, 1, 0, 0, 0, 1, 0, 1, 1, 1, 0, 0, 0, 1, 0, 0, 1,\n",
              "       0, 3, 1, 0, 1, 0, 0, 1, 0, 0, 0, 1, 0, 1, 2, 0, 3, 0, 1, 1, 0, 0,\n",
              "       0, 1, 0, 0, 1, 0, 0, 0, 0, 3, 0, 0, 0, 0, 1, 0, 1, 0, 3, 1, 0, 1,\n",
              "       1, 0, 0, 0, 1, 0, 2, 1, 1, 1, 0, 0, 0, 0, 0, 1, 0, 0, 1, 1, 0, 1,\n",
              "       1, 0, 1, 0, 0, 0, 0, 1, 0, 0, 1, 0, 1, 1, 0, 1, 0, 0, 0, 1, 0, 0,\n",
              "       0, 0, 1, 0, 0, 0, 0, 1, 1, 1, 0, 0, 0, 1, 1, 0, 3, 0, 0, 0, 1, 0,\n",
              "       0, 1, 0, 0, 1, 1, 0, 1, 1, 1, 0, 1, 0, 1, 1, 0, 1, 0, 1, 0, 0, 0,\n",
              "       1, 0, 1, 1, 0, 0, 1, 0, 0, 0, 1, 0, 1, 0, 0, 1, 0, 0, 0, 0, 1, 0,\n",
              "       0, 0, 3, 0])"
            ]
          },
          "metadata": {},
          "execution_count": 352
        }
      ],
      "source": [
        "y_train"
      ]
    },
    {
      "cell_type": "code",
      "execution_count": 353,
      "metadata": {
        "colab": {
          "base_uri": "https://localhost:8080/"
        },
        "id": "DKZ3vPY780ff",
        "outputId": "d8755da8-957f-4454-a921-7110088af18e"
      },
      "outputs": [
        {
          "output_type": "execute_result",
          "data": {
            "text/plain": [
              "(268, 140)"
            ]
          },
          "metadata": {},
          "execution_count": 353
        }
      ],
      "source": [
        "X_train.shape"
      ]
    },
    {
      "cell_type": "code",
      "execution_count": 354,
      "metadata": {
        "id": "7PtP_icc80fg"
      },
      "outputs": [],
      "source": [
        "classes_dict = {0 : 'normal', 1 : 'R-on-T', 2 : 'sup_ecto', 3 : 'prem_ven', 4 : 'unclass'}\n",
        "classes_dict\n",
        "\n",
        "color_dict_ecg = {'normal' : 'b', 'R-on-T' : 'g', 'sup_ecto' : 'r', 3 : 'prem_ven', 4 : 'unclass'}\n"
      ]
    },
    {
      "cell_type": "code",
      "execution_count": 355,
      "metadata": {
        "id": "eEMfW9YT80fg"
      },
      "outputs": [],
      "source": [
        "approximation = False\n",
        "metric = 'euclidean'\n",
        "#pivot Tree parameters that are relevant for us\n",
        "configurations = {'max_depth': [2,3,4],\n",
        "                  'allow_oblique_splits' : [False],\n",
        "                  'force_oblique_splits': [False],\n",
        "                  'max_oblique_features' : [2],\n",
        "                  'pivot_oblique_choice_features' : [None,2,3,4],\n",
        "                  'approximation' : [approximation]\n",
        "                 }\n",
        "\n",
        "possible_configurations = [x for x in generate_param_configurations(configurations)]\n"
      ]
    },
    {
      "cell_type": "code",
      "execution_count": 356,
      "metadata": {
        "colab": {
          "base_uri": "https://localhost:8080/"
        },
        "id": "kL5JfqIs80fg",
        "outputId": "bdf4492c-047e-4f96-e030-f877a847b4fa"
      },
      "outputs": [
        {
          "output_type": "execute_result",
          "data": {
            "text/plain": [
              "{'max_depth': 4,\n",
              " 'allow_oblique_splits': False,\n",
              " 'force_oblique_splits': False,\n",
              " 'max_oblique_features': 2,\n",
              " 'pivot_oblique_choice_features': None,\n",
              " 'approximation': False}"
            ]
          },
          "metadata": {},
          "execution_count": 356
        }
      ],
      "source": [
        "params_list = possible_configurations[-4]\n",
        "params_list"
      ]
    },
    {
      "cell_type": "code",
      "execution_count": 357,
      "metadata": {
        "id": "GOJUOxFe80fg"
      },
      "outputs": [],
      "source": [
        "pairwise_dist_matrix = pairwise_distances(X_train, metric = 'euclidean')"
      ]
    },
    {
      "cell_type": "code",
      "execution_count": 358,
      "metadata": {
        "id": "mufAKOhl80fg"
      },
      "outputs": [],
      "source": [
        "pivot_tree, prototypes, time_selection = pivot_tree_selection(params_list, pairwise_dist_matrix, X_train, y_train, random_state = 0)"
      ]
    },
    {
      "cell_type": "code",
      "execution_count": 359,
      "metadata": {
        "colab": {
          "base_uri": "https://localhost:8080/"
        },
        "id": "M2IZ3cWq80fg",
        "outputId": "cd0e7ede-7216-495b-e8dc-f2679b9713e4"
      },
      "outputs": [
        {
          "output_type": "stream",
          "name": "stdout",
          "text": [
            "PivotTree\n",
            "[(True, ['node_id: 0  pivot: 196'], [1.0], 11.85390329360962, False, 0), (False, 0, 157, 0.585820895522388, 1, 1), (True, ['node_id: 2  pivot: 227'], [1.0], 10.882364273071289, False, 1), (False, 1, 84, 0.31343283582089554, 3, 2), (True, ['node_id: 4  pivot: 41'], [1.0], 15.237029075622559, False, 2), (True, ['node_id: 7  pivot: 41'], [1.0], 14.494997024536133, False, 3), (False, 0, 3, 0.011194029850746268, 11, 4), (False, 3, 7, 0.026119402985074626, 12, 4), (True, ['node_id: 8  pivot: 19'], [1.0], 4.831786155700684, False, 3), (False, 2, 3, 0.011194029850746268, 13, 4), (False, 1, 14, 0.05223880597014925, 14, 4)]\n",
            "|-+ if node_id: 0  pivot: 196 <= 11.85:\n",
            "  |--> label: 0 (157, 0.59)\n",
            "  |-+ if node_id: 2  pivot: 227 <= 10.88:\n",
            "    |--> label: 1 (84, 0.31)\n",
            "    |-+ if node_id: 4  pivot: 41 <= 15.24:\n",
            "      |-+ if node_id: 7  pivot: 41 <= 14.49:\n",
            "        |--> label: 0 (3, 0.01)\n",
            "        |--> label: 3 (7, 0.03)\n",
            "      |-+ if node_id: 8  pivot: 19 <= 4.83:\n",
            "        |--> label: 2 (3, 0.01)\n",
            "        |--> label: 1 (14, 0.05)\n",
            "\n",
            "\n",
            "Accuracy 0.946969696969697\n"
          ]
        }
      ],
      "source": [
        "print('PivotTree')\n",
        "print(pivot_tree.print_tree())\n",
        "print('')\n",
        "\n",
        "y_pred = pivot_tree.predict(X_test)\n",
        "print('Accuracy', accuracy_score(y_test, y_pred))"
      ]
    },
    {
      "cell_type": "code",
      "execution_count": 360,
      "metadata": {
        "colab": {
          "base_uri": "https://localhost:8080/"
        },
        "id": "4Z25FMf-80fg",
        "outputId": "1868b9cc-7924-407c-f680-35d4693e4e65"
      },
      "outputs": [
        {
          "output_type": "execute_result",
          "data": {
            "text/plain": [
              "5"
            ]
          },
          "metadata": {},
          "execution_count": 360
        }
      ],
      "source": [
        "len(prototypes['X_pivots_discriminative_descriptive'])\n",
        "len(prototypes['X_pivots_used'])"
      ]
    },
    {
      "cell_type": "code",
      "execution_count": 361,
      "metadata": {
        "colab": {
          "base_uri": "https://localhost:8080/"
        },
        "id": "Nh3USQs8BvJn",
        "outputId": "98a22860-2e18-46fe-c2e7-11b4c0f8eab5"
      },
      "outputs": [
        {
          "output_type": "stream",
          "name": "stdout",
          "text": [
            "196\n",
            "227\n",
            "41\n",
            "41\n",
            "19\n"
          ]
        }
      ],
      "source": [
        "for prot in prototypes['X_pivots_used']:\n",
        "  prot\n",
        "  for i, el in enumerate(X_train):\n",
        "    if list(prot) == list(el):\n",
        "      print(i)"
      ]
    },
    {
      "cell_type": "code",
      "execution_count": 362,
      "metadata": {
        "colab": {
          "base_uri": "https://localhost:8080/"
        },
        "id": "7CGxBuvC80fg",
        "outputId": "be78e9a8-a9fd-4538-96b2-e97be1a7c5dd"
      },
      "outputs": [
        {
          "output_type": "execute_result",
          "data": {
            "text/plain": [
              "[19, 41, 196, 227]"
            ]
          },
          "metadata": {},
          "execution_count": 362
        }
      ],
      "source": [
        "idxs = []\n",
        "for i, x in enumerate(X_train):\n",
        "  if list(x) in [list(k) for k in prototypes['X_pivots_used']]:\n",
        "    idxs += [i]\n",
        "\n",
        "idxs"
      ]
    },
    {
      "cell_type": "code",
      "execution_count": 363,
      "metadata": {
        "colab": {
          "base_uri": "https://localhost:8080/",
          "height": 337
        },
        "id": "sQntdNmW80fg",
        "outputId": "44bb2a0f-83a4-4645-ae3f-b10f90ff12c6"
      },
      "outputs": [
        {
          "output_type": "stream",
          "name": "stdout",
          "text": [
            "2 sup_ecto\n",
            "0 normal\n",
            "0 normal\n",
            "1 R-on-T\n"
          ]
        },
        {
          "output_type": "display_data",
          "data": {
            "text/plain": [
              "<Figure size 400x300 with 1 Axes>"
            ],
            "image/png": "[encoded data removed]"
          },
          "metadata": {}
        }
      ],
      "source": [
        "plt.figure(figsize = (4,3))\n",
        "for i, id in enumerate(idxs):\n",
        "  class_ref =  classes_dict[y_train[id]]\n",
        " # plt.plot(X_train[id], lw = 3, label = r'$p_%s$ (%s)'%(id,class_ref), c = 'b' if 'no' in class_ref else 'g')\n",
        " #plt.plot(X_train[id], lw=3, label=f'$p_{{{id}}}$ ({class_ref})', c='b' if 'no' in class_ref else 'g')\n",
        "  plt.plot(X_train[id], lw=3, label=f'$p_{{{id}}}$ ({class_ref})', c=color_dict_ecg[class_ref])\n",
        "\n",
        "\n",
        "\n",
        "\n",
        "  print(y_train[id], classes_dict[y_train[id]])\n",
        "\n",
        "\n",
        "plt.xticks([])\n",
        "plt.yticks([])\n",
        "\n",
        "plt.legend(frameon = False, fontsize=16, handlelength  = 1, bbox_to_anchor=(0.5, 0., 1.25, 1.05))\n",
        "plt.savefig('ecg_ts_pivots.png', format = 'png', bbox_inches = 'tight' , dpi = 300)\n",
        "plt.show()"
      ]
    },
    {
      "cell_type": "code",
      "execution_count": 364,
      "metadata": {
        "id": "uaRFUcDy80fh"
      },
      "outputs": [],
      "source": [
        "X_pivots_name = 'X_pivots_used'"
      ]
    },
    {
      "cell_type": "code",
      "execution_count": 365,
      "metadata": {
        "colab": {
          "base_uri": "https://localhost:8080/"
        },
        "id": "EBae4t7fCiHq",
        "outputId": "f7b5b606-b710-4d37-8ad0-f26eb7aa3bf2"
      },
      "outputs": [
        {
          "output_type": "execute_result",
          "data": {
            "text/plain": [
              "[array([ 1.6651624e+00, -1.8767018e+00, -4.0078711e+00, -4.7026004e+00,\n",
              "        -3.7473777e+00, -2.8031376e+00, -1.3935652e+00, -9.7407338e-01,\n",
              "        -7.6258356e-01,  2.7104666e-01,  7.9035661e-01,  6.3006973e-01,\n",
              "         5.4428328e-01,  6.4598661e-01,  6.2916340e-01,  4.7869008e-01,\n",
              "         4.4724179e-01,  3.3176385e-01,  4.1655820e-01,  3.0706837e-01,\n",
              "         1.9886117e-01,  1.9744692e-01,  9.5357191e-02,  1.0685670e-01,\n",
              "        -2.6866202e-02, -8.9092242e-02, -9.4734488e-02, -1.9417589e-01,\n",
              "        -1.9938621e-01, -4.4422130e-01, -4.5754215e-01, -4.0570204e-01,\n",
              "        -4.9910254e-01, -5.4963905e-01, -6.1851550e-01, -6.3739541e-01,\n",
              "        -6.0640437e-01, -5.8903800e-01, -6.6438928e-01, -7.3401673e-01,\n",
              "        -7.2056221e-01, -6.5806637e-01, -5.5287574e-01, -4.8756109e-01,\n",
              "        -3.7594529e-01, -2.8263356e-01, -1.4899189e-01, -1.0424535e-01,\n",
              "        -1.4053764e-02,  2.0039268e-03,  1.0603414e-01,  9.9188969e-02,\n",
              "         4.1905433e-02, -3.7137389e-02,  6.1541228e-02,  6.2961389e-02,\n",
              "         1.1312871e-02,  1.1659767e-01,  1.3726211e-01,  1.0909606e-01,\n",
              "         9.1259061e-02,  1.4075302e-01,  2.3222464e-01,  3.5845177e-02,\n",
              "         1.9892114e-01,  2.3607734e-01,  3.6063016e-01,  3.7235448e-01,\n",
              "         4.5218308e-01,  5.8251366e-01,  5.6304308e-01,  7.2158863e-01,\n",
              "         6.7106919e-01,  7.9206728e-01,  7.7674803e-01,  7.6072026e-01,\n",
              "         8.2177247e-01,  7.8347429e-01,  8.5450718e-01,  8.6918588e-01,\n",
              "         7.3087619e-01,  6.4363557e-01,  6.7843499e-01,  5.0449260e-01,\n",
              "         5.2301301e-01,  4.4589471e-01,  3.7169468e-01,  2.8425954e-01,\n",
              "         3.4530122e-01,  2.3510898e-01,  1.6112788e-02,  7.3816473e-02,\n",
              "         7.3413101e-02, -7.3061049e-02, -2.4095521e-02, -9.0730137e-02,\n",
              "         9.0309264e-02,  1.8872554e-01,  5.1827875e-01,  7.2248516e-01,\n",
              "         9.0203947e-01,  1.0826604e+00,  1.3151202e+00,  1.6958043e+00,\n",
              "         1.8215440e+00,  1.6681312e+00,  1.6327192e+00,  1.4278121e+00,\n",
              "         1.0852113e+00,  8.3950079e-01,  4.5525563e-01,  2.2366107e-01,\n",
              "        -2.5204902e-01, -5.9937744e-01, -7.7843158e-01, -8.8863892e-01,\n",
              "        -8.9551980e-01, -9.3811604e-01, -1.0882285e+00, -1.0310188e+00,\n",
              "        -9.4984645e-01, -1.0485999e+00, -9.1952311e-01, -9.8446010e-01,\n",
              "        -9.3147398e-01, -9.6915093e-01, -1.0712816e+00, -9.1290142e-01,\n",
              "        -9.5031343e-01, -6.7485039e-01,  1.1283214e-01,  9.4871352e-01,\n",
              "         1.3005845e+00,  1.6964014e+00,  2.2313427e+00,  1.7762729e+00,\n",
              "         8.5542286e-01, -3.6162302e-01, -2.2384588e-01, -1.2202955e+00]),\n",
              " array([ 8.6379744e-02, -7.3444951e-01, -1.1202198e+00, -1.7952270e+00,\n",
              "        -2.2463917e+00, -2.5620763e+00, -2.7096466e+00, -2.6152649e+00,\n",
              "        -2.2780756e+00, -1.7720542e+00, -1.3721793e+00, -1.0951549e+00,\n",
              "        -8.9425959e-01, -8.2203894e-01, -6.6343213e-01, -2.4545294e-01,\n",
              "         1.3822838e-01,  3.2345437e-01,  3.2809974e-01,  2.7765002e-01,\n",
              "         3.5064193e-01,  3.8258865e-01,  3.5140645e-01,  3.5594443e-01,\n",
              "         3.2455819e-01,  3.1216434e-01,  3.3025031e-01,  3.7441254e-01,\n",
              "         4.3244676e-01,  4.1065348e-01,  3.6588219e-01,  3.5194241e-01,\n",
              "         3.3466932e-01,  3.3593953e-01,  3.3168439e-01,  2.9162595e-01,\n",
              "         2.8444435e-01,  2.9791399e-01,  2.6715052e-01,  2.5128613e-01,\n",
              "         2.7612488e-01,  2.7487607e-01,  2.4018731e-01,  2.2212338e-01,\n",
              "         2.2656485e-01,  2.1113800e-01,  1.8074753e-01,  2.1526002e-01,\n",
              "         2.5774783e-01,  1.8047043e-01,  1.1591864e-01,  1.2576276e-01,\n",
              "         1.0974342e-01,  1.0625028e-01,  1.0450776e-01,  1.1216570e-01,\n",
              "         1.0560569e-01,  2.7924077e-02,  2.0283277e-03,  1.0684280e-02,\n",
              "        -1.0954266e-02,  7.8094027e-03, -4.5513968e-03, -5.3463728e-02,\n",
              "         5.0100113e-03,  4.7158579e-02,  2.4774917e-02,  7.9582275e-02,\n",
              "         5.8701831e-02,  8.7804856e-03,  4.7927853e-02,  4.5002231e-02,\n",
              "         1.0697439e-01,  1.9011384e-01,  1.8318097e-01,  2.4965031e-01,\n",
              "         3.3523229e-01,  3.1062884e-01,  2.7835304e-01,  3.4546536e-01,\n",
              "         4.1101264e-01,  4.2463975e-01,  5.1333876e-01,  6.0127326e-01,\n",
              "         6.0548027e-01,  6.7241045e-01,  7.5906596e-01,  7.5270090e-01,\n",
              "         7.9288716e-01,  8.2215622e-01,  7.4534713e-01,  7.9376457e-01,\n",
              "         8.6520731e-01,  8.1355329e-01,  8.4295684e-01,  8.8532912e-01,\n",
              "         8.6345170e-01,  8.8722639e-01,  9.1309540e-01,  8.8318811e-01,\n",
              "         8.9518541e-01,  1.0069328e+00,  1.0154446e+00,  9.0068634e-01,\n",
              "         9.1577176e-01,  1.0097774e+00,  1.0256842e+00,  9.8637821e-01,\n",
              "         9.6785763e-01,  1.0016304e+00,  1.0084854e+00,  9.7629599e-01,\n",
              "         8.1696567e-01,  6.0518975e-01,  6.3720336e-01,  6.7839746e-01,\n",
              "         5.6776536e-01,  5.1392778e-01,  4.4611608e-01,  3.9936607e-01,\n",
              "         4.1171802e-01,  2.5909230e-01,  1.0901465e-01,  1.4639642e-01,\n",
              "         1.4507045e-02, -3.0461378e-01, -5.6730240e-01, -9.7158846e-01,\n",
              "        -1.5635032e+00, -2.1087638e+00, -2.5969234e+00, -3.0653393e+00,\n",
              "        -3.4638952e+00, -3.5847093e+00, -3.0059001e+00, -2.0559098e+00,\n",
              "        -9.8418156e-01,  1.5656221e-01,  5.5921683e-01,  1.0662727e+00]),\n",
              " array([-1.4068699e+00, -1.1569459e+00, -2.2224052e+00, -4.1295203e+00,\n",
              "        -3.7318587e+00, -3.1004018e+00, -1.4096099e+00, -8.0498166e-01,\n",
              "        -2.8571206e-01,  4.0347626e-01,  6.1833983e-01,  4.4195604e-01,\n",
              "         2.4365196e-01,  3.4395981e-01,  6.8885830e-01,  1.1508806e+00,\n",
              "         1.5074185e+00,  1.8562474e+00,  1.7073440e+00,  1.6759628e+00,\n",
              "         1.7341172e+00,  1.8343901e+00,  1.8652153e+00,  1.9506229e+00,\n",
              "         1.9584021e+00,  1.9668383e+00,  1.9415705e+00,  1.9646785e+00,\n",
              "         1.7586507e+00,  1.6556314e+00,  1.4199405e+00,  1.2856279e+00,\n",
              "         1.0255461e+00,  8.0649531e-01,  6.6154566e-01,  5.1358523e-01,\n",
              "         5.4176951e-01,  4.8949763e-01,  3.6290035e-01,  3.7294630e-01,\n",
              "         4.4793634e-01,  4.8929847e-01,  4.7241094e-01,  4.9542448e-01,\n",
              "         6.3155659e-01,  6.7862089e-01,  5.3754710e-01,  5.2010731e-01,\n",
              "         4.4647568e-01,  5.5052279e-01,  4.9109517e-01,  4.4593046e-01,\n",
              "         2.6465749e-01,  2.9466143e-01,  3.5798513e-01,  2.5007503e-01,\n",
              "         1.6778782e-01,  1.1324935e-01,  6.5629403e-02, -6.7824034e-02,\n",
              "         3.4910530e-02, -6.8247049e-02, -1.2671371e-01, -3.4015024e-02,\n",
              "        -5.0000089e-02, -3.1631868e-01, -2.4472060e-01, -1.6380998e-01,\n",
              "        -2.0077445e-01, -2.3501474e-01, -3.9683265e-01, -4.4363605e-01,\n",
              "        -3.3261461e-01, -4.1989952e-01, -3.5062303e-01, -3.7345060e-01,\n",
              "        -4.8375439e-01, -5.4654863e-01, -5.0378275e-01, -4.8023543e-01,\n",
              "        -5.2429903e-01, -4.8772038e-01, -5.4087682e-01, -6.2329676e-01,\n",
              "        -5.9819059e-01, -5.2132600e-01, -5.9557077e-01, -6.2136320e-01,\n",
              "        -5.7369474e-01, -6.3598493e-01, -6.3096770e-01, -5.6109805e-01,\n",
              "        -6.3950323e-01, -6.2357246e-01, -7.0994157e-01, -6.4236625e-01,\n",
              "        -6.1068358e-01, -6.7800180e-01, -5.9940145e-01, -6.1585129e-01,\n",
              "        -6.1576222e-01, -5.6436714e-01, -6.3452937e-01, -5.1845787e-01,\n",
              "        -5.5371551e-01, -5.7249716e-01, -6.1634046e-01, -6.7177867e-01,\n",
              "        -6.6877565e-01, -6.8641599e-01, -6.1599170e-01, -6.6191844e-01,\n",
              "        -5.0694906e-01, -3.0411918e-01, -1.7614887e-04,  2.8983642e-01,\n",
              "         4.1203785e-01,  6.5687415e-01,  1.0620536e+00,  9.4027011e-01,\n",
              "         6.4557907e-01,  4.2887976e-01,  1.9786141e-01, -1.4396048e-01,\n",
              "        -6.8607595e-01, -8.2069663e-01, -8.9776855e-01, -8.4730638e-01,\n",
              "        -7.8604124e-01, -8.6822295e-01, -7.9992604e-01, -7.8918373e-01,\n",
              "        -7.0683571e-01, -7.4456667e-01, -2.6098093e-01,  3.3526436e-01,\n",
              "         3.9619561e-01,  1.1910426e+00,  1.3959100e+00,  2.0843735e-01]),\n",
              " array([ 6.8916497e-01, -9.1148605e-02, -9.4782996e-01, -1.5513857e+00,\n",
              "        -1.6828365e+00, -1.4764947e+00, -1.2464144e+00, -8.6578128e-01,\n",
              "        -5.7348949e-01, -4.8666416e-01, -2.9010366e-01,  1.0611128e-02,\n",
              "         2.4947759e-02,  7.1283008e-03, -9.1328401e-04, -2.5863420e-03,\n",
              "         3.4508983e-02,  3.2297623e-02,  3.8459640e-02,  2.6516689e-02,\n",
              "         3.4004275e-02,  2.1564978e-03,  1.2556867e-02,  2.8757702e-02,\n",
              "         2.2730617e-02,  2.2136838e-02, -2.0099720e-02,  1.6976589e-02,\n",
              "        -1.5576699e-02, -4.5049876e-03, -1.6728392e-02, -7.3228894e-02,\n",
              "        -4.8041569e-02, -7.2589335e-02, -1.2189805e-01, -1.1287241e-01,\n",
              "        -9.8102841e-02, -1.1050938e-01, -1.0190249e-01, -1.4342285e-01,\n",
              "        -1.1963592e-01, -1.2200189e-01, -1.2931953e-01, -9.3000478e-02,\n",
              "        -1.2456022e-01, -7.2238173e-02, -5.1360087e-02, -4.0860139e-03,\n",
              "         7.8038417e-02,  6.4316585e-02,  1.0658981e-01,  1.6009389e-01,\n",
              "         1.6069114e-01,  1.4480954e-01,  2.0403901e-01,  1.9028443e-01,\n",
              "         2.2740320e-01,  2.3616179e-01,  2.3484723e-01,  2.4311866e-01,\n",
              "         2.3612399e-01,  2.5992614e-01,  2.5516463e-01,  2.6615265e-01,\n",
              "         2.8187383e-01,  3.1008892e-01,  2.8935486e-01,  2.7753316e-01,\n",
              "         2.7915370e-01,  2.9527545e-01,  3.4711572e-01,  3.6905362e-01,\n",
              "         3.5540311e-01,  3.8817511e-01,  4.3267371e-01,  4.0981632e-01,\n",
              "         4.4536138e-01,  4.6145332e-01,  4.9816223e-01,  4.6523437e-01,\n",
              "         4.9219551e-01,  4.6905835e-01,  5.1385303e-01,  4.6061139e-01,\n",
              "         4.4385925e-01,  4.6869293e-01,  4.8212409e-01,  4.5856053e-01,\n",
              "         4.3354973e-01,  4.7156277e-01,  4.3731305e-01,  4.3732168e-01,\n",
              "         4.2740251e-01,  4.3612709e-01,  4.2587140e-01,  3.7846928e-01,\n",
              "         4.0659993e-01,  3.8935090e-01,  3.9209337e-01,  4.0589688e-01,\n",
              "         3.5983604e-01,  3.6631704e-01,  3.7488429e-01,  3.8338791e-01,\n",
              "         3.9128398e-01,  4.2830217e-01,  4.9625711e-01,  5.8187581e-01,\n",
              "         6.6165918e-01,  6.8574886e-01,  8.0441500e-01,  8.7019378e-01,\n",
              "         9.4041765e-01,  9.6963278e-01,  9.2983414e-01,  9.4616361e-01,\n",
              "         9.1617557e-01,  8.1879950e-01,  7.3543013e-01,  6.2916589e-01,\n",
              "         5.2922398e-01,  4.0178621e-01,  3.0164303e-01,  2.6378790e-01,\n",
              "         2.7886898e-01,  4.4404060e-01,  6.2713381e-01,  6.8587663e-01,\n",
              "         5.1870332e-01,  3.0557713e-01,  1.3056967e-01,  1.0244679e-01,\n",
              "        -2.6961452e-01, -1.1055286e+00, -2.1959879e+00, -3.3089934e+00,\n",
              "        -3.8174777e+00, -4.5797266e+00, -5.0036011e+00, -5.5341387e+00])]"
            ]
          },
          "metadata": {},
          "execution_count": 365
        }
      ],
      "source": [
        "prots = prototypes['X_pivots_used']\n",
        "del prots[2]\n",
        "prots"
      ]
    },
    {
      "cell_type": "code",
      "execution_count": 366,
      "metadata": {
        "id": "3MDoTs6W80fh"
      },
      "outputs": [],
      "source": [
        "#train a decision tree on the mapped space\n",
        "X_train_reduced, time_pairwise_training = pariwise_computation(X_train, prots, metric) #reduce training set\n",
        "X_test_reduced, time_pairwise_test =  pariwise_computation(X_test, prots, metric) #reduce validation set"
      ]
    },
    {
      "cell_type": "code",
      "execution_count": 367,
      "metadata": {
        "colab": {
          "base_uri": "https://localhost:8080/"
        },
        "id": "I0_3bOQABLZl",
        "outputId": "1ba2ade2-d6fe-42f6-8904-e8488b372b95"
      },
      "outputs": [
        {
          "output_type": "execute_result",
          "data": {
            "text/plain": [
              "(268, 4)"
            ]
          },
          "metadata": {},
          "execution_count": 367
        }
      ],
      "source": [
        "X_train_reduced.shape"
      ]
    },
    {
      "cell_type": "code",
      "execution_count": 368,
      "metadata": {
        "colab": {
          "base_uri": "https://localhost:8080/"
        },
        "id": "pRcEDq1q80fh",
        "outputId": "216775e5-9b0b-4b0f-e409-14efca4f988c"
      },
      "outputs": [
        {
          "output_type": "stream",
          "name": "stderr",
          "text": [
            "/usr/local/lib/python3.10/dist-packages/sklearn/metrics/_classification.py:1344: UndefinedMetricWarning: Precision is ill-defined and being set to 0.0 in labels with no predicted samples. Use `zero_division` parameter to control this behavior.\n",
            "  _warn_prf(average, modifier, msg_start, len(result))\n"
          ]
        }
      ],
      "source": [
        "knn = KNeighborsClassifier(n_neighbors=5, metric = metric)\n",
        "knn.fit(X_train_reduced, y_train)\n",
        "predictions = knn.predict(X_test_reduced)\n",
        "KNN_score_dict = compute_score(y_test, predictions)"
      ]
    },
    {
      "cell_type": "code",
      "execution_count": 369,
      "metadata": {
        "colab": {
          "base_uri": "https://localhost:8080/"
        },
        "id": "g9v8jqmQ80fh",
        "outputId": "050af76c-65d3-4f02-c1cc-ab1601180195"
      },
      "outputs": [
        {
          "output_type": "execute_result",
          "data": {
            "text/plain": [
              "{'balanced_accuracy_score': 0.4,\n",
              " 'f1_score': 0.38138170178714326,\n",
              " 'accuracy_score': 0.9318181818181818,\n",
              " 'precision_score': 0.3655609756097561,\n",
              " 'recall_score': 0.4}"
            ]
          },
          "metadata": {},
          "execution_count": 369
        }
      ],
      "source": [
        "KNN_score_dict"
      ]
    },
    {
      "cell_type": "code",
      "execution_count": 370,
      "metadata": {
        "colab": {
          "base_uri": "https://localhost:8080/"
        },
        "id": "gBjp-8JE80fh",
        "outputId": "4a5cd737-e974-4362-9cf3-77211c9a6f5d"
      },
      "outputs": [
        {
          "output_type": "stream",
          "name": "stderr",
          "text": [
            "/usr/local/lib/python3.10/dist-packages/sklearn/metrics/_classification.py:1344: UndefinedMetricWarning: Precision is ill-defined and being set to 0.0 in labels with no predicted samples. Use `zero_division` parameter to control this behavior.\n",
            "  _warn_prf(average, modifier, msg_start, len(result))\n"
          ]
        }
      ],
      "source": [
        "dt = DecisionTreeClassifier(max_depth = 4, min_samples_leaf = 3, min_samples_split = 5, random_state = 0)\n",
        "dt.fit(X_train_reduced, y_train)\n",
        "predictions = dt.predict(X_test_reduced)\n",
        "DT_score_dict = compute_score(y_test, predictions)"
      ]
    },
    {
      "cell_type": "code",
      "execution_count": 371,
      "metadata": {
        "colab": {
          "base_uri": "https://localhost:8080/"
        },
        "id": "5vy15mrS80fh",
        "outputId": "fa7822ba-5cb2-4df1-f034-616b98e6de18"
      },
      "outputs": [
        {
          "output_type": "execute_result",
          "data": {
            "text/plain": [
              "{'balanced_accuracy_score': 0.6427689594356261,\n",
              " 'f1_score': 0.6241318494192057,\n",
              " 'accuracy_score': 0.946969696969697,\n",
              " 'precision_score': 0.629753086419753,\n",
              " 'recall_score': 0.6427689594356261}"
            ]
          },
          "metadata": {},
          "execution_count": 371
        }
      ],
      "source": [
        "DT_score_dict"
      ]
    },
    {
      "cell_type": "code",
      "execution_count": 372,
      "metadata": {
        "id": "CwuEgO-980fh"
      },
      "outputs": [],
      "source": [
        "from sklearn.datasets import load_iris\n",
        "from sklearn.model_selection import train_test_split\n",
        "from sklearn.tree import export_text\n"
      ]
    },
    {
      "cell_type": "code",
      "execution_count": 373,
      "metadata": {
        "colab": {
          "base_uri": "https://localhost:8080/"
        },
        "id": "pxT7unjw80fh",
        "outputId": "c1724d23-eaf7-44cf-e50a-f3c02cf5e93c"
      },
      "outputs": [
        {
          "output_type": "stream",
          "name": "stdout",
          "text": [
            "DecisionTreeClassifier\n",
            "|--- 19 <= 11.85\n",
            "|   |--- class: 0\n",
            "|--- 19 >  11.85\n",
            "|   |--- 41 <= 10.88\n",
            "|   |   |--- 41 <= 4.73\n",
            "|   |   |   |--- 196 <= 14.47\n",
            "|   |   |   |   |--- class: 1\n",
            "|   |   |   |--- 196 >  14.47\n",
            "|   |   |   |   |--- class: 1\n",
            "|   |   |--- 41 >  4.73\n",
            "|   |   |   |--- 196 <= 14.78\n",
            "|   |   |   |   |--- class: 1\n",
            "|   |   |   |--- 196 >  14.78\n",
            "|   |   |   |   |--- class: 1\n",
            "|   |--- 41 >  10.88\n",
            "|   |   |--- 196 <= 15.24\n",
            "|   |   |   |--- 196 <= 14.49\n",
            "|   |   |   |   |--- class: 0\n",
            "|   |   |   |--- 196 >  14.49\n",
            "|   |   |   |   |--- class: 3\n",
            "|   |   |--- 196 >  15.24\n",
            "|   |   |   |--- 227 <= 4.83\n",
            "|   |   |   |   |--- class: 2\n",
            "|   |   |   |--- 227 >  4.83\n",
            "|   |   |   |   |--- class: 1\n",
            "\n",
            "\n"
          ]
        }
      ],
      "source": [
        "print('DecisionTreeClassifier')\n",
        "print(export_text(dt, feature_names=idxs))\n",
        "print('')"
      ]
    },
    {
      "cell_type": "code",
      "execution_count": 374,
      "metadata": {
        "colab": {
          "base_uri": "https://localhost:8080/",
          "height": 285
        },
        "id": "R0cEfPRj80fh",
        "outputId": "4a367e96-bd36-4e99-a5ec-ae8da7a72ca5"
      },
      "outputs": [
        {
          "output_type": "stream",
          "name": "stdout",
          "text": [
            "0 normal\n"
          ]
        },
        {
          "output_type": "display_data",
          "data": {
            "text/plain": [
              "<Figure size 400x300 with 1 Axes>"
            ],
            "image/png": "[encoded data removed]"
          },
          "metadata": {}
        }
      ],
      "source": [
        "id_test = 50\n",
        "\n",
        "plt.figure(figsize = (4,3))\n",
        "#plt.plot(X_test[id_test], lw = 3, label = f'$p_{{{id_test}}}$ ')\n",
        "\n",
        "#plt.plot(X_test[id_test], lw = 3, label=f'$p_{{{id_test}}}$' )\n",
        "#plt.plot(X_train[id], lw=3, label=f'$p_{{{id}}}$ ({class_ref})', c='b' if 'no' in class_ref else 'g')\n",
        "plt.plot(X_test[id_test], lw = 3, label = 'test')\n",
        "\n",
        "\n",
        "print(y_test[id_test], classes_dict[y_test[id_test]])\n",
        "\n",
        "plt.xticks([])\n",
        "plt.yticks([])\n",
        "\n",
        "plt.legend(frameon = False, fontsize = 16, handlelength  = 1)\n",
        "plt.savefig('ecg_ts_test_instance.png', format = 'png', bbox_inches = 'tight' , dpi = 300)\n",
        "plt.show()"
      ]
    },
    {
      "cell_type": "code",
      "execution_count": 375,
      "metadata": {
        "colab": {
          "base_uri": "https://localhost:8080/"
        },
        "id": "FzCyKA4i80fh",
        "outputId": "fd3f3389-fbe3-4fa0-e099-55957f5e6b59"
      },
      "outputs": [
        {
          "output_type": "execute_result",
          "data": {
            "text/plain": [
              "array([0])"
            ]
          },
          "metadata": {},
          "execution_count": 375
        }
      ],
      "source": [
        "knn.predict([X_test_reduced[id_test]])"
      ]
    },
    {
      "cell_type": "code",
      "execution_count": 376,
      "metadata": {
        "id": "fca9outy80fi"
      },
      "outputs": [],
      "source": [
        "from sklearn.neighbors import NearestNeighbors"
      ]
    },
    {
      "cell_type": "code",
      "execution_count": 377,
      "metadata": {
        "colab": {
          "base_uri": "https://localhost:8080/",
          "height": 75
        },
        "id": "d0denqx180fi",
        "outputId": "b6f833d2-206e-45e7-ed15-ab218005f431"
      },
      "outputs": [
        {
          "output_type": "execute_result",
          "data": {
            "text/plain": [
              "NearestNeighbors()"
            ],
            "text/html": [
              "<style>#sk-container-id-12 {color: black;background-color: white;}#sk-container-id-12 pre{padding: 0;}#sk-container-id-12 div.sk-toggleable {background-color: white;}#sk-container-id-12 label.sk-toggleable__label {cursor: pointer;display: block;width: 100%;margin-bottom: 0;padding: 0.3em;box-sizing: border-box;text-align: center;}#sk-container-id-12 label.sk-toggleable__label-arrow:before {content: \"▸\";float: left;margin-right: 0.25em;color: #696969;}#sk-container-id-12 label.sk-toggleable__label-arrow:hover:before {color: black;}#sk-container-id-12 div.sk-estimator:hover label.sk-toggleable__label-arrow:before {color: black;}#sk-container-id-12 div.sk-toggleable__content {max-height: 0;max-width: 0;overflow: hidden;text-align: left;background-color: #f0f8ff;}#sk-container-id-12 div.sk-toggleable__content pre {margin: 0.2em;color: black;border-radius: 0.25em;background-color: #f0f8ff;}#sk-container-id-12 input.sk-toggleable__control:checked~div.sk-toggleable__content {max-height: 200px;max-width: 100%;overflow: auto;}#sk-container-id-12 input.sk-toggleable__control:checked~label.sk-toggleable__label-arrow:before {content: \"▾\";}#sk-container-id-12 div.sk-estimator input.sk-toggleable__control:checked~label.sk-toggleable__label {background-color: #d4ebff;}#sk-container-id-12 div.sk-label input.sk-toggleable__control:checked~label.sk-toggleable__label {background-color: #d4ebff;}#sk-container-id-12 input.sk-hidden--visually {border: 0;clip: rect(1px 1px 1px 1px);clip: rect(1px, 1px, 1px, 1px);height: 1px;margin: -1px;overflow: hidden;padding: 0;position: absolute;width: 1px;}#sk-container-id-12 div.sk-estimator {font-family: monospace;background-color: #f0f8ff;border: 1px dotted black;border-radius: 0.25em;box-sizing: border-box;margin-bottom: 0.5em;}#sk-container-id-12 div.sk-estimator:hover {background-color: #d4ebff;}#sk-container-id-12 div.sk-parallel-item::after {content: \"\";width: 100%;border-bottom: 1px solid gray;flex-grow: 1;}#sk-container-id-12 div.sk-label:hover label.sk-toggleable__label {background-color: #d4ebff;}#sk-container-id-12 div.sk-serial::before {content: \"\";position: absolute;border-left: 1px solid gray;box-sizing: border-box;top: 0;bottom: 0;left: 50%;z-index: 0;}#sk-container-id-12 div.sk-serial {display: flex;flex-direction: column;align-items: center;background-color: white;padding-right: 0.2em;padding-left: 0.2em;position: relative;}#sk-container-id-12 div.sk-item {position: relative;z-index: 1;}#sk-container-id-12 div.sk-parallel {display: flex;align-items: stretch;justify-content: center;background-color: white;position: relative;}#sk-container-id-12 div.sk-item::before, #sk-container-id-12 div.sk-parallel-item::before {content: \"\";position: absolute;border-left: 1px solid gray;box-sizing: border-box;top: 0;bottom: 0;left: 50%;z-index: -1;}#sk-container-id-12 div.sk-parallel-item {display: flex;flex-direction: column;z-index: 1;position: relative;background-color: white;}#sk-container-id-12 div.sk-parallel-item:first-child::after {align-self: flex-end;width: 50%;}#sk-container-id-12 div.sk-parallel-item:last-child::after {align-self: flex-start;width: 50%;}#sk-container-id-12 div.sk-parallel-item:only-child::after {width: 0;}#sk-container-id-12 div.sk-dashed-wrapped {border: 1px dashed gray;margin: 0 0.4em 0.5em 0.4em;box-sizing: border-box;padding-bottom: 0.4em;background-color: white;}#sk-container-id-12 div.sk-label label {font-family: monospace;font-weight: bold;display: inline-block;line-height: 1.2em;}#sk-container-id-12 div.sk-label-container {text-align: center;}#sk-container-id-12 div.sk-container {/* jupyter's `normalize.less` sets `[hidden] { display: none; }` but bootstrap.min.css set `[hidden] { display: none !important; }` so we also need the `!important` here to be able to override the default hidden behavior on the sphinx rendered scikit-learn.org. See: https://github.com/scikit-learn/scikit-learn/issues/21755 */display: inline-block !important;position: relative;}#sk-container-id-12 div.sk-text-repr-fallback {display: none;}</style><div id=\"sk-container-id-12\" class=\"sk-top-container\"><div class=\"sk-text-repr-fallback\"><pre>NearestNeighbors()</pre><b>In a Jupyter environment, please rerun this cell to show the HTML representation or trust the notebook. <br />On GitHub, the HTML representation is unable to render, please try loading this page with nbviewer.org.</b></div><div class=\"sk-container\" hidden><div class=\"sk-item\"><div class=\"sk-estimator sk-toggleable\"><input class=\"sk-toggleable__control sk-hidden--visually\" id=\"sk-estimator-id-12\" type=\"checkbox\" checked><label for=\"sk-estimator-id-12\" class=\"sk-toggleable__label sk-toggleable__label-arrow\">NearestNeighbors</label><div class=\"sk-toggleable__content\"><pre>NearestNeighbors()</pre></div></div></div></div></div>"
            ]
          },
          "metadata": {},
          "execution_count": 377
        }
      ],
      "source": [
        "neigh = NearestNeighbors(n_neighbors=5, radius=1.0)\n",
        "neigh.fit(X_train_reduced)"
      ]
    },
    {
      "cell_type": "code",
      "execution_count": 378,
      "metadata": {
        "colab": {
          "base_uri": "https://localhost:8080/"
        },
        "id": "vMhFKqnq80fi",
        "outputId": "2c2d56c3-d7d4-427d-ed16-c0fbd40ece97"
      },
      "outputs": [
        {
          "output_type": "execute_result",
          "data": {
            "text/plain": [
              "(array([[0.58962467, 0.66240805, 0.99888856, 1.21197698, 1.33709668]]),\n",
              " array([[  2,  90, 147, 265, 243]]))"
            ]
          },
          "metadata": {},
          "execution_count": 378
        }
      ],
      "source": [
        "indxs_nearest = neigh.kneighbors([X_test_reduced[id_test]], 5, return_distance=True)\n",
        "indxs_nearest"
      ]
    },
    {
      "cell_type": "code",
      "execution_count": 379,
      "metadata": {
        "colab": {
          "base_uri": "https://localhost:8080/",
          "height": 355
        },
        "id": "I_Ufd5lu80fi",
        "outputId": "0ba6dbfa-4714-4f0c-a720-761fa9add41d"
      },
      "outputs": [
        {
          "output_type": "stream",
          "name": "stdout",
          "text": [
            "0 normal\n",
            "0 normal\n",
            "0 normal\n",
            "0 normal\n",
            "0 normal\n"
          ]
        },
        {
          "output_type": "display_data",
          "data": {
            "text/plain": [
              "<Figure size 400x300 with 1 Axes>"
            ],
            "image/png": "[encoded data removed]"
          },
          "metadata": {}
        }
      ],
      "source": [
        "plt.figure(figsize = (4,3))\n",
        "\n",
        "for i, id in enumerate(indxs_nearest[1][0]):\n",
        "  class_ref =  classes_dict[y_train[id]]\n",
        " # plt.plot(X_train[id], lw = 2, label = r'$x_%s$ (%s)'%(i,class_ref), c = 'b' if 'no' in class_ref else 'g')\n",
        "  plt.plot(X_train[id], lw=2, label=f'$k_{{{id}}}$ ({class_ref})', c ='b' if 'no' in class_ref else 'g')\n",
        "\n",
        "\n",
        "  print(y_train[id], classes_dict[y_train[id]])\n",
        "\n",
        "\n",
        "\n",
        "plt.xticks([])\n",
        "plt.yticks([])\n",
        "\n",
        "plt.legend(frameon = False, fontsize=16, handlelength  = 1, bbox_to_anchor=(0.5, 0., 1.26, 1.05))\n",
        "plt.savefig('ecg_ts_neighs.png', format = 'png', bbox_inches = 'tight' , dpi = 300)\n",
        "plt.show()\n",
        "\n",
        "\n"
      ]
    },
    {
      "cell_type": "markdown",
      "metadata": {
        "id": "WpSXVRlfTnDi"
      },
      "source": [
        "### Extraction for textual datasets"
      ]
    },
    {
      "cell_type": "code",
      "execution_count": 380,
      "metadata": {
        "id": "qyUMsMCaTmYG"
      },
      "outputs": [],
      "source": [
        "from sklearn.datasets import fetch_20newsgroups\n",
        "newsgroups_train = fetch_20newsgroups(subset='train')"
      ]
    },
    {
      "cell_type": "code",
      "source": [
        "!pip install datasets\n",
        "clear_output()"
      ],
      "metadata": {
        "id": "zNd-8LNJxlU-"
      },
      "execution_count": 381,
      "outputs": []
    },
    {
      "cell_type": "code",
      "execution_count": 382,
      "metadata": {
        "id": "iw5y530aTmg_"
      },
      "outputs": [],
      "source": [
        "# Install the datasets library from Hugging Face\n",
        "#!pip install datasets\n",
        "\n",
        "# Import necessary libraries\n",
        "from datasets import load_dataset\n",
        "\n",
        "# Load the IMDb dataset from Hugging Face\n",
        "imdb_dataset = load_dataset(\"scikit-learn/imdb\")\n",
        "\n",
        "# Accessing features and target\n",
        "X = imdb_dataset[\"train\"][\"review\"]\n",
        "y = imdb_dataset[\"train\"][\"sentiment\"]"
      ]
    },
    {
      "cell_type": "code",
      "execution_count": 383,
      "metadata": {
        "id": "TBmIAZEfVwMV"
      },
      "outputs": [],
      "source": [
        "# split the test into test-validation\n",
        "X_train, X_test, y_train, y_test = train_test_split(X, y, train_size=100, test_size=100, random_state=13)"
      ]
    },
    {
      "cell_type": "code",
      "execution_count": 384,
      "metadata": {
        "id": "oXQiqOvXmguy"
      },
      "outputs": [],
      "source": [
        "np.unique(y_train, return_counts = True), np.unique(y_test, return_counts = True)\n",
        "\n",
        "classes_dict = { 0 : 'negative', 1 : 'positive'}\n",
        "dict_classes = {'positive' : 1, 'negative' : 0}\n",
        "\n",
        "y_train = np.array([dict_classes[x] for x in y_train])\n",
        "y_test = np.array([dict_classes[x] for x in y_test])"
      ]
    },
    {
      "cell_type": "code",
      "execution_count": 385,
      "metadata": {
        "id": "TyUzXmJZmlLd",
        "colab": {
          "base_uri": "https://localhost:8080/",
          "height": 369,
          "referenced_widgets": [
            "be5e72dd10c241418a97d1441933d12b",
            "85ac836c9adc4bed8ccbb227bab86e08",
            "18ac56e7fd61429796d357d06d920dad",
            "48350d8f92c74aa790829720cfcb91a1",
            "1728ebb3ec8745c8b5e3d240bd4fe5c2",
            "8272ff05f41446e19c07a53c6b4d2044",
            "e7de25e910bb48daacdf5b10ef1d63a6",
            "94eba185b8584b07931c288de3f1369b",
            "4642cfa81df14e2ea44bbfacc28fa473",
            "358df6cdc2124d9bbe83c705ccefb6f9",
            "0485946fd23e4ee5970ee2184d096f34",
            "47c3feaa6ba44f68889ac0df5116f5ab",
            "8548b1c7e36344709fb55696ae8fa687",
            "6d14f38f0bb645d3aabd7d695891b179",
            "255c6851531945d18e4709db4906d6fb",
            "b6d55a86e33b4720b30a28dd406dc2de",
            "67fc53baf4d84683a4ae6a3d3bd69802",
            "8bfa4294bdd84aa2a86af33e1b526ae5",
            "dbc14c4ea5674bdcbc7989ab191b94dc",
            "361e7860a2b24f45a9d41821f9fd27a3",
            "bb55b673785b4a0bb3961d4a348ec290",
            "3d855ccf6b0f4f919194512f36cae4dc",
            "0d667717a6874cc19dabc8a709c45836",
            "def7835a10424658a4722c6f0a5aa5d4",
            "624ac75a3c9d4755bcbe7828c60fbb8e",
            "e0eb693ab79c49a4911c6eacb72926e5",
            "851b647f904b4d1d9d7546c7bbb27c41",
            "2dc56a709cd7472899abd257a4497dc7",
            "859bbd1cd6da491199c92aba253b66dd",
            "ef2112d19f87462cbb57702a4647bd46",
            "73985b54ab6f4bd6b9af299c69c03e7d",
            "072194b8a6964f55a7a079496400c728",
            "b171f59600244208bb9c03e2db0f4512",
            "8198b2d5b5064395a56b78e3af6f9d0e",
            "bcbab46d57174fdaa0259fe2a0989a47",
            "577a49963b7c4c85b2d5c4e8d508fefc",
            "31ff6c4fd7ca463e8e2b81247242496f",
            "c253b0180e0e452da50af17758cf394b",
            "296e9714501c49f1932ddc40633338ff",
            "e51382db16634857b2b41242fb63acfe",
            "3fb3c347625f4af3897f68de2a452c5a",
            "3978d6f354ec43109273f84bbcefe1f1",
            "cb7a7df92df84d42b88fa2d779eb5c63",
            "f0a7ec328e23480f855dbbd8c4bac49a",
            "f41053a1eb454a0286df6126638cbbc5",
            "5a367fb72f874403b907b2926e692626",
            "78e3f4d4445b4cb7ba6d18cf948fb381",
            "aa3e15c9fe594d389ab6275d0229169d",
            "b6f074526f1043b2a11183c04030186b",
            "381c7f1b972f4bf2a1f6fb1d9524fc8f",
            "8a75c87b7fd745ecbf55f61747d4eaa1",
            "e1bd2bb1ba09474f91d420c439f20f2c",
            "d2203c5a3a9c4503a7dd004b1513bfd4",
            "9e66796e3adc4e3ea00edbe7e5b92f19",
            "8067dabea87a43b58e8a7f04cd9c5c49",
            "bef562268f6c4b13be727c1a3b4f60be",
            "4104b6292b6d456e9d38472f64392521",
            "4fe8435e01cc46d8b7b434d3d3eefec6",
            "479efd00466d4d8db89dd30a49479088",
            "a64fed8431e9412d9033f8534a0f0800",
            "115f2ebb3db44b9bbe90b395bb339526",
            "5ecbb56d6e6b49fc8b72ab0e6e1cba92",
            "3fd415b66dc144108ca0d2979ce27152",
            "83b62c640fa945aea070c08c50897745",
            "3f2c92478f714696b77d2bff628a7f14",
            "3099694053da46a8a16c30f47b030f1e",
            "513c68719e25457d8c79fdccd99194b0",
            "54a14d97feb344669c02376ae894332a",
            "baedcbdaf3e64779b052bf1d314da6e2",
            "6506ebd05dc048a5b0d81ed737c2bad0",
            "1facc0ba395a49b39ca3343c7dda15c6",
            "5aa92ec72da0473ba75c4aea2a2e74a6",
            "060eb5296f02480a837e2b8655eef896",
            "2af2120c139c4a83bba293914fccf2d0",
            "1e5673b93746409daa912a8fa2959919",
            "84a4aba9ab524077be75a5066aafe01e",
            "caca5de0d09f4bb4847441c7875b5027",
            "b4adc5e1b316419ba9613c27e58ce45b",
            "af891899836a4ed49231ace3c269940f",
            "a4a796d31ca14bd88a5ccaa7ac81db89",
            "4b7e973e664546c48a3e14292659bc0f",
            "a26092899b504736819bf17b32404838",
            "63236ff5c70c4c0faf794d4daf876bed",
            "7c08a1d99d5c40af8fc69e482f49d8fc",
            "c3f6d17569a7465ebf35ff166522ce15",
            "d45ac5b7e0954f638b1eb84c0ec5feba",
            "933d2c7446a84226a0e44b1d97dcc3ff",
            "118f97b8983045e8ba2324c3ac330aa0",
            "2782b2ff93cc4ae2841a86b53d1d1b1e",
            "107f9eec886f4cafa1914dd599223f44",
            "7e9e23e22f724b729504c5cdcb268b2c",
            "58dc89d77ff74e25a6dda4e3614e174f",
            "ff077cc0b7624e34867de7a22504bd6f",
            "d3c6e5d577f94c84bea7f833a5bc921e",
            "2815c9f1cd7b4f69873474b805d30fe2",
            "f7173fbd7f0140c9bfb30fda791b6f59",
            "593aa9a1bf4142b29e0a322ce15b26bd",
            "dc2a2b9ad905410597803048fb7ae3d7",
            "e5ee0fd751a74654b176e6d449062a7e",
            "7cae75d2e7774bef87a7a97e52be05d8",
            "d8ba92ba83c44e1694ee5de76ed2a045",
            "226e546bfbab4ee5951314f6934e8a30",
            "4344401bce5344d098d62e7e669ebeef",
            "0135c322fd644192b5acda447d7d0a57",
            "a5d5675fa1074dd48898c7ff8ca91dd8",
            "4669b983b40a462eaa3bfeb314b7bc85",
            "c37fef942792410fa6584d7640b67f50",
            "89c6ce6ea94b4ee39c420d56cd97bb53",
            "bf13f775fdc14328a7b4000eec7f53f0",
            "89cf8139300d443284fd8d91cfd51fd1",
            "74aaad8d84e34e0286f3cbd465de63aa",
            "4d5f5bce5b5242c987501aa42572a6f6",
            "fbe5ed87f64b426e816f87a9d23ed97e",
            "d43dd24418724316a79d55f775404085",
            "602a195536754c3089de4ef70feff948",
            "f00e9e86f84249e5a09e6c6ddff62115",
            "2f0bbc3752f3411995c0f581e2fa63de",
            "5755b41a399048dc9eb8d1dda7f79566",
            "022d3f4c6c754d6a8fe51ee1ac588271",
            "91d91cc61bbd4c4db38b34ec0be224cd",
            "5f181fed14804cee967d20edd16ae230"
          ]
        },
        "outputId": "606f5429-f80b-4b3e-a496-01a6529f2713"
      },
      "outputs": [
        {
          "output_type": "display_data",
          "data": {
            "text/plain": [
              "modules.json:   0%|          | 0.00/349 [00:00<?, ?B/s]"
            ],
            "application/vnd.jupyter.widget-view+json": {
              "version_major": 2,
              "version_minor": 0,
              "model_id": "be5e72dd10c241418a97d1441933d12b"
            }
          },
          "metadata": {}
        },
        {
          "output_type": "display_data",
          "data": {
            "text/plain": [
              "config_sentence_transformers.json:   0%|          | 0.00/116 [00:00<?, ?B/s]"
            ],
            "application/vnd.jupyter.widget-view+json": {
              "version_major": 2,
              "version_minor": 0,
              "model_id": "47c3feaa6ba44f68889ac0df5116f5ab"
            }
          },
          "metadata": {}
        },
        {
          "output_type": "display_data",
          "data": {
            "text/plain": [
              "README.md:   0%|          | 0.00/10.6k [00:00<?, ?B/s]"
            ],
            "application/vnd.jupyter.widget-view+json": {
              "version_major": 2,
              "version_minor": 0,
              "model_id": "0d667717a6874cc19dabc8a709c45836"
            }
          },
          "metadata": {}
        },
        {
          "output_type": "display_data",
          "data": {
            "text/plain": [
              "sentence_bert_config.json:   0%|          | 0.00/53.0 [00:00<?, ?B/s]"
            ],
            "application/vnd.jupyter.widget-view+json": {
              "version_major": 2,
              "version_minor": 0,
              "model_id": "8198b2d5b5064395a56b78e3af6f9d0e"
            }
          },
          "metadata": {}
        },
        {
          "output_type": "display_data",
          "data": {
            "text/plain": [
              "config.json:   0%|          | 0.00/571 [00:00<?, ?B/s]"
            ],
            "application/vnd.jupyter.widget-view+json": {
              "version_major": 2,
              "version_minor": 0,
              "model_id": "f41053a1eb454a0286df6126638cbbc5"
            }
          },
          "metadata": {}
        },
        {
          "output_type": "display_data",
          "data": {
            "text/plain": [
              "model.safetensors:   0%|          | 0.00/438M [00:00<?, ?B/s]"
            ],
            "application/vnd.jupyter.widget-view+json": {
              "version_major": 2,
              "version_minor": 0,
              "model_id": "bef562268f6c4b13be727c1a3b4f60be"
            }
          },
          "metadata": {}
        },
        {
          "output_type": "display_data",
          "data": {
            "text/plain": [
              "tokenizer_config.json:   0%|          | 0.00/363 [00:00<?, ?B/s]"
            ],
            "application/vnd.jupyter.widget-view+json": {
              "version_major": 2,
              "version_minor": 0,
              "model_id": "513c68719e25457d8c79fdccd99194b0"
            }
          },
          "metadata": {}
        },
        {
          "output_type": "display_data",
          "data": {
            "text/plain": [
              "vocab.txt:   0%|          | 0.00/232k [00:00<?, ?B/s]"
            ],
            "application/vnd.jupyter.widget-view+json": {
              "version_major": 2,
              "version_minor": 0,
              "model_id": "b4adc5e1b316419ba9613c27e58ce45b"
            }
          },
          "metadata": {}
        },
        {
          "output_type": "display_data",
          "data": {
            "text/plain": [
              "tokenizer.json:   0%|          | 0.00/466k [00:00<?, ?B/s]"
            ],
            "application/vnd.jupyter.widget-view+json": {
              "version_major": 2,
              "version_minor": 0,
              "model_id": "2782b2ff93cc4ae2841a86b53d1d1b1e"
            }
          },
          "metadata": {}
        },
        {
          "output_type": "display_data",
          "data": {
            "text/plain": [
              "special_tokens_map.json:   0%|          | 0.00/239 [00:00<?, ?B/s]"
            ],
            "application/vnd.jupyter.widget-view+json": {
              "version_major": 2,
              "version_minor": 0,
              "model_id": "7cae75d2e7774bef87a7a97e52be05d8"
            }
          },
          "metadata": {}
        },
        {
          "output_type": "display_data",
          "data": {
            "text/plain": [
              "1_Pooling/config.json:   0%|          | 0.00/190 [00:00<?, ?B/s]"
            ],
            "application/vnd.jupyter.widget-view+json": {
              "version_major": 2,
              "version_minor": 0,
              "model_id": "74aaad8d84e34e0286f3cbd465de63aa"
            }
          },
          "metadata": {}
        }
      ],
      "source": [
        "from sentence_transformers import SentenceTransformer\n",
        "model = SentenceTransformer('sentence-transformers/all-mpnet-base-v2')"
      ]
    },
    {
      "cell_type": "code",
      "execution_count": 386,
      "metadata": {
        "id": "mSgmC03zm7A_"
      },
      "outputs": [],
      "source": [
        "train_embeddings = model.encode(X_train)\n",
        "test_embeddings = model.encode(X_test)"
      ]
    },
    {
      "cell_type": "code",
      "execution_count": 387,
      "metadata": {
        "id": "xW8YkXvppAtj"
      },
      "outputs": [],
      "source": [
        "train_embeddings = np.array(train_embeddings)\n",
        "test_embeddings = np.array(test_embeddings)"
      ]
    },
    {
      "cell_type": "code",
      "execution_count": 388,
      "metadata": {
        "colab": {
          "base_uri": "https://localhost:8080/"
        },
        "id": "yAngVJTRqIyk",
        "outputId": "cbdfe6d7-d3dd-43f6-aa20-0dac85483f10"
      },
      "outputs": [
        {
          "output_type": "execute_result",
          "data": {
            "text/plain": [
              "array([[ 0.0109848 ,  0.01896756,  0.01209819, ...,  0.04830768,\n",
              "         0.01735311,  0.01770577],\n",
              "       [-0.03931896,  0.00623372,  0.00293071, ..., -0.01261665,\n",
              "        -0.01389553, -0.02045456],\n",
              "       [-0.05225196,  0.08105722,  0.0011753 , ..., -0.01524275,\n",
              "         0.023502  , -0.03689625],\n",
              "       ...,\n",
              "       [-0.01752138,  0.03280552,  0.01034239, ...,  0.019921  ,\n",
              "         0.04649536,  0.01326253],\n",
              "       [-0.0341735 ,  0.02791867,  0.02100333, ...,  0.05202941,\n",
              "        -0.01385396,  0.02195873],\n",
              "       [ 0.02048311, -0.01192609, -0.01057256, ...,  0.04736524,\n",
              "         0.02595372,  0.01181562]], dtype=float32)"
            ]
          },
          "metadata": {},
          "execution_count": 388
        }
      ],
      "source": [
        "train_embeddings"
      ]
    },
    {
      "cell_type": "code",
      "execution_count": 389,
      "metadata": {
        "id": "ZQy16pJznKbK"
      },
      "outputs": [],
      "source": [
        "approximation = False\n",
        "metric = 'euclidean'\n",
        "#pivot Tree parameters that are relevant for us\n",
        "configurations = {'max_depth': [2,3,4],\n",
        "                  'allow_oblique_splits' : [False],\n",
        "                  'force_oblique_splits': [False],\n",
        "                  'max_oblique_features' : [2],\n",
        "                  'pivot_oblique_choice_features' : [None,2,3,4],\n",
        "                  'approximation' : [approximation]\n",
        "                 }\n",
        "\n",
        "possible_configurations = [x for x in generate_param_configurations(configurations)]\n"
      ]
    },
    {
      "cell_type": "code",
      "execution_count": 390,
      "metadata": {
        "colab": {
          "base_uri": "https://localhost:8080/"
        },
        "id": "9Y6IqL-fnKbL",
        "outputId": "50f0bb29-d58c-4028-c895-4cab5825600f"
      },
      "outputs": [
        {
          "output_type": "execute_result",
          "data": {
            "text/plain": [
              "{'max_depth': 3,\n",
              " 'allow_oblique_splits': False,\n",
              " 'force_oblique_splits': False,\n",
              " 'max_oblique_features': 2,\n",
              " 'pivot_oblique_choice_features': None,\n",
              " 'approximation': False}"
            ]
          },
          "metadata": {},
          "execution_count": 390
        }
      ],
      "source": [
        "params_list = possible_configurations[-8]\n",
        "params_list"
      ]
    },
    {
      "cell_type": "code",
      "execution_count": 391,
      "metadata": {
        "id": "FF98B1b8nKbL"
      },
      "outputs": [],
      "source": [
        "pairwise_dist_matrix = pairwise_distances(train_embeddings, metric = 'euclidean')"
      ]
    },
    {
      "cell_type": "code",
      "execution_count": 392,
      "metadata": {
        "id": "yoak7mr9nKbL"
      },
      "outputs": [],
      "source": [
        "pivot_tree, prototypes, time_selection = pivot_tree_selection(params_list, pairwise_dist_matrix, train_embeddings, y_train, random_state = 0)"
      ]
    },
    {
      "cell_type": "code",
      "execution_count": 393,
      "metadata": {
        "colab": {
          "base_uri": "https://localhost:8080/"
        },
        "id": "kunP5jn8nKbL",
        "outputId": "9be73da8-8b7c-4314-a5b1-dcb3036674b8"
      },
      "outputs": [
        {
          "output_type": "stream",
          "name": "stdout",
          "text": [
            "PivotTree\n",
            "[(True, ['node_id: 0  pivot: 98'], [1.0], 1.1892850995063782, False, 0), (True, ['node_id: 1  pivot: 76'], [1.0], 1.0463799834251404, False, 1), (False, 0, 30, 0.3, 3, 2), (True, ['node_id: 4  pivot: 83'], [1.0], 1.2332795858383179, False, 2), (False, 0, 9, 0.09, 9, 3), (False, 1, 4, 0.04, 10, 3), (True, ['node_id: 2  pivot: 39'], [1.0], 1.1609233617782593, False, 1), (True, ['node_id: 5  pivot: 90'], [1.0], 1.0409137606620789, False, 2), (False, 1, 3, 0.03, 11, 3), (False, 0, 19, 0.19, 12, 3), (True, ['node_id: 6  pivot: 7'], [1.0], 1.2342563271522522, False, 2), (False, 1, 27, 0.27, 13, 3), (False, 0, 8, 0.08, 14, 3)]\n",
            "|-+ if node_id: 0  pivot: 98 <= 1.19:\n",
            "  |-+ if node_id: 1  pivot: 76 <= 1.05:\n",
            "    |--> label: 0 (30, 0.3)\n",
            "    |-+ if node_id: 4  pivot: 83 <= 1.23:\n",
            "      |--> label: 0 (9, 0.09)\n",
            "      |--> label: 1 (4, 0.04)\n",
            "  |-+ if node_id: 2  pivot: 39 <= 1.16:\n",
            "    |-+ if node_id: 5  pivot: 90 <= 1.04:\n",
            "      |--> label: 1 (3, 0.03)\n",
            "      |--> label: 0 (19, 0.19)\n",
            "    |-+ if node_id: 6  pivot: 7 <= 1.23:\n",
            "      |--> label: 1 (27, 0.27)\n",
            "      |--> label: 0 (8, 0.08)\n",
            "\n",
            "\n",
            "Accuracy 0.66\n"
          ]
        }
      ],
      "source": [
        "print('PivotTree')\n",
        "print(pivot_tree.print_tree())\n",
        "print('')\n",
        "\n",
        "y_pred = pivot_tree.predict(test_embeddings)\n",
        "print('Accuracy', accuracy_score(y_test, y_pred))"
      ]
    },
    {
      "cell_type": "code",
      "execution_count": 394,
      "metadata": {
        "colab": {
          "base_uri": "https://localhost:8080/"
        },
        "id": "fZBKCasvnKbL",
        "outputId": "d37b9435-af02-4d3b-9f9f-e6dc7b4ac85f"
      },
      "outputs": [
        {
          "output_type": "execute_result",
          "data": {
            "text/plain": [
              "6"
            ]
          },
          "metadata": {},
          "execution_count": 394
        }
      ],
      "source": [
        "len(prototypes['X_pivots_discriminative_descriptive'])\n",
        "len(prototypes['X_pivots_used'])"
      ]
    },
    {
      "cell_type": "code",
      "execution_count": 395,
      "metadata": {
        "colab": {
          "base_uri": "https://localhost:8080/"
        },
        "id": "9q1D8s7HnKbM",
        "outputId": "34385721-8aa9-4b3b-9d5c-65b27dca56af"
      },
      "outputs": [
        {
          "output_type": "execute_result",
          "data": {
            "text/plain": [
              "[7, 39, 76, 83, 90, 98]"
            ]
          },
          "metadata": {},
          "execution_count": 395
        }
      ],
      "source": [
        "idxs = []\n",
        "for i, x in enumerate(train_embeddings):\n",
        "  if list(x) in [list(k) for k in prototypes['X_pivots_used']]:\n",
        "    idxs += [i]\n",
        "\n",
        "idxs"
      ]
    },
    {
      "cell_type": "code",
      "execution_count": 396,
      "metadata": {
        "colab": {
          "base_uri": "https://localhost:8080/"
        },
        "id": "CP9jiYN2nKbM",
        "outputId": "e789976c-8b27-4275-db2f-7ffb8e9e0435"
      },
      "outputs": [
        {
          "output_type": "stream",
          "name": "stdout",
          "text": [
            "Back in 2004 I saw \"True\", Tom Tykwer's contribution to Paris Je T'aime. When I saw it I loved it and became thrilled. It became my favorite short film and made me appreciate the format so much. Of course I wanted to watch the whole film, and I would even check who was attached, etc.<br /><br />Yesterday I finally saw it, courtesy of the internet.<br /><br />First of all I must say that it looks AWESOME. The photography is BEAUTIFUL in every short and shot, at the worst being nothing special - but still brilliant and clear. Later I read the trivia here, and maybe it's how scanning in 6K gives more justice to all the DP's work. My special favorites are the \"Quais de Seine\" first scene (that sunlight!), the Sin City-esquire (but better for me) \"Quartier de la Madeleine\", and \"14th Arrondisement\" - but you know, what the hell I like them all: \"True\" or \"Faubourg Saint-Denis\" still makes me nervous with those brilliant colours (my eyes, they tremble!) and \"Quartier Latin\" is gold imprisoned on silver. Beautiful.<br /><br />Yes, these are some BEAUTIFUL short films.<br /><br />Now let's get onto the content. I very much (and I mean VERY MUCH) like the eclecticism that is so successfully felt. You never have have the same themes or treatment between two shorts, and I think the formula is restrictive enough to let all these artists explore beautiful and deepening things inside the shorts. I loved coming from a simple love story into a crazy-Chinese-musical-in-Paris-with-Barbet-Schroeder into a social commentary into a terror comedy into a humble monologue. I love surprises! And this film has them! It's great they took a chance to let all these director's flesh out things that are not usual in mainstream cinema (which I have come to heavily despise). It's not heavily experimental, but I can breath the breathing space these people had.<br /><br />I like the small time and I love the acting. I love the simplicity and I love the love. I like the simple feelings and the beauty and the eclecticism and in general it's a film that is very very very nice to see, alone or with someone. To simply feel. It left me feeling very good.<br /><br />There is something about the earnestness in it... it's so frank...<br /><br />What I didn't like? Well, for me there are two shorts that aren't exactly the best - \"Quais de Seine\" (which is good natured, sure, and maybe even necessary, but feels too much like a commercial?) and \"Père-Lachaise\" that even though I love the acting, I felt it's themes were forced. But that of course, is just me. \"Tour Eiffel\" I also didn't love but I think is probably because of my very different sensibility from that of Sylvain Chomet? I don't know if this film has a special interest for people who already know the actor's and directors, and so they can delight in their interaction, in the surprises (look out for Alexander Payne in a funny role) and basically in \"what will this director do with this?\" great question. I enjoyed it very much in that way.<br /><br />I repeat now: Most shorts I loved and all of them together form a beautiful and energetic mix. I definitely recommend it. Definitely!!! So, watch it if you like Eclectic Beautiful Love!\n",
            "1 positive\n",
            "I read Tom Robbins' EVEN COWGIRLS GET THE BLUES as a teenager. I loved every word. It was sexy, funny, and full of glamorous scenery and beautiful writing. But when I saw the movie, I could not believe what a dull, sour, joyless piece of junk it was. How did this happen? I think someone in Hollywood read this book and filed it under \"GAY PRIDE -- WOMEN -- LESBIANS.\" (That's the Library of Congress subject heading.) Now anyone over 12 who reads the book will know it has NOTHING TO DO with real lesbians, any more than STAR WARS is about real space travel. The book was obviously -- and I do mean OBVIOUSLY --written by a heterosexual male who loves the IDEA of lesbians (in the nude, all the time)but has never really met one.<br /><br />Still, someone in Hollywood said, \"uh oh, better give this to a Gay director or Gay People will make trouble.\" So they handed it to Gus Van Sant. Nothing against the man, but -- however Gay he may really be -- he has not a clue as to how to make a funny film. Gus Van Sant took a straight man's playful fantasy of guilt-free girl/girl action and male voyeurism turned it into a dull, literal-minded Lesbian Power Recruiting Poster. It's like turning an Oscar Wilde comedy into an Arthur Miller tragedy. Not pretty.<br /><br />The main clue that Gus Van Sant had absolutely no idea what to do with the source material is the riotously bad casting. His clout allowed him to hire the very best. His ignorance of the novel's real subtext (a straight man's fantasy, not a gay pride recruiting poster)caused him to make choices that were not only bad, but bizarre.<br /><br />Let's meet the cast of EVEN COWGIRLS GET THE BLUES.<br /><br />PAT MORITA as \"THE CHINK\" Okay, there are few name-recognition Asian actors. And Pat Morita, in HAPPY DAYS, was fairly funny. But casting him as THE CHINK was wrong, wrong, wrong. Pat Morita has no idea that the Chink is a very funny man. (Gus didn't tell him.) Pat also doesn't seem to know that the Chink is . . . well, SEXY!!! In the book he's not wise old Mr. Miyagi. He's more like Hugh Hefner! He's a randy old goat and he knows A LOT about pleasing the nubile and responsive Sissy AND Bonanza Jellybean. (You see, in the book, they aren't REALLY lesbians. Do you get that this is a straight man's fantasy yet?) <br /><br />JOHN HURT as \"THE COUNTESS.\" Okay, he's a gay friendly man. But he is a SERIOUS, SHAKESPEAREAN ACTOR!!!! You need someone who is fun, and camp, for this role. For John Hurt to be cast as a goofy guy like the Countess is tragic and sad. I kept expecting Paul Scofield to wander in all dressed up as Thomas More, and sadly shake his head. \"Now, Richard, you know you've lost your soul entirely. For shame, my former student!\" And yes, John Hurt was funny (and pretty gay) as Caligula. But that was BLACK humor, not playful and breezy humor like the book.<br /><br />RAIN PHOENIX as \"Bonanza Jellybean.\" No talent, no training, no problem. Except that in the book Bonanza is funny, playful, cheerful, (mostly) heterosexual, and loving. In the movie she's sullen, passive, expressionless, and dull. As for her taste for women, Robbins in the book puts it like this. \"God knows I love women, but nothing can take the place of a man that fits.\" Uh, Gus? Did you read this book? <br /><br />UMA THURMAN as \"Sissy Hankshaw.\" This is a tough role. In the book Sissy really is an unusually passive and timid heroine. Still, a more accomplished actress might have manufactured a twinkle in her eye, or a sway in her walk, to imply some sort of hidden strength or hidden enjoyment of her adventures. Uma doesn't pull it off, probably because Gus never told her Sissy is supposed to ENJOY being a hitch hiker with a beautiful body and giant thumbs. Uma plays it more like she's in a TV movie about a girl dying of leukemia. <br /><br />This movie is sour and dull. And I accuse YOU, Gus Van Sant!\n",
            "0 negative\n",
            "This is without a doubt the STUPIDEST movie of all time.<br /><br />I don't know who I'm angrier at--the idiots who made this or my video store for actually carrying this piece of crap!!<br /><br />I can't even begin to name all of the things wrong with this horrible wanna-be movie.<br /><br />All of the dialogue sounds like it was made up on the spot, and the acting is the worst I have ever seen in any movie-EVER!!<br /><br />There is nothing about the script that would appeal to any decent person, in fact I don't think they even had a script, they just made up everything as they went along--and you can tell.<br /><br />The \"women\" (i.e. men dressed up in drag trying to look like women) in the costumes looked so ridiculous, I guess they were trying to be sexy but--NOT SO MUCH!! Especially that old woman-disgusting.<br /><br />There is nothing scary about this movie, the only thing scary is that somebody else might actually rent it and have to watch it.<br /><br />No brain required for watching this, you must be a total loser to want to see this movie.<br /><br />Don't forget-- I WARNED YOU!!!\n",
            "0 negative\n",
            "Somebody owes Ang Lee an apology. Actually, a lot of people do. And I'll start. I was never interested in the Ang Lee film Hulk, because of the near unanimous bad reviews. Even the premium cable channels seemed to rarely show it. I finally decided to watch it yesterday on USA network and, wow....<br /><br />SPOILERS FOR ANG LEE'S HULK AND THE INCREDIBLE HULK <br /><br />Was it boring! I almost didn't make it through Ang Lee's Hulk. Eric Bana was expressionless, Nick Nolte was horrible, Sam Elliott was unlikeable (and that's no fun, he's usually a cool character). In fact, I honestly think they chose Eric Bana because his non-descript face was the easiest to mimic with computer graphics - and it was clear that the Ang Lee Hulk was meant to facially resemble Bruce Banner in his non-angry state. When Hulk fought a mutant poodle I was ready to concede Hulk as the worst superhero movie ever.<br /><br />But then something happened. About 3/4 of the way through this tedious movie, there was a genuinely exciting and - dare I say it - reasonably convincing - extended action scene that starts with Hulk breaking out of a containment chamber in a military base, fighting M1 tanks and Comanche helicopters in the desert, then riding an F22 Raptor into the stratosphere, only to be captured on the streets of San Francisco. This was one of the best action sequences ever made for a superhero movie. And I have to say, the CGI was quite good. That's not to say that the Hulk was totally convincing. But it didn't require much more suspension of disbelief than is required in a lot of non-superhero action movies. And that's quite a feat.<br /><br />Of course, the ending got really stupid with Bruce Banner's father turning into some sort of shape-shifting villain but the earlier long action sequence put any of Iron Man's brief heroics to shame. And overall, apart from the animated mutant dogs, it really did seem like the CGI in Hulk tried hard to convince you that he was real and really interacting with his environment. It was certainly better than I expected.<br /><br />OK, but what about The Incredible Hulk? Guess what... It's boring too! It has just a few appearances by the Hulk and here's the thing - the CGI in this movie is horrible. Maybe the Hulk in Ang Lee's version looked fake at times and cartoonish at others - but it had its convincing moments also. The Incredible Hulk looked positively ridiculous. It had skin tone and muscle tone that didn't even look like a living creature, just some sort of computer-generated texture. It was really preposterous. The lighting, environment and facial effects didn't look 5 years newer than Ang Lee's, they looked 10 years older. And there really is no excuse for that. We truly are living in an era where computer programmers can ruin a movie just as thoroughly as any director, actor or cinematographer ever could.<br /><br />Worse, the writer and director of this movie seemed to learn almost nothing from Ang Lee's \"failure\". All the same mistakes are made. Bruce Banner is practically emotionless. The general is so relentlessly, implausibly one-dimensional that he seems faker than the Hulk. The love interest is unconvincing (I have to give Liv Tyler credit for being more emotional than Jennifer Connelly, though both are quite easy on the eyes). Tim Blake Nelson overacts almost as much as Nick Nolte, even though he's only in the movie for a few minutes. The Hulk really doesn't do much in this movie, certainly not any more than in Ang Lee's version. The Incredible Hulk was slightly more fast-paced, but since nothing really happened anyway that's not worth much. Oh yeah, the villain is every bit as phony looking as the Hulk. He's actually much more interesting as a human than as a monster. <br /><br />This is how I can definitively say Ang Lee's version was better: if I ever have the chance to see Ang Lee's version again, I might be able to sit through it to see the good action sequences, or else to try to appreciate the dialogue a little more (more likely I'd just fast forward to the good parts). But there is absolutely not a single scene in The Incredible Hulk that is worth seeing once, let alone twice. It is truly at the bottom of the heap of superhero movies. The cartoonish CGI is an insult to the audience - at least in Ang Lee's version it seems like they were trying to make it realistic (except for the giant poodle, of course).<br /><br />It is absolutely mind-boggling how the filmmakers intended to erase the bad feelings associated with Ang Lee's Hulk by making almost exactly the same movie. <br /><br />It is to Edward Norton's credit that he seems to be distancing himself from this film.\n",
            "0 negative\n",
            "Of course, the story line for this movie isn't the best, but the dances are wonderful. This story line is different from other Astaire-Rogers movies in that neither one is \"chasing\" the other. The dancing of Fred and Ginger is what makes this movie.\n",
            "1 positive\n",
            "That is what this movie is. Good God the special effects suck in this movie. It is difficult for anything to suck more than this movie's plot, but the special effects manage to pull it off. Let me try to explain just how bad this movie is.<br /><br />First, there is the plot. There are four punk-ass teenage dirt bikers who are riding around in a forest in Duluth, MN. One of them is a dumb-ass and tries a ridiculous jump and breaks his leg. A paramedic comes to help him, but gets stranded with them when the helicopter breaks. Then all five realize that there is a forest fire, which we see is started by some guy dumping tons of gas all over the forest. All they show us is his boots, and they show scene after scene of this guys boots walking around dumping gas and starting fires. Meanwhile, the teenagers try to escape the fire, only to find that boot man has somehow managed to get ahead of them (while they were speeding through the forest on dirt bikes!), dump gas all over the area they were riding through, and start more fires. He does this several times, and the paramedic finally catches him and starts him on fire. I won't spoil the ending, but this guy's resilience will have you shouting \"WHAT THE BLOODY HELL?!?!\" at the screen. Anyway, they are now surrounded by fire, and their only escape is through a mine which is filled with methane gas. Yes, methane gas. I'm not even going to try to describe the ending, because it is too ridiculous, and you'll enjoy it more if you don't see it coming. Which you won't, because you can't possibly expect what happens. This is because of the second major problem with this movie: consistency.<br /><br />Is some semblance of consistence too much to ask for? Apparently so. I cannot even count the number of broken limbs in this movie (they keep breaking arms and legs while crashing their bikes). I think each character breaks at least one limb, and several more than one. They then limp around until the scene ends, and then forget that they're supposed to have broken limbs. There is one scene where three of them who are supposed to have broken legs start dancing. But then their injuries suddenly return when the plot needs them to.<br /><br />Finally, the CGI. If there is a hell, it consists of watching the fire in this movie. All they did for the forest fires is line the dirt paths with CGI fire. You can clearly see that the only CGI fire is along the paths, and all of the trees more than two feet from the path are left untouched. And then they zoom out and show the whole forest being engulfed in flames. It's hard to describe in words how ridiculous it looks, but I assure you that the ridiculousness is quite impressive.<br /><br />This movie is one of those so-bad-its-good types. There are some occasions where it descends into the painful-bad category, but for the most part it stays above the line and is laughably inept. I can't wait to check out the other Nature Unleashed movies that came in the four-pack with this one.\n",
            "0 negative\n"
          ]
        }
      ],
      "source": [
        "for id in idxs:\n",
        "  length_text = len(X_train[id])\n",
        "  text = X_train[id]\n",
        "  print(text)\n",
        "  print(y_train[id], classes_dict[y_train[id]])\n",
        "  plt.show()"
      ]
    },
    {
      "cell_type": "code",
      "execution_count": 397,
      "metadata": {
        "id": "mUITItSDnKbM"
      },
      "outputs": [],
      "source": [
        "X_pivots_name = 'X_pivots_used'"
      ]
    },
    {
      "cell_type": "code",
      "execution_count": 398,
      "metadata": {
        "id": "VahccQiYnKbM"
      },
      "outputs": [],
      "source": [
        "#train a decision tree on the mapped space\n",
        "X_train_reduced, time_pairwise_training = pariwise_computation(train_embeddings, prototypes[X_pivots_name], metric) #reduce training set\n",
        "X_test_reduced, time_pairwise_test =  pariwise_computation(test_embeddings, prototypes[X_pivots_name], metric) #reduce validation set"
      ]
    },
    {
      "cell_type": "code",
      "execution_count": 399,
      "metadata": {
        "id": "mchLgT5dnKbM"
      },
      "outputs": [],
      "source": [
        "knn = KNeighborsClassifier(n_neighbors=5, metric = metric)\n",
        "knn.fit(X_train_reduced, y_train)\n",
        "predictions = knn.predict(X_test_reduced)\n",
        "KNN_score_dict = compute_score(y_test, predictions)"
      ]
    },
    {
      "cell_type": "code",
      "execution_count": 400,
      "metadata": {
        "colab": {
          "base_uri": "https://localhost:8080/"
        },
        "id": "TO5cEPPknKbM",
        "outputId": "c28e3f19-3f7f-4fe6-aab6-003ae1128c9c"
      },
      "outputs": [
        {
          "output_type": "execute_result",
          "data": {
            "text/plain": [
              "{'balanced_accuracy_score': 0.6104441776710685,\n",
              " 'f1_score': 0.60996099609961,\n",
              " 'accuracy_score': 0.61,\n",
              " 'precision_score': 0.6105769230769231,\n",
              " 'recall_score': 0.6104441776710685}"
            ]
          },
          "metadata": {},
          "execution_count": 400
        }
      ],
      "source": [
        "KNN_score_dict"
      ]
    },
    {
      "cell_type": "code",
      "execution_count": 401,
      "metadata": {
        "id": "Bkh2NyVenKbM"
      },
      "outputs": [],
      "source": [
        "dt = DecisionTreeClassifier(max_depth = 4, min_samples_leaf = 3, min_samples_split = 5, random_state = 0)\n",
        "dt.fit(X_train_reduced, y_train)\n",
        "predictions = dt.predict(X_test_reduced)\n",
        "DT_score_dict = compute_score(y_test, predictions)"
      ]
    },
    {
      "cell_type": "code",
      "execution_count": 402,
      "metadata": {
        "colab": {
          "base_uri": "https://localhost:8080/"
        },
        "id": "PiR0mr4VnKbM",
        "outputId": "6976e217-ea10-4cba-a7b1-0bd7003b6452"
      },
      "outputs": [
        {
          "output_type": "execute_result",
          "data": {
            "text/plain": [
              "{'balanced_accuracy_score': 0.5912364945978391,\n",
              " 'f1_score': 0.5889724310776941,\n",
              " 'accuracy_score': 0.59,\n",
              " 'precision_score': 0.5925324675324675,\n",
              " 'recall_score': 0.5912364945978391}"
            ]
          },
          "metadata": {},
          "execution_count": 402
        }
      ],
      "source": [
        "DT_score_dict"
      ]
    },
    {
      "cell_type": "code",
      "execution_count": 403,
      "metadata": {
        "id": "QVPM9SLQnKbM"
      },
      "outputs": [],
      "source": [
        "from sklearn.datasets import load_iris\n",
        "from sklearn.model_selection import train_test_split\n",
        "from sklearn.tree import export_text\n"
      ]
    },
    {
      "cell_type": "code",
      "execution_count": 404,
      "metadata": {
        "colab": {
          "base_uri": "https://localhost:8080/"
        },
        "id": "WHY3Y41QnKbN",
        "outputId": "ddf84ba2-23f1-4228-f121-b471959b3e99"
      },
      "outputs": [
        {
          "output_type": "stream",
          "name": "stdout",
          "text": [
            "DecisionTreeClassifier\n",
            "|--- 7 <= 1.19\n",
            "|   |--- 39 <= 1.05\n",
            "|   |   |--- 76 <= 1.18\n",
            "|   |   |   |--- class: 0\n",
            "|   |   |--- 76 >  1.18\n",
            "|   |   |   |--- 76 <= 1.23\n",
            "|   |   |   |   |--- class: 0\n",
            "|   |   |   |--- 76 >  1.23\n",
            "|   |   |   |   |--- class: 0\n",
            "|   |--- 39 >  1.05\n",
            "|   |   |--- 83 <= 1.23\n",
            "|   |   |   |--- 98 <= 1.17\n",
            "|   |   |   |   |--- class: 1\n",
            "|   |   |   |--- 98 >  1.17\n",
            "|   |   |   |   |--- class: 0\n",
            "|   |   |--- 83 >  1.23\n",
            "|   |   |   |--- class: 1\n",
            "|--- 7 >  1.19\n",
            "|   |--- 76 <= 1.16\n",
            "|   |   |--- 90 <= 1.04\n",
            "|   |   |   |--- class: 1\n",
            "|   |   |--- 90 >  1.04\n",
            "|   |   |   |--- 90 <= 1.17\n",
            "|   |   |   |   |--- class: 0\n",
            "|   |   |   |--- 90 >  1.17\n",
            "|   |   |   |   |--- class: 1\n",
            "|   |--- 76 >  1.16\n",
            "|   |   |--- 98 <= 1.23\n",
            "|   |   |   |--- 7 <= 1.30\n",
            "|   |   |   |   |--- class: 1\n",
            "|   |   |   |--- 7 >  1.30\n",
            "|   |   |   |   |--- class: 1\n",
            "|   |   |--- 98 >  1.23\n",
            "|   |   |   |--- 90 <= 1.22\n",
            "|   |   |   |   |--- class: 0\n",
            "|   |   |   |--- 90 >  1.22\n",
            "|   |   |   |   |--- class: 1\n",
            "\n",
            "\n"
          ]
        }
      ],
      "source": [
        "print('DecisionTreeClassifier')\n",
        "print(export_text(dt, feature_names=idxs))\n",
        "print('')"
      ]
    },
    {
      "cell_type": "code",
      "execution_count": 405,
      "metadata": {
        "id": "hQ7Q9V9EnKbN",
        "colab": {
          "base_uri": "https://localhost:8080/",
          "height": 228
        },
        "outputId": "094021c7-1318-4671-a2c7-4bc6536720a6"
      },
      "outputs": [
        {
          "output_type": "error",
          "ename": "IndexError",
          "evalue": "index 100 is out of bounds for axis 0 with size 100",
          "traceback": [
            "\u001b[0;31m---------------------------------------------------------------------------\u001b[0m",
            "\u001b[0;31mIndexError\u001b[0m                                Traceback (most recent call last)",
            "\u001b[0;32m<ipython-input-405-a6a67b3dda50>\u001b[0m in \u001b[0;36m<cell line: 1>\u001b[0;34m()\u001b[0m\n\u001b[0;32m----> 1\u001b[0;31m \u001b[0mids_test\u001b[0m \u001b[0;34m=\u001b[0m \u001b[0;34m[\u001b[0m\u001b[0mx\u001b[0m \u001b[0;32mfor\u001b[0m \u001b[0mx\u001b[0m \u001b[0;32min\u001b[0m \u001b[0mrange\u001b[0m\u001b[0;34m(\u001b[0m\u001b[0;36m1000\u001b[0m\u001b[0;34m)\u001b[0m \u001b[0;32mif\u001b[0m \u001b[0my_test\u001b[0m\u001b[0;34m[\u001b[0m\u001b[0mx\u001b[0m\u001b[0;34m]\u001b[0m \u001b[0;34m==\u001b[0m \u001b[0;36m2\u001b[0m\u001b[0;34m]\u001b[0m\u001b[0;34m\u001b[0m\u001b[0;34m\u001b[0m\u001b[0m\n\u001b[0m\u001b[1;32m      2\u001b[0m \u001b[0mids_test\u001b[0m\u001b[0;34m\u001b[0m\u001b[0;34m\u001b[0m\u001b[0m\n",
            "\u001b[0;32m<ipython-input-405-a6a67b3dda50>\u001b[0m in \u001b[0;36m<listcomp>\u001b[0;34m(.0)\u001b[0m\n\u001b[0;32m----> 1\u001b[0;31m \u001b[0mids_test\u001b[0m \u001b[0;34m=\u001b[0m \u001b[0;34m[\u001b[0m\u001b[0mx\u001b[0m \u001b[0;32mfor\u001b[0m \u001b[0mx\u001b[0m \u001b[0;32min\u001b[0m \u001b[0mrange\u001b[0m\u001b[0;34m(\u001b[0m\u001b[0;36m1000\u001b[0m\u001b[0;34m)\u001b[0m \u001b[0;32mif\u001b[0m \u001b[0my_test\u001b[0m\u001b[0;34m[\u001b[0m\u001b[0mx\u001b[0m\u001b[0;34m]\u001b[0m \u001b[0;34m==\u001b[0m \u001b[0;36m2\u001b[0m\u001b[0;34m]\u001b[0m\u001b[0;34m\u001b[0m\u001b[0;34m\u001b[0m\u001b[0m\n\u001b[0m\u001b[1;32m      2\u001b[0m \u001b[0mids_test\u001b[0m\u001b[0;34m\u001b[0m\u001b[0;34m\u001b[0m\u001b[0m\n",
            "\u001b[0;31mIndexError\u001b[0m: index 100 is out of bounds for axis 0 with size 100"
          ]
        }
      ],
      "source": [
        "ids_test = [x for x in range(1000) if y_test[x] == 2]\n",
        "ids_test"
      ]
    },
    {
      "cell_type": "code",
      "execution_count": 406,
      "metadata": {
        "colab": {
          "base_uri": "https://localhost:8080/"
        },
        "id": "ialFx82FnKbN",
        "outputId": "ca38a604-38ac-40ff-df25-47824fa0bbf4"
      },
      "outputs": [
        {
          "output_type": "stream",
          "name": "stdout",
          "text": [
            "The duo of Abbott and Costello lives on in this version of a story-time classic. In \"Jack and the Beanstalk\", there's everything to see, music, magic, and comedy rolled into one. Costello play plays Jack after he listens to the story being told by a young boy one time. We know Jack was a poor boy who sells his cow \"Dolly\" for 5 magic beans. Well, he plants those 5 beans, and they were indeed, magic. He climbs to the sky, sees a big castle there, and he would sing a song, unknown he would encounter the giant(Buddy Baer). Not only him, he would dance with the woman who was also a giant. She would clobber Jack with her elbows during the dance. That was funny! You got the playing harp who knows how to put the giant as ease. The goose who lays golden eggs. And my favorite, the way Jack gets rid of the giant. He gets the ax, and started chopping down on the beanstalk. Another funny is where the ax got stuck during the chop, and the final celebration happens when the people dance around the imprint where the giant fell. A lot of fun, and fun for the whole family as well. Very recommended! 5 stars!\n",
            "1 positive\n"
          ]
        }
      ],
      "source": [
        "id_test = 23\n",
        "\n",
        "##500 vabenne\n",
        "\n",
        "print(X_test[id_test])\n",
        "print(y_test[id_test], classes_dict[y_test[id_test]])\n",
        "plt.show()"
      ]
    },
    {
      "cell_type": "code",
      "execution_count": 408,
      "metadata": {
        "colab": {
          "base_uri": "https://localhost:8080/"
        },
        "id": "MkOA2yyFnKbN",
        "outputId": "d03d441a-ef50-4259-cc98-2858a32d8f94"
      },
      "outputs": [
        {
          "output_type": "execute_result",
          "data": {
            "text/plain": [
              "array([1])"
            ]
          },
          "metadata": {},
          "execution_count": 408
        }
      ],
      "source": [
        "knn.predict([X_test_reduced[id_test]])"
      ]
    },
    {
      "cell_type": "code",
      "execution_count": 409,
      "metadata": {
        "id": "TY9iIsdSnKbN"
      },
      "outputs": [],
      "source": [
        "from sklearn.neighbors import NearestNeighbors"
      ]
    },
    {
      "cell_type": "code",
      "execution_count": 410,
      "metadata": {
        "colab": {
          "base_uri": "https://localhost:8080/",
          "height": 75
        },
        "id": "U82ywEHunKbN",
        "outputId": "1262def3-b8a3-48b7-d90e-a2b4b35fefd8"
      },
      "outputs": [
        {
          "output_type": "execute_result",
          "data": {
            "text/plain": [
              "NearestNeighbors()"
            ],
            "text/html": [
              "<style>#sk-container-id-13 {color: black;background-color: white;}#sk-container-id-13 pre{padding: 0;}#sk-container-id-13 div.sk-toggleable {background-color: white;}#sk-container-id-13 label.sk-toggleable__label {cursor: pointer;display: block;width: 100%;margin-bottom: 0;padding: 0.3em;box-sizing: border-box;text-align: center;}#sk-container-id-13 label.sk-toggleable__label-arrow:before {content: \"▸\";float: left;margin-right: 0.25em;color: #696969;}#sk-container-id-13 label.sk-toggleable__label-arrow:hover:before {color: black;}#sk-container-id-13 div.sk-estimator:hover label.sk-toggleable__label-arrow:before {color: black;}#sk-container-id-13 div.sk-toggleable__content {max-height: 0;max-width: 0;overflow: hidden;text-align: left;background-color: #f0f8ff;}#sk-container-id-13 div.sk-toggleable__content pre {margin: 0.2em;color: black;border-radius: 0.25em;background-color: #f0f8ff;}#sk-container-id-13 input.sk-toggleable__control:checked~div.sk-toggleable__content {max-height: 200px;max-width: 100%;overflow: auto;}#sk-container-id-13 input.sk-toggleable__control:checked~label.sk-toggleable__label-arrow:before {content: \"▾\";}#sk-container-id-13 div.sk-estimator input.sk-toggleable__control:checked~label.sk-toggleable__label {background-color: #d4ebff;}#sk-container-id-13 div.sk-label input.sk-toggleable__control:checked~label.sk-toggleable__label {background-color: #d4ebff;}#sk-container-id-13 input.sk-hidden--visually {border: 0;clip: rect(1px 1px 1px 1px);clip: rect(1px, 1px, 1px, 1px);height: 1px;margin: -1px;overflow: hidden;padding: 0;position: absolute;width: 1px;}#sk-container-id-13 div.sk-estimator {font-family: monospace;background-color: #f0f8ff;border: 1px dotted black;border-radius: 0.25em;box-sizing: border-box;margin-bottom: 0.5em;}#sk-container-id-13 div.sk-estimator:hover {background-color: #d4ebff;}#sk-container-id-13 div.sk-parallel-item::after {content: \"\";width: 100%;border-bottom: 1px solid gray;flex-grow: 1;}#sk-container-id-13 div.sk-label:hover label.sk-toggleable__label {background-color: #d4ebff;}#sk-container-id-13 div.sk-serial::before {content: \"\";position: absolute;border-left: 1px solid gray;box-sizing: border-box;top: 0;bottom: 0;left: 50%;z-index: 0;}#sk-container-id-13 div.sk-serial {display: flex;flex-direction: column;align-items: center;background-color: white;padding-right: 0.2em;padding-left: 0.2em;position: relative;}#sk-container-id-13 div.sk-item {position: relative;z-index: 1;}#sk-container-id-13 div.sk-parallel {display: flex;align-items: stretch;justify-content: center;background-color: white;position: relative;}#sk-container-id-13 div.sk-item::before, #sk-container-id-13 div.sk-parallel-item::before {content: \"\";position: absolute;border-left: 1px solid gray;box-sizing: border-box;top: 0;bottom: 0;left: 50%;z-index: -1;}#sk-container-id-13 div.sk-parallel-item {display: flex;flex-direction: column;z-index: 1;position: relative;background-color: white;}#sk-container-id-13 div.sk-parallel-item:first-child::after {align-self: flex-end;width: 50%;}#sk-container-id-13 div.sk-parallel-item:last-child::after {align-self: flex-start;width: 50%;}#sk-container-id-13 div.sk-parallel-item:only-child::after {width: 0;}#sk-container-id-13 div.sk-dashed-wrapped {border: 1px dashed gray;margin: 0 0.4em 0.5em 0.4em;box-sizing: border-box;padding-bottom: 0.4em;background-color: white;}#sk-container-id-13 div.sk-label label {font-family: monospace;font-weight: bold;display: inline-block;line-height: 1.2em;}#sk-container-id-13 div.sk-label-container {text-align: center;}#sk-container-id-13 div.sk-container {/* jupyter's `normalize.less` sets `[hidden] { display: none; }` but bootstrap.min.css set `[hidden] { display: none !important; }` so we also need the `!important` here to be able to override the default hidden behavior on the sphinx rendered scikit-learn.org. See: https://github.com/scikit-learn/scikit-learn/issues/21755 */display: inline-block !important;position: relative;}#sk-container-id-13 div.sk-text-repr-fallback {display: none;}</style><div id=\"sk-container-id-13\" class=\"sk-top-container\"><div class=\"sk-text-repr-fallback\"><pre>NearestNeighbors()</pre><b>In a Jupyter environment, please rerun this cell to show the HTML representation or trust the notebook. <br />On GitHub, the HTML representation is unable to render, please try loading this page with nbviewer.org.</b></div><div class=\"sk-container\" hidden><div class=\"sk-item\"><div class=\"sk-estimator sk-toggleable\"><input class=\"sk-toggleable__control sk-hidden--visually\" id=\"sk-estimator-id-13\" type=\"checkbox\" checked><label for=\"sk-estimator-id-13\" class=\"sk-toggleable__label sk-toggleable__label-arrow\">NearestNeighbors</label><div class=\"sk-toggleable__content\"><pre>NearestNeighbors()</pre></div></div></div></div></div>"
            ]
          },
          "metadata": {},
          "execution_count": 410
        }
      ],
      "source": [
        "neigh = NearestNeighbors(n_neighbors=5, radius=1.0)\n",
        "neigh.fit(X_train_reduced)"
      ]
    },
    {
      "cell_type": "code",
      "execution_count": 411,
      "metadata": {
        "colab": {
          "base_uri": "https://localhost:8080/"
        },
        "id": "XtS-y_t6nKbN",
        "outputId": "b562d33c-3d3a-4cd7-da45-e0c82446133a"
      },
      "outputs": [
        {
          "output_type": "execute_result",
          "data": {
            "text/plain": [
              "(array([[0.13624993, 0.15296759, 0.16621842, 0.1702361 , 0.18327859]]),\n",
              " array([[78, 26, 63, 86, 40]]))"
            ]
          },
          "metadata": {},
          "execution_count": 411
        }
      ],
      "source": [
        "indxs_nearest = neigh.kneighbors([X_test_reduced[id_test]], 5, return_distance=True)\n",
        "indxs_nearest"
      ]
    },
    {
      "cell_type": "code",
      "execution_count": 412,
      "metadata": {
        "colab": {
          "base_uri": "https://localhost:8080/"
        },
        "id": "kuMqh4sGnKbN",
        "outputId": "7a82223e-a237-47fd-e9ed-234c43ff55ef"
      },
      "outputs": [
        {
          "output_type": "stream",
          "name": "stdout",
          "text": [
            "'Iphigenia' is the great achievement of Michael Cacoyannis. This masterful play is masterfully adapted for the screen and brought to life by a wonderful cast. Cacoyannis achieved the impossible. He managed to film a Greek tragedy to screen without losing its effectiveness and importance. A stellar greek cast helps him in this. Newcomer Tatiana Papamoschou is extremely impressive as Iphigenia. Equally impressive is Irene Papas ,who even though she sometimes seems over the top, it is very realistic. A wonderful Greek film, beautifully adapted and directed by Michael Cacoyannis, with an excellent music score by Mikis Theodorakis which is ideal in every scene.<br /><br />P.S. Rumours say that the film lost the best foreign language film Oscar by only 1 vote!!!\n",
            "1 positive\n",
            "The alternate title of Ecstasy, is Symphony of Love; a title which appropriately describes the mood and feel of the film. Ecstasy is an early talkie, and could have very well been a classic film, if released during the silent film era. This film is a visual treat, and is deliberately paced so the viewer can savour its sensuous lyric quality, which is presented in an artistic low-key fashion. The director's style is distinctly European. The subject matter and approach to sexuality was far more sophisticated, than what was being produced in Hollywood, at that time. Consider the censorship code in the US, during the 30's, that pretty much sums it up. Hedy Lamarr, one of the great beauties of all time, was a perfect choice for this 'Symphony of Love.'\n",
            "1 positive\n",
            "Protocol is an implausible movie whose only saving grace is that it stars Goldie Hawn along with a good cast of supporting actors. The story revolves around a ditzy cocktail waitress who becomes famous after inadvertently saving the life of an Arab dignitary. The story goes downhill halfway through the movie and Goldie's charm just doesn't save this movie. Unless you are a Goldie Hawn fan don't go out of your way to see this film.\n",
            "0 negative\n",
            "Is Thursday an original film? Heck no, but it is a lot of fun! I just caught this buried on the movie channels one night and it was an enjoyable flick. I was expecting much but what I got was some interesting scenes (I really liked the first seen at the convenience store), some amusing stories as told by the characters and a little bit of action thrown in the mix as well. Some good performances from young actors, Paulina Porizkova was good and I was particularly impressed with Aaron Eckhart (who has gone on to impress me further in Yours Friends and Neighbours' and Erin Brokovich'). So if you want 90 minutes of easy going fun go ahead and check out Thursday'.\n",
            "1 positive\n",
            "Publicity for this film suggests that it is shocking and sensational. Well, we opera lovers see some strange sights in opera houses so we are not shocked by the Duke of Mantua urinating during his reprise of La Donna è Mobile, nor is it sensational to see Gilda sing Caro Nome in the bath. It is just crass and boring. What stands out about this film is its lack of imagination. Director Corina Van Eijk sets the Duke's palace in a seedy swimming pool. In fact, he is not the Duke, he is just a character named Duka, so it's difficult to see why he has lots of hangers-on and his own jester, Rigoletto. Rigoletto lives in a council flat that is furnished with the orange sofa and decorated in the spotted wallpaper that is de rigeur among avant-garde directors.The Duke's, sorry Duka's heavies ride around on motor scooters (Yawn). <br /><br />Concepts imposed on an opera like this can produce unexpected, and unintentional humour. What can we make of the fact that Gilda has a maid, even though she lives in a council flat.? When the call goes out that Monterone is being taken to prison we see him being marched out of the swimming pool by two attendants in pink shorts. One imagines that he is going to be charged with urinating in a public swimming pool.<br /><br />It was common for opera films to be lip-synced 20 years ago but there is just no excuse for it today. A dubbed opera is like soft porn. You don't believe in what is happening because the performers are not making enough effort. The actress in Gilda's role does not seem to have learned her lines properly. She barely moves her lips when she is supposed to be singing. When she sings Caro Nome in the bath she lies back with her legs slightly parted. It is difficult to tell which orifice the sound is supposed to be emanating from. The Duke, later caps this by singing while engaging in cunnilingus with Maddalena, giving a new meaning to the phrase yodelling in the canyon.<br /><br />The ambiance of the sound never seems right with the orchestra sometimes sounding as though it is being played through a transistor radio. Fairly slow, rumpity-tumpity tempi are preferred so that the overall effect is of a karaoke in your local pub.<br /><br />This is a film of a production by Opera Spanga. Spanga is a village in Friesland in the Netherlands. They normally perform in a tent in a field. If I had been watching this performance in a tent in a field in Friesland I would have been fairly indulgent. By filming this production and giving it a worldwide audience, the villagers also hold themselves open to worldwide ridicule.\n",
            "0 negative\n"
          ]
        }
      ],
      "source": [
        "for id in indxs_nearest[1][0]:\n",
        "  print(X_train[id])\n",
        "  print(y_train[id], classes_dict[y_train[id]])\n",
        "  plt.show()"
      ]
    }
  ],
  "metadata": {
    "colab": {
      "collapsed_sections": [
        "eVAccuC9M8N9"
      ],
      "provenance": []
    },
    "kernelspec": {
      "display_name": "Python 3",
      "name": "python3"
    },
    "language_info": {
      "name": "python"
    },
    "widgets": {
      "application/vnd.jupyter.widget-state+json": {
        "be5e72dd10c241418a97d1441933d12b": {
          "model_module": "@jupyter-widgets/controls",
          "model_name": "HBoxModel",
          "model_module_version": "1.5.0",
          "state": {
            "_dom_classes": [],
            "_model_module": "@jupyter-widgets/controls",
            "_model_module_version": "1.5.0",
            "_model_name": "HBoxModel",
            "_view_count": null,
            "_view_module": "@jupyter-widgets/controls",
            "_view_module_version": "1.5.0",
            "_view_name": "HBoxView",
            "box_style": "",
            "children": [
              "IPY_MODEL_85ac836c9adc4bed8ccbb227bab86e08",
              "IPY_MODEL_18ac56e7fd61429796d357d06d920dad",
              "IPY_MODEL_48350d8f92c74aa790829720cfcb91a1"
            ],
            "layout": "IPY_MODEL_1728ebb3ec8745c8b5e3d240bd4fe5c2"
          }
        },
        "85ac836c9adc4bed8ccbb227bab86e08": {
          "model_module": "@jupyter-widgets/controls",
          "model_name": "HTMLModel",
          "model_module_version": "1.5.0",
          "state": {
            "_dom_classes": [],
            "_model_module": "@jupyter-widgets/controls",
            "_model_module_version": "1.5.0",
            "_model_name": "HTMLModel",
            "_view_count": null,
            "_view_module": "@jupyter-widgets/controls",
            "_view_module_version": "1.5.0",
            "_view_name": "HTMLView",
            "description": "",
            "description_tooltip": null,
            "layout": "IPY_MODEL_8272ff05f41446e19c07a53c6b4d2044",
            "placeholder": "​",
            "style": "IPY_MODEL_e7de25e910bb48daacdf5b10ef1d63a6",
            "value": "modules.json: 100%"
          }
        },
        "18ac56e7fd61429796d357d06d920dad": {
          "model_module": "@jupyter-widgets/controls",
          "model_name": "FloatProgressModel",
          "model_module_version": "1.5.0",
          "state": {
            "_dom_classes": [],
            "_model_module": "@jupyter-widgets/controls",
            "_model_module_version": "1.5.0",
            "_model_name": "FloatProgressModel",
            "_view_count": null,
            "_view_module": "@jupyter-widgets/controls",
            "_view_module_version": "1.5.0",
            "_view_name": "ProgressView",
            "bar_style": "success",
            "description": "",
            "description_tooltip": null,
            "layout": "IPY_MODEL_94eba185b8584b07931c288de3f1369b",
            "max": 349,
            "min": 0,
            "orientation": "horizontal",
            "style": "IPY_MODEL_4642cfa81df14e2ea44bbfacc28fa473",
            "value": 349
          }
        },
        "48350d8f92c74aa790829720cfcb91a1": {
          "model_module": "@jupyter-widgets/controls",
          "model_name": "HTMLModel",
          "model_module_version": "1.5.0",
          "state": {
            "_dom_classes": [],
            "_model_module": "@jupyter-widgets/controls",
            "_model_module_version": "1.5.0",
            "_model_name": "HTMLModel",
            "_view_count": null,
            "_view_module": "@jupyter-widgets/controls",
            "_view_module_version": "1.5.0",
            "_view_name": "HTMLView",
            "description": "",
            "description_tooltip": null,
            "layout": "IPY_MODEL_358df6cdc2124d9bbe83c705ccefb6f9",
            "placeholder": "​",
            "style": "IPY_MODEL_0485946fd23e4ee5970ee2184d096f34",
            "value": " 349/349 [00:00&lt;00:00, 3.64kB/s]"
          }
        },
        "1728ebb3ec8745c8b5e3d240bd4fe5c2": {
          "model_module": "@jupyter-widgets/base",
          "model_name": "LayoutModel",
          "model_module_version": "1.2.0",
          "state": {
            "_model_module": "@jupyter-widgets/base",
            "_model_module_version": "1.2.0",
            "_model_name": "LayoutModel",
            "_view_count": null,
            "_view_module": "@jupyter-widgets/base",
            "_view_module_version": "1.2.0",
            "_view_name": "LayoutView",
            "align_content": null,
            "align_items": null,
            "align_self": null,
            "border": null,
            "bottom": null,
            "display": null,
            "flex": null,
            "flex_flow": null,
            "grid_area": null,
            "grid_auto_columns": null,
            "grid_auto_flow": null,
            "grid_auto_rows": null,
            "grid_column": null,
            "grid_gap": null,
            "grid_row": null,
            "grid_template_areas": null,
            "grid_template_columns": null,
            "grid_template_rows": null,
            "height": null,
            "justify_content": null,
            "justify_items": null,
            "left": null,
            "margin": null,
            "max_height": null,
            "max_width": null,
            "min_height": null,
            "min_width": null,
            "object_fit": null,
            "object_position": null,
            "order": null,
            "overflow": null,
            "overflow_x": null,
            "overflow_y": null,
            "padding": null,
            "right": null,
            "top": null,
            "visibility": null,
            "width": null
          }
        },
        "8272ff05f41446e19c07a53c6b4d2044": {
          "model_module": "@jupyter-widgets/base",
          "model_name": "LayoutModel",
          "model_module_version": "1.2.0",
          "state": {
            "_model_module": "@jupyter-widgets/base",
            "_model_module_version": "1.2.0",
            "_model_name": "LayoutModel",
            "_view_count": null,
            "_view_module": "@jupyter-widgets/base",
            "_view_module_version": "1.2.0",
            "_view_name": "LayoutView",
            "align_content": null,
            "align_items": null,
            "align_self": null,
            "border": null,
            "bottom": null,
            "display": null,
            "flex": null,
            "flex_flow": null,
            "grid_area": null,
            "grid_auto_columns": null,
            "grid_auto_flow": null,
            "grid_auto_rows": null,
            "grid_column": null,
            "grid_gap": null,
            "grid_row": null,
            "grid_template_areas": null,
            "grid_template_columns": null,
            "grid_template_rows": null,
            "height": null,
            "justify_content": null,
            "justify_items": null,
            "left": null,
            "margin": null,
            "max_height": null,
            "max_width": null,
            "min_height": null,
            "min_width": null,
            "object_fit": null,
            "object_position": null,
            "order": null,
            "overflow": null,
            "overflow_x": null,
            "overflow_y": null,
            "padding": null,
            "right": null,
            "top": null,
            "visibility": null,
            "width": null
          }
        },
        "e7de25e910bb48daacdf5b10ef1d63a6": {
          "model_module": "@jupyter-widgets/controls",
          "model_name": "DescriptionStyleModel",
          "model_module_version": "1.5.0",
          "state": {
            "_model_module": "@jupyter-widgets/controls",
            "_model_module_version": "1.5.0",
            "_model_name": "DescriptionStyleModel",
            "_view_count": null,
            "_view_module": "@jupyter-widgets/base",
            "_view_module_version": "1.2.0",
            "_view_name": "StyleView",
            "description_width": ""
          }
        },
        "94eba185b8584b07931c288de3f1369b": {
          "model_module": "@jupyter-widgets/base",
          "model_name": "LayoutModel",
          "model_module_version": "1.2.0",
          "state": {
            "_model_module": "@jupyter-widgets/base",
            "_model_module_version": "1.2.0",
            "_model_name": "LayoutModel",
            "_view_count": null,
            "_view_module": "@jupyter-widgets/base",
            "_view_module_version": "1.2.0",
            "_view_name": "LayoutView",
            "align_content": null,
            "align_items": null,
            "align_self": null,
            "border": null,
            "bottom": null,
            "display": null,
            "flex": null,
            "flex_flow": null,
            "grid_area": null,
            "grid_auto_columns": null,
            "grid_auto_flow": null,
            "grid_auto_rows": null,
            "grid_column": null,
            "grid_gap": null,
            "grid_row": null,
            "grid_template_areas": null,
            "grid_template_columns": null,
            "grid_template_rows": null,
            "height": null,
            "justify_content": null,
            "justify_items": null,
            "left": null,
            "margin": null,
            "max_height": null,
            "max_width": null,
            "min_height": null,
            "min_width": null,
            "object_fit": null,
            "object_position": null,
            "order": null,
            "overflow": null,
            "overflow_x": null,
            "overflow_y": null,
            "padding": null,
            "right": null,
            "top": null,
            "visibility": null,
            "width": null
          }
        },
        "4642cfa81df14e2ea44bbfacc28fa473": {
          "model_module": "@jupyter-widgets/controls",
          "model_name": "ProgressStyleModel",
          "model_module_version": "1.5.0",
          "state": {
            "_model_module": "@jupyter-widgets/controls",
            "_model_module_version": "1.5.0",
            "_model_name": "ProgressStyleModel",
            "_view_count": null,
            "_view_module": "@jupyter-widgets/base",
            "_view_module_version": "1.2.0",
            "_view_name": "StyleView",
            "bar_color": null,
            "description_width": ""
          }
        },
        "358df6cdc2124d9bbe83c705ccefb6f9": {
          "model_module": "@jupyter-widgets/base",
          "model_name": "LayoutModel",
          "model_module_version": "1.2.0",
          "state": {
            "_model_module": "@jupyter-widgets/base",
            "_model_module_version": "1.2.0",
            "_model_name": "LayoutModel",
            "_view_count": null,
            "_view_module": "@jupyter-widgets/base",
            "_view_module_version": "1.2.0",
            "_view_name": "LayoutView",
            "align_content": null,
            "align_items": null,
            "align_self": null,
            "border": null,
            "bottom": null,
            "display": null,
            "flex": null,
            "flex_flow": null,
            "grid_area": null,
            "grid_auto_columns": null,
            "grid_auto_flow": null,
            "grid_auto_rows": null,
            "grid_column": null,
            "grid_gap": null,
            "grid_row": null,
            "grid_template_areas": null,
            "grid_template_columns": null,
            "grid_template_rows": null,
            "height": null,
            "justify_content": null,
            "justify_items": null,
            "left": null,
            "margin": null,
            "max_height": null,
            "max_width": null,
            "min_height": null,
            "min_width": null,
            "object_fit": null,
            "object_position": null,
            "order": null,
            "overflow": null,
            "overflow_x": null,
            "overflow_y": null,
            "padding": null,
            "right": null,
            "top": null,
            "visibility": null,
            "width": null
          }
        },
        "0485946fd23e4ee5970ee2184d096f34": {
          "model_module": "@jupyter-widgets/controls",
          "model_name": "DescriptionStyleModel",
          "model_module_version": "1.5.0",
          "state": {
            "_model_module": "@jupyter-widgets/controls",
            "_model_module_version": "1.5.0",
            "_model_name": "DescriptionStyleModel",
            "_view_count": null,
            "_view_module": "@jupyter-widgets/base",
            "_view_module_version": "1.2.0",
            "_view_name": "StyleView",
            "description_width": ""
          }
        },
        "47c3feaa6ba44f68889ac0df5116f5ab": {
          "model_module": "@jupyter-widgets/controls",
          "model_name": "HBoxModel",
          "model_module_version": "1.5.0",
          "state": {
            "_dom_classes": [],
            "_model_module": "@jupyter-widgets/controls",
            "_model_module_version": "1.5.0",
            "_model_name": "HBoxModel",
            "_view_count": null,
            "_view_module": "@jupyter-widgets/controls",
            "_view_module_version": "1.5.0",
            "_view_name": "HBoxView",
            "box_style": "",
            "children": [
              "IPY_MODEL_8548b1c7e36344709fb55696ae8fa687",
              "IPY_MODEL_6d14f38f0bb645d3aabd7d695891b179",
              "IPY_MODEL_255c6851531945d18e4709db4906d6fb"
            ],
            "layout": "IPY_MODEL_b6d55a86e33b4720b30a28dd406dc2de"
          }
        },
        "8548b1c7e36344709fb55696ae8fa687": {
          "model_module": "@jupyter-widgets/controls",
          "model_name": "HTMLModel",
          "model_module_version": "1.5.0",
          "state": {
            "_dom_classes": [],
            "_model_module": "@jupyter-widgets/controls",
            "_model_module_version": "1.5.0",
            "_model_name": "HTMLModel",
            "_view_count": null,
            "_view_module": "@jupyter-widgets/controls",
            "_view_module_version": "1.5.0",
            "_view_name": "HTMLView",
            "description": "",
            "description_tooltip": null,
            "layout": "IPY_MODEL_67fc53baf4d84683a4ae6a3d3bd69802",
            "placeholder": "​",
            "style": "IPY_MODEL_8bfa4294bdd84aa2a86af33e1b526ae5",
            "value": "config_sentence_transformers.json: 100%"
          }
        },
        "6d14f38f0bb645d3aabd7d695891b179": {
          "model_module": "@jupyter-widgets/controls",
          "model_name": "FloatProgressModel",
          "model_module_version": "1.5.0",
          "state": {
            "_dom_classes": [],
            "_model_module": "@jupyter-widgets/controls",
            "_model_module_version": "1.5.0",
            "_model_name": "FloatProgressModel",
            "_view_count": null,
            "_view_module": "@jupyter-widgets/controls",
            "_view_module_version": "1.5.0",
            "_view_name": "ProgressView",
            "bar_style": "success",
            "description": "",
            "description_tooltip": null,
            "layout": "IPY_MODEL_dbc14c4ea5674bdcbc7989ab191b94dc",
            "max": 116,
            "min": 0,
            "orientation": "horizontal",
            "style": "IPY_MODEL_361e7860a2b24f45a9d41821f9fd27a3",
            "value": 116
          }
        },
        "255c6851531945d18e4709db4906d6fb": {
          "model_module": "@jupyter-widgets/controls",
          "model_name": "HTMLModel",
          "model_module_version": "1.5.0",
          "state": {
            "_dom_classes": [],
            "_model_module": "@jupyter-widgets/controls",
            "_model_module_version": "1.5.0",
            "_model_name": "HTMLModel",
            "_view_count": null,
            "_view_module": "@jupyter-widgets/controls",
            "_view_module_version": "1.5.0",
            "_view_name": "HTMLView",
            "description": "",
            "description_tooltip": null,
            "layout": "IPY_MODEL_bb55b673785b4a0bb3961d4a348ec290",
            "placeholder": "​",
            "style": "IPY_MODEL_3d855ccf6b0f4f919194512f36cae4dc",
            "value": " 116/116 [00:00&lt;00:00, 1.11kB/s]"
          }
        },
        "b6d55a86e33b4720b30a28dd406dc2de": {
          "model_module": "@jupyter-widgets/base",
          "model_name": "LayoutModel",
          "model_module_version": "1.2.0",
          "state": {
            "_model_module": "@jupyter-widgets/base",
            "_model_module_version": "1.2.0",
            "_model_name": "LayoutModel",
            "_view_count": null,
            "_view_module": "@jupyter-widgets/base",
            "_view_module_version": "1.2.0",
            "_view_name": "LayoutView",
            "align_content": null,
            "align_items": null,
            "align_self": null,
            "border": null,
            "bottom": null,
            "display": null,
            "flex": null,
            "flex_flow": null,
            "grid_area": null,
            "grid_auto_columns": null,
            "grid_auto_flow": null,
            "grid_auto_rows": null,
            "grid_column": null,
            "grid_gap": null,
            "grid_row": null,
            "grid_template_areas": null,
            "grid_template_columns": null,
            "grid_template_rows": null,
            "height": null,
            "justify_content": null,
            "justify_items": null,
            "left": null,
            "margin": null,
            "max_height": null,
            "max_width": null,
            "min_height": null,
            "min_width": null,
            "object_fit": null,
            "object_position": null,
            "order": null,
            "overflow": null,
            "overflow_x": null,
            "overflow_y": null,
            "padding": null,
            "right": null,
            "top": null,
            "visibility": null,
            "width": null
          }
        },
        "67fc53baf4d84683a4ae6a3d3bd69802": {
          "model_module": "@jupyter-widgets/base",
          "model_name": "LayoutModel",
          "model_module_version": "1.2.0",
          "state": {
            "_model_module": "@jupyter-widgets/base",
            "_model_module_version": "1.2.0",
            "_model_name": "LayoutModel",
            "_view_count": null,
            "_view_module": "@jupyter-widgets/base",
            "_view_module_version": "1.2.0",
            "_view_name": "LayoutView",
            "align_content": null,
            "align_items": null,
            "align_self": null,
            "border": null,
            "bottom": null,
            "display": null,
            "flex": null,
            "flex_flow": null,
            "grid_area": null,
            "grid_auto_columns": null,
            "grid_auto_flow": null,
            "grid_auto_rows": null,
            "grid_column": null,
            "grid_gap": null,
            "grid_row": null,
            "grid_template_areas": null,
            "grid_template_columns": null,
            "grid_template_rows": null,
            "height": null,
            "justify_content": null,
            "justify_items": null,
            "left": null,
            "margin": null,
            "max_height": null,
            "max_width": null,
            "min_height": null,
            "min_width": null,
            "object_fit": null,
            "object_position": null,
            "order": null,
            "overflow": null,
            "overflow_x": null,
            "overflow_y": null,
            "padding": null,
            "right": null,
            "top": null,
            "visibility": null,
            "width": null
          }
        },
        "8bfa4294bdd84aa2a86af33e1b526ae5": {
          "model_module": "@jupyter-widgets/controls",
          "model_name": "DescriptionStyleModel",
          "model_module_version": "1.5.0",
          "state": {
            "_model_module": "@jupyter-widgets/controls",
            "_model_module_version": "1.5.0",
            "_model_name": "DescriptionStyleModel",
            "_view_count": null,
            "_view_module": "@jupyter-widgets/base",
            "_view_module_version": "1.2.0",
            "_view_name": "StyleView",
            "description_width": ""
          }
        },
        "dbc14c4ea5674bdcbc7989ab191b94dc": {
          "model_module": "@jupyter-widgets/base",
          "model_name": "LayoutModel",
          "model_module_version": "1.2.0",
          "state": {
            "_model_module": "@jupyter-widgets/base",
            "_model_module_version": "1.2.0",
            "_model_name": "LayoutModel",
            "_view_count": null,
            "_view_module": "@jupyter-widgets/base",
            "_view_module_version": "1.2.0",
            "_view_name": "LayoutView",
            "align_content": null,
            "align_items": null,
            "align_self": null,
            "border": null,
            "bottom": null,
            "display": null,
            "flex": null,
            "flex_flow": null,
            "grid_area": null,
            "grid_auto_columns": null,
            "grid_auto_flow": null,
            "grid_auto_rows": null,
            "grid_column": null,
            "grid_gap": null,
            "grid_row": null,
            "grid_template_areas": null,
            "grid_template_columns": null,
            "grid_template_rows": null,
            "height": null,
            "justify_content": null,
            "justify_items": null,
            "left": null,
            "margin": null,
            "max_height": null,
            "max_width": null,
            "min_height": null,
            "min_width": null,
            "object_fit": null,
            "object_position": null,
            "order": null,
            "overflow": null,
            "overflow_x": null,
            "overflow_y": null,
            "padding": null,
            "right": null,
            "top": null,
            "visibility": null,
            "width": null
          }
        },
        "361e7860a2b24f45a9d41821f9fd27a3": {
          "model_module": "@jupyter-widgets/controls",
          "model_name": "ProgressStyleModel",
          "model_module_version": "1.5.0",
          "state": {
            "_model_module": "@jupyter-widgets/controls",
            "_model_module_version": "1.5.0",
            "_model_name": "ProgressStyleModel",
            "_view_count": null,
            "_view_module": "@jupyter-widgets/base",
            "_view_module_version": "1.2.0",
            "_view_name": "StyleView",
            "bar_color": null,
            "description_width": ""
          }
        },
        "bb55b673785b4a0bb3961d4a348ec290": {
          "model_module": "@jupyter-widgets/base",
          "model_name": "LayoutModel",
          "model_module_version": "1.2.0",
          "state": {
            "_model_module": "@jupyter-widgets/base",
            "_model_module_version": "1.2.0",
            "_model_name": "LayoutModel",
            "_view_count": null,
            "_view_module": "@jupyter-widgets/base",
            "_view_module_version": "1.2.0",
            "_view_name": "LayoutView",
            "align_content": null,
            "align_items": null,
            "align_self": null,
            "border": null,
            "bottom": null,
            "display": null,
            "flex": null,
            "flex_flow": null,
            "grid_area": null,
            "grid_auto_columns": null,
            "grid_auto_flow": null,
            "grid_auto_rows": null,
            "grid_column": null,
            "grid_gap": null,
            "grid_row": null,
            "grid_template_areas": null,
            "grid_template_columns": null,
            "grid_template_rows": null,
            "height": null,
            "justify_content": null,
            "justify_items": null,
            "left": null,
            "margin": null,
            "max_height": null,
            "max_width": null,
            "min_height": null,
            "min_width": null,
            "object_fit": null,
            "object_position": null,
            "order": null,
            "overflow": null,
            "overflow_x": null,
            "overflow_y": null,
            "padding": null,
            "right": null,
            "top": null,
            "visibility": null,
            "width": null
          }
        },
        "3d855ccf6b0f4f919194512f36cae4dc": {
          "model_module": "@jupyter-widgets/controls",
          "model_name": "DescriptionStyleModel",
          "model_module_version": "1.5.0",
          "state": {
            "_model_module": "@jupyter-widgets/controls",
            "_model_module_version": "1.5.0",
            "_model_name": "DescriptionStyleModel",
            "_view_count": null,
            "_view_module": "@jupyter-widgets/base",
            "_view_module_version": "1.2.0",
            "_view_name": "StyleView",
            "description_width": ""
          }
        },
        "0d667717a6874cc19dabc8a709c45836": {
          "model_module": "@jupyter-widgets/controls",
          "model_name": "HBoxModel",
          "model_module_version": "1.5.0",
          "state": {
            "_dom_classes": [],
            "_model_module": "@jupyter-widgets/controls",
            "_model_module_version": "1.5.0",
            "_model_name": "HBoxModel",
            "_view_count": null,
            "_view_module": "@jupyter-widgets/controls",
            "_view_module_version": "1.5.0",
            "_view_name": "HBoxView",
            "box_style": "",
            "children": [
              "IPY_MODEL_def7835a10424658a4722c6f0a5aa5d4",
              "IPY_MODEL_624ac75a3c9d4755bcbe7828c60fbb8e",
              "IPY_MODEL_e0eb693ab79c49a4911c6eacb72926e5"
            ],
            "layout": "IPY_MODEL_851b647f904b4d1d9d7546c7bbb27c41"
          }
        },
        "def7835a10424658a4722c6f0a5aa5d4": {
          "model_module": "@jupyter-widgets/controls",
          "model_name": "HTMLModel",
          "model_module_version": "1.5.0",
          "state": {
            "_dom_classes": [],
            "_model_module": "@jupyter-widgets/controls",
            "_model_module_version": "1.5.0",
            "_model_name": "HTMLModel",
            "_view_count": null,
            "_view_module": "@jupyter-widgets/controls",
            "_view_module_version": "1.5.0",
            "_view_name": "HTMLView",
            "description": "",
            "description_tooltip": null,
            "layout": "IPY_MODEL_2dc56a709cd7472899abd257a4497dc7",
            "placeholder": "​",
            "style": "IPY_MODEL_859bbd1cd6da491199c92aba253b66dd",
            "value": "README.md: 100%"
          }
        },
        "624ac75a3c9d4755bcbe7828c60fbb8e": {
          "model_module": "@jupyter-widgets/controls",
          "model_name": "FloatProgressModel",
          "model_module_version": "1.5.0",
          "state": {
            "_dom_classes": [],
            "_model_module": "@jupyter-widgets/controls",
            "_model_module_version": "1.5.0",
            "_model_name": "FloatProgressModel",
            "_view_count": null,
            "_view_module": "@jupyter-widgets/controls",
            "_view_module_version": "1.5.0",
            "_view_name": "ProgressView",
            "bar_style": "success",
            "description": "",
            "description_tooltip": null,
            "layout": "IPY_MODEL_ef2112d19f87462cbb57702a4647bd46",
            "max": 10621,
            "min": 0,
            "orientation": "horizontal",
            "style": "IPY_MODEL_73985b54ab6f4bd6b9af299c69c03e7d",
            "value": 10621
          }
        },
        "e0eb693ab79c49a4911c6eacb72926e5": {
          "model_module": "@jupyter-widgets/controls",
          "model_name": "HTMLModel",
          "model_module_version": "1.5.0",
          "state": {
            "_dom_classes": [],
            "_model_module": "@jupyter-widgets/controls",
            "_model_module_version": "1.5.0",
            "_model_name": "HTMLModel",
            "_view_count": null,
            "_view_module": "@jupyter-widgets/controls",
            "_view_module_version": "1.5.0",
            "_view_name": "HTMLView",
            "description": "",
            "description_tooltip": null,
            "layout": "IPY_MODEL_072194b8a6964f55a7a079496400c728",
            "placeholder": "​",
            "style": "IPY_MODEL_b171f59600244208bb9c03e2db0f4512",
            "value": " 10.6k/10.6k [00:00&lt;00:00, 167kB/s]"
          }
        },
        "851b647f904b4d1d9d7546c7bbb27c41": {
          "model_module": "@jupyter-widgets/base",
          "model_name": "LayoutModel",
          "model_module_version": "1.2.0",
          "state": {
            "_model_module": "@jupyter-widgets/base",
            "_model_module_version": "1.2.0",
            "_model_name": "LayoutModel",
            "_view_count": null,
            "_view_module": "@jupyter-widgets/base",
            "_view_module_version": "1.2.0",
            "_view_name": "LayoutView",
            "align_content": null,
            "align_items": null,
            "align_self": null,
            "border": null,
            "bottom": null,
            "display": null,
            "flex": null,
            "flex_flow": null,
            "grid_area": null,
            "grid_auto_columns": null,
            "grid_auto_flow": null,
            "grid_auto_rows": null,
            "grid_column": null,
            "grid_gap": null,
            "grid_row": null,
            "grid_template_areas": null,
            "grid_template_columns": null,
            "grid_template_rows": null,
            "height": null,
            "justify_content": null,
            "justify_items": null,
            "left": null,
            "margin": null,
            "max_height": null,
            "max_width": null,
            "min_height": null,
            "min_width": null,
            "object_fit": null,
            "object_position": null,
            "order": null,
            "overflow": null,
            "overflow_x": null,
            "overflow_y": null,
            "padding": null,
            "right": null,
            "top": null,
            "visibility": null,
            "width": null
          }
        },
        "2dc56a709cd7472899abd257a4497dc7": {
          "model_module": "@jupyter-widgets/base",
          "model_name": "LayoutModel",
          "model_module_version": "1.2.0",
          "state": {
            "_model_module": "@jupyter-widgets/base",
            "_model_module_version": "1.2.0",
            "_model_name": "LayoutModel",
            "_view_count": null,
            "_view_module": "@jupyter-widgets/base",
            "_view_module_version": "1.2.0",
            "_view_name": "LayoutView",
            "align_content": null,
            "align_items": null,
            "align_self": null,
            "border": null,
            "bottom": null,
            "display": null,
            "flex": null,
            "flex_flow": null,
            "grid_area": null,
            "grid_auto_columns": null,
            "grid_auto_flow": null,
            "grid_auto_rows": null,
            "grid_column": null,
            "grid_gap": null,
            "grid_row": null,
            "grid_template_areas": null,
            "grid_template_columns": null,
            "grid_template_rows": null,
            "height": null,
            "justify_content": null,
            "justify_items": null,
            "left": null,
            "margin": null,
            "max_height": null,
            "max_width": null,
            "min_height": null,
            "min_width": null,
            "object_fit": null,
            "object_position": null,
            "order": null,
            "overflow": null,
            "overflow_x": null,
            "overflow_y": null,
            "padding": null,
            "right": null,
            "top": null,
            "visibility": null,
            "width": null
          }
        },
        "859bbd1cd6da491199c92aba253b66dd": {
          "model_module": "@jupyter-widgets/controls",
          "model_name": "DescriptionStyleModel",
          "model_module_version": "1.5.0",
          "state": {
            "_model_module": "@jupyter-widgets/controls",
            "_model_module_version": "1.5.0",
            "_model_name": "DescriptionStyleModel",
            "_view_count": null,
            "_view_module": "@jupyter-widgets/base",
            "_view_module_version": "1.2.0",
            "_view_name": "StyleView",
            "description_width": ""
          }
        },
        "ef2112d19f87462cbb57702a4647bd46": {
          "model_module": "@jupyter-widgets/base",
          "model_name": "LayoutModel",
          "model_module_version": "1.2.0",
          "state": {
            "_model_module": "@jupyter-widgets/base",
            "_model_module_version": "1.2.0",
            "_model_name": "LayoutModel",
            "_view_count": null,
            "_view_module": "@jupyter-widgets/base",
            "_view_module_version": "1.2.0",
            "_view_name": "LayoutView",
            "align_content": null,
            "align_items": null,
            "align_self": null,
            "border": null,
            "bottom": null,
            "display": null,
            "flex": null,
            "flex_flow": null,
            "grid_area": null,
            "grid_auto_columns": null,
            "grid_auto_flow": null,
            "grid_auto_rows": null,
            "grid_column": null,
            "grid_gap": null,
            "grid_row": null,
            "grid_template_areas": null,
            "grid_template_columns": null,
            "grid_template_rows": null,
            "height": null,
            "justify_content": null,
            "justify_items": null,
            "left": null,
            "margin": null,
            "max_height": null,
            "max_width": null,
            "min_height": null,
            "min_width": null,
            "object_fit": null,
            "object_position": null,
            "order": null,
            "overflow": null,
            "overflow_x": null,
            "overflow_y": null,
            "padding": null,
            "right": null,
            "top": null,
            "visibility": null,
            "width": null
          }
        },
        "73985b54ab6f4bd6b9af299c69c03e7d": {
          "model_module": "@jupyter-widgets/controls",
          "model_name": "ProgressStyleModel",
          "model_module_version": "1.5.0",
          "state": {
            "_model_module": "@jupyter-widgets/controls",
            "_model_module_version": "1.5.0",
            "_model_name": "ProgressStyleModel",
            "_view_count": null,
            "_view_module": "@jupyter-widgets/base",
            "_view_module_version": "1.2.0",
            "_view_name": "StyleView",
            "bar_color": null,
            "description_width": ""
          }
        },
        "072194b8a6964f55a7a079496400c728": {
          "model_module": "@jupyter-widgets/base",
          "model_name": "LayoutModel",
          "model_module_version": "1.2.0",
          "state": {
            "_model_module": "@jupyter-widgets/base",
            "_model_module_version": "1.2.0",
            "_model_name": "LayoutModel",
            "_view_count": null,
            "_view_module": "@jupyter-widgets/base",
            "_view_module_version": "1.2.0",
            "_view_name": "LayoutView",
            "align_content": null,
            "align_items": null,
            "align_self": null,
            "border": null,
            "bottom": null,
            "display": null,
            "flex": null,
            "flex_flow": null,
            "grid_area": null,
            "grid_auto_columns": null,
            "grid_auto_flow": null,
            "grid_auto_rows": null,
            "grid_column": null,
            "grid_gap": null,
            "grid_row": null,
            "grid_template_areas": null,
            "grid_template_columns": null,
            "grid_template_rows": null,
            "height": null,
            "justify_content": null,
            "justify_items": null,
            "left": null,
            "margin": null,
            "max_height": null,
            "max_width": null,
            "min_height": null,
            "min_width": null,
            "object_fit": null,
            "object_position": null,
            "order": null,
            "overflow": null,
            "overflow_x": null,
            "overflow_y": null,
            "padding": null,
            "right": null,
            "top": null,
            "visibility": null,
            "width": null
          }
        },
        "b171f59600244208bb9c03e2db0f4512": {
          "model_module": "@jupyter-widgets/controls",
          "model_name": "DescriptionStyleModel",
          "model_module_version": "1.5.0",
          "state": {
            "_model_module": "@jupyter-widgets/controls",
            "_model_module_version": "1.5.0",
            "_model_name": "DescriptionStyleModel",
            "_view_count": null,
            "_view_module": "@jupyter-widgets/base",
            "_view_module_version": "1.2.0",
            "_view_name": "StyleView",
            "description_width": ""
          }
        },
        "8198b2d5b5064395a56b78e3af6f9d0e": {
          "model_module": "@jupyter-widgets/controls",
          "model_name": "HBoxModel",
          "model_module_version": "1.5.0",
          "state": {
            "_dom_classes": [],
            "_model_module": "@jupyter-widgets/controls",
            "_model_module_version": "1.5.0",
            "_model_name": "HBoxModel",
            "_view_count": null,
            "_view_module": "@jupyter-widgets/controls",
            "_view_module_version": "1.5.0",
            "_view_name": "HBoxView",
            "box_style": "",
            "children": [
              "IPY_MODEL_bcbab46d57174fdaa0259fe2a0989a47",
              "IPY_MODEL_577a49963b7c4c85b2d5c4e8d508fefc",
              "IPY_MODEL_31ff6c4fd7ca463e8e2b81247242496f"
            ],
            "layout": "IPY_MODEL_c253b0180e0e452da50af17758cf394b"
          }
        },
        "bcbab46d57174fdaa0259fe2a0989a47": {
          "model_module": "@jupyter-widgets/controls",
          "model_name": "HTMLModel",
          "model_module_version": "1.5.0",
          "state": {
            "_dom_classes": [],
            "_model_module": "@jupyter-widgets/controls",
            "_model_module_version": "1.5.0",
            "_model_name": "HTMLModel",
            "_view_count": null,
            "_view_module": "@jupyter-widgets/controls",
            "_view_module_version": "1.5.0",
            "_view_name": "HTMLView",
            "description": "",
            "description_tooltip": null,
            "layout": "IPY_MODEL_296e9714501c49f1932ddc40633338ff",
            "placeholder": "​",
            "style": "IPY_MODEL_e51382db16634857b2b41242fb63acfe",
            "value": "sentence_bert_config.json: 100%"
          }
        },
        "577a49963b7c4c85b2d5c4e8d508fefc": {
          "model_module": "@jupyter-widgets/controls",
          "model_name": "FloatProgressModel",
          "model_module_version": "1.5.0",
          "state": {
            "_dom_classes": [],
            "_model_module": "@jupyter-widgets/controls",
            "_model_module_version": "1.5.0",
            "_model_name": "FloatProgressModel",
            "_view_count": null,
            "_view_module": "@jupyter-widgets/controls",
            "_view_module_version": "1.5.0",
            "_view_name": "ProgressView",
            "bar_style": "success",
            "description": "",
            "description_tooltip": null,
            "layout": "IPY_MODEL_3fb3c347625f4af3897f68de2a452c5a",
            "max": 53,
            "min": 0,
            "orientation": "horizontal",
            "style": "IPY_MODEL_3978d6f354ec43109273f84bbcefe1f1",
            "value": 53
          }
        },
        "31ff6c4fd7ca463e8e2b81247242496f": {
          "model_module": "@jupyter-widgets/controls",
          "model_name": "HTMLModel",
          "model_module_version": "1.5.0",
          "state": {
            "_dom_classes": [],
            "_model_module": "@jupyter-widgets/controls",
            "_model_module_version": "1.5.0",
            "_model_name": "HTMLModel",
            "_view_count": null,
            "_view_module": "@jupyter-widgets/controls",
            "_view_module_version": "1.5.0",
            "_view_name": "HTMLView",
            "description": "",
            "description_tooltip": null,
            "layout": "IPY_MODEL_cb7a7df92df84d42b88fa2d779eb5c63",
            "placeholder": "​",
            "style": "IPY_MODEL_f0a7ec328e23480f855dbbd8c4bac49a",
            "value": " 53.0/53.0 [00:00&lt;00:00, 796B/s]"
          }
        },
        "c253b0180e0e452da50af17758cf394b": {
          "model_module": "@jupyter-widgets/base",
          "model_name": "LayoutModel",
          "model_module_version": "1.2.0",
          "state": {
            "_model_module": "@jupyter-widgets/base",
            "_model_module_version": "1.2.0",
            "_model_name": "LayoutModel",
            "_view_count": null,
            "_view_module": "@jupyter-widgets/base",
            "_view_module_version": "1.2.0",
            "_view_name": "LayoutView",
            "align_content": null,
            "align_items": null,
            "align_self": null,
            "border": null,
            "bottom": null,
            "display": null,
            "flex": null,
            "flex_flow": null,
            "grid_area": null,
            "grid_auto_columns": null,
            "grid_auto_flow": null,
            "grid_auto_rows": null,
            "grid_column": null,
            "grid_gap": null,
            "grid_row": null,
            "grid_template_areas": null,
            "grid_template_columns": null,
            "grid_template_rows": null,
            "height": null,
            "justify_content": null,
            "justify_items": null,
            "left": null,
            "margin": null,
            "max_height": null,
            "max_width": null,
            "min_height": null,
            "min_width": null,
            "object_fit": null,
            "object_position": null,
            "order": null,
            "overflow": null,
            "overflow_x": null,
            "overflow_y": null,
            "padding": null,
            "right": null,
            "top": null,
            "visibility": null,
            "width": null
          }
        },
        "296e9714501c49f1932ddc40633338ff": {
          "model_module": "@jupyter-widgets/base",
          "model_name": "LayoutModel",
          "model_module_version": "1.2.0",
          "state": {
            "_model_module": "@jupyter-widgets/base",
            "_model_module_version": "1.2.0",
            "_model_name": "LayoutModel",
            "_view_count": null,
            "_view_module": "@jupyter-widgets/base",
            "_view_module_version": "1.2.0",
            "_view_name": "LayoutView",
            "align_content": null,
            "align_items": null,
            "align_self": null,
            "border": null,
            "bottom": null,
            "display": null,
            "flex": null,
            "flex_flow": null,
            "grid_area": null,
            "grid_auto_columns": null,
            "grid_auto_flow": null,
            "grid_auto_rows": null,
            "grid_column": null,
            "grid_gap": null,
            "grid_row": null,
            "grid_template_areas": null,
            "grid_template_columns": null,
            "grid_template_rows": null,
            "height": null,
            "justify_content": null,
            "justify_items": null,
            "left": null,
            "margin": null,
            "max_height": null,
            "max_width": null,
            "min_height": null,
            "min_width": null,
            "object_fit": null,
            "object_position": null,
            "order": null,
            "overflow": null,
            "overflow_x": null,
            "overflow_y": null,
            "padding": null,
            "right": null,
            "top": null,
            "visibility": null,
            "width": null
          }
        },
        "e51382db16634857b2b41242fb63acfe": {
          "model_module": "@jupyter-widgets/controls",
          "model_name": "DescriptionStyleModel",
          "model_module_version": "1.5.0",
          "state": {
            "_model_module": "@jupyter-widgets/controls",
            "_model_module_version": "1.5.0",
            "_model_name": "DescriptionStyleModel",
            "_view_count": null,
            "_view_module": "@jupyter-widgets/base",
            "_view_module_version": "1.2.0",
            "_view_name": "StyleView",
            "description_width": ""
          }
        },
        "3fb3c347625f4af3897f68de2a452c5a": {
          "model_module": "@jupyter-widgets/base",
          "model_name": "LayoutModel",
          "model_module_version": "1.2.0",
          "state": {
            "_model_module": "@jupyter-widgets/base",
            "_model_module_version": "1.2.0",
            "_model_name": "LayoutModel",
            "_view_count": null,
            "_view_module": "@jupyter-widgets/base",
            "_view_module_version": "1.2.0",
            "_view_name": "LayoutView",
            "align_content": null,
            "align_items": null,
            "align_self": null,
            "border": null,
            "bottom": null,
            "display": null,
            "flex": null,
            "flex_flow": null,
            "grid_area": null,
            "grid_auto_columns": null,
            "grid_auto_flow": null,
            "grid_auto_rows": null,
            "grid_column": null,
            "grid_gap": null,
            "grid_row": null,
            "grid_template_areas": null,
            "grid_template_columns": null,
            "grid_template_rows": null,
            "height": null,
            "justify_content": null,
            "justify_items": null,
            "left": null,
            "margin": null,
            "max_height": null,
            "max_width": null,
            "min_height": null,
            "min_width": null,
            "object_fit": null,
            "object_position": null,
            "order": null,
            "overflow": null,
            "overflow_x": null,
            "overflow_y": null,
            "padding": null,
            "right": null,
            "top": null,
            "visibility": null,
            "width": null
          }
        },
        "3978d6f354ec43109273f84bbcefe1f1": {
          "model_module": "@jupyter-widgets/controls",
          "model_name": "ProgressStyleModel",
          "model_module_version": "1.5.0",
          "state": {
            "_model_module": "@jupyter-widgets/controls",
            "_model_module_version": "1.5.0",
            "_model_name": "ProgressStyleModel",
            "_view_count": null,
            "_view_module": "@jupyter-widgets/base",
            "_view_module_version": "1.2.0",
            "_view_name": "StyleView",
            "bar_color": null,
            "description_width": ""
          }
        },
        "cb7a7df92df84d42b88fa2d779eb5c63": {
          "model_module": "@jupyter-widgets/base",
          "model_name": "LayoutModel",
          "model_module_version": "1.2.0",
          "state": {
            "_model_module": "@jupyter-widgets/base",
            "_model_module_version": "1.2.0",
            "_model_name": "LayoutModel",
            "_view_count": null,
            "_view_module": "@jupyter-widgets/base",
            "_view_module_version": "1.2.0",
            "_view_name": "LayoutView",
            "align_content": null,
            "align_items": null,
            "align_self": null,
            "border": null,
            "bottom": null,
            "display": null,
            "flex": null,
            "flex_flow": null,
            "grid_area": null,
            "grid_auto_columns": null,
            "grid_auto_flow": null,
            "grid_auto_rows": null,
            "grid_column": null,
            "grid_gap": null,
            "grid_row": null,
            "grid_template_areas": null,
            "grid_template_columns": null,
            "grid_template_rows": null,
            "height": null,
            "justify_content": null,
            "justify_items": null,
            "left": null,
            "margin": null,
            "max_height": null,
            "max_width": null,
            "min_height": null,
            "min_width": null,
            "object_fit": null,
            "object_position": null,
            "order": null,
            "overflow": null,
            "overflow_x": null,
            "overflow_y": null,
            "padding": null,
            "right": null,
            "top": null,
            "visibility": null,
            "width": null
          }
        },
        "f0a7ec328e23480f855dbbd8c4bac49a": {
          "model_module": "@jupyter-widgets/controls",
          "model_name": "DescriptionStyleModel",
          "model_module_version": "1.5.0",
          "state": {
            "_model_module": "@jupyter-widgets/controls",
            "_model_module_version": "1.5.0",
            "_model_name": "DescriptionStyleModel",
            "_view_count": null,
            "_view_module": "@jupyter-widgets/base",
            "_view_module_version": "1.2.0",
            "_view_name": "StyleView",
            "description_width": ""
          }
        },
        "f41053a1eb454a0286df6126638cbbc5": {
          "model_module": "@jupyter-widgets/controls",
          "model_name": "HBoxModel",
          "model_module_version": "1.5.0",
          "state": {
            "_dom_classes": [],
            "_model_module": "@jupyter-widgets/controls",
            "_model_module_version": "1.5.0",
            "_model_name": "HBoxModel",
            "_view_count": null,
            "_view_module": "@jupyter-widgets/controls",
            "_view_module_version": "1.5.0",
            "_view_name": "HBoxView",
            "box_style": "",
            "children": [
              "IPY_MODEL_5a367fb72f874403b907b2926e692626",
              "IPY_MODEL_78e3f4d4445b4cb7ba6d18cf948fb381",
              "IPY_MODEL_aa3e15c9fe594d389ab6275d0229169d"
            ],
            "layout": "IPY_MODEL_b6f074526f1043b2a11183c04030186b"
          }
        },
        "5a367fb72f874403b907b2926e692626": {
          "model_module": "@jupyter-widgets/controls",
          "model_name": "HTMLModel",
          "model_module_version": "1.5.0",
          "state": {
            "_dom_classes": [],
            "_model_module": "@jupyter-widgets/controls",
            "_model_module_version": "1.5.0",
            "_model_name": "HTMLModel",
            "_view_count": null,
            "_view_module": "@jupyter-widgets/controls",
            "_view_module_version": "1.5.0",
            "_view_name": "HTMLView",
            "description": "",
            "description_tooltip": null,
            "layout": "IPY_MODEL_381c7f1b972f4bf2a1f6fb1d9524fc8f",
            "placeholder": "​",
            "style": "IPY_MODEL_8a75c87b7fd745ecbf55f61747d4eaa1",
            "value": "config.json: 100%"
          }
        },
        "78e3f4d4445b4cb7ba6d18cf948fb381": {
          "model_module": "@jupyter-widgets/controls",
          "model_name": "FloatProgressModel",
          "model_module_version": "1.5.0",
          "state": {
            "_dom_classes": [],
            "_model_module": "@jupyter-widgets/controls",
            "_model_module_version": "1.5.0",
            "_model_name": "FloatProgressModel",
            "_view_count": null,
            "_view_module": "@jupyter-widgets/controls",
            "_view_module_version": "1.5.0",
            "_view_name": "ProgressView",
            "bar_style": "success",
            "description": "",
            "description_tooltip": null,
            "layout": "IPY_MODEL_e1bd2bb1ba09474f91d420c439f20f2c",
            "max": 571,
            "min": 0,
            "orientation": "horizontal",
            "style": "IPY_MODEL_d2203c5a3a9c4503a7dd004b1513bfd4",
            "value": 571
          }
        },
        "aa3e15c9fe594d389ab6275d0229169d": {
          "model_module": "@jupyter-widgets/controls",
          "model_name": "HTMLModel",
          "model_module_version": "1.5.0",
          "state": {
            "_dom_classes": [],
            "_model_module": "@jupyter-widgets/controls",
            "_model_module_version": "1.5.0",
            "_model_name": "HTMLModel",
            "_view_count": null,
            "_view_module": "@jupyter-widgets/controls",
            "_view_module_version": "1.5.0",
            "_view_name": "HTMLView",
            "description": "",
            "description_tooltip": null,
            "layout": "IPY_MODEL_9e66796e3adc4e3ea00edbe7e5b92f19",
            "placeholder": "​",
            "style": "IPY_MODEL_8067dabea87a43b58e8a7f04cd9c5c49",
            "value": " 571/571 [00:00&lt;00:00, 7.16kB/s]"
          }
        },
        "b6f074526f1043b2a11183c04030186b": {
          "model_module": "@jupyter-widgets/base",
          "model_name": "LayoutModel",
          "model_module_version": "1.2.0",
          "state": {
            "_model_module": "@jupyter-widgets/base",
            "_model_module_version": "1.2.0",
            "_model_name": "LayoutModel",
            "_view_count": null,
            "_view_module": "@jupyter-widgets/base",
            "_view_module_version": "1.2.0",
            "_view_name": "LayoutView",
            "align_content": null,
            "align_items": null,
            "align_self": null,
            "border": null,
            "bottom": null,
            "display": null,
            "flex": null,
            "flex_flow": null,
            "grid_area": null,
            "grid_auto_columns": null,
            "grid_auto_flow": null,
            "grid_auto_rows": null,
            "grid_column": null,
            "grid_gap": null,
            "grid_row": null,
            "grid_template_areas": null,
            "grid_template_columns": null,
            "grid_template_rows": null,
            "height": null,
            "justify_content": null,
            "justify_items": null,
            "left": null,
            "margin": null,
            "max_height": null,
            "max_width": null,
            "min_height": null,
            "min_width": null,
            "object_fit": null,
            "object_position": null,
            "order": null,
            "overflow": null,
            "overflow_x": null,
            "overflow_y": null,
            "padding": null,
            "right": null,
            "top": null,
            "visibility": null,
            "width": null
          }
        },
        "381c7f1b972f4bf2a1f6fb1d9524fc8f": {
          "model_module": "@jupyter-widgets/base",
          "model_name": "LayoutModel",
          "model_module_version": "1.2.0",
          "state": {
            "_model_module": "@jupyter-widgets/base",
            "_model_module_version": "1.2.0",
            "_model_name": "LayoutModel",
            "_view_count": null,
            "_view_module": "@jupyter-widgets/base",
            "_view_module_version": "1.2.0",
            "_view_name": "LayoutView",
            "align_content": null,
            "align_items": null,
            "align_self": null,
            "border": null,
            "bottom": null,
            "display": null,
            "flex": null,
            "flex_flow": null,
            "grid_area": null,
            "grid_auto_columns": null,
            "grid_auto_flow": null,
            "grid_auto_rows": null,
            "grid_column": null,
            "grid_gap": null,
            "grid_row": null,
            "grid_template_areas": null,
            "grid_template_columns": null,
            "grid_template_rows": null,
            "height": null,
            "justify_content": null,
            "justify_items": null,
            "left": null,
            "margin": null,
            "max_height": null,
            "max_width": null,
            "min_height": null,
            "min_width": null,
            "object_fit": null,
            "object_position": null,
            "order": null,
            "overflow": null,
            "overflow_x": null,
            "overflow_y": null,
            "padding": null,
            "right": null,
            "top": null,
            "visibility": null,
            "width": null
          }
        },
        "8a75c87b7fd745ecbf55f61747d4eaa1": {
          "model_module": "@jupyter-widgets/controls",
          "model_name": "DescriptionStyleModel",
          "model_module_version": "1.5.0",
          "state": {
            "_model_module": "@jupyter-widgets/controls",
            "_model_module_version": "1.5.0",
            "_model_name": "DescriptionStyleModel",
            "_view_count": null,
            "_view_module": "@jupyter-widgets/base",
            "_view_module_version": "1.2.0",
            "_view_name": "StyleView",
            "description_width": ""
          }
        },
        "e1bd2bb1ba09474f91d420c439f20f2c": {
          "model_module": "@jupyter-widgets/base",
          "model_name": "LayoutModel",
          "model_module_version": "1.2.0",
          "state": {
            "_model_module": "@jupyter-widgets/base",
            "_model_module_version": "1.2.0",
            "_model_name": "LayoutModel",
            "_view_count": null,
            "_view_module": "@jupyter-widgets/base",
            "_view_module_version": "1.2.0",
            "_view_name": "LayoutView",
            "align_content": null,
            "align_items": null,
            "align_self": null,
            "border": null,
            "bottom": null,
            "display": null,
            "flex": null,
            "flex_flow": null,
            "grid_area": null,
            "grid_auto_columns": null,
            "grid_auto_flow": null,
            "grid_auto_rows": null,
            "grid_column": null,
            "grid_gap": null,
            "grid_row": null,
            "grid_template_areas": null,
            "grid_template_columns": null,
            "grid_template_rows": null,
            "height": null,
            "justify_content": null,
            "justify_items": null,
            "left": null,
            "margin": null,
            "max_height": null,
            "max_width": null,
            "min_height": null,
            "min_width": null,
            "object_fit": null,
            "object_position": null,
            "order": null,
            "overflow": null,
            "overflow_x": null,
            "overflow_y": null,
            "padding": null,
            "right": null,
            "top": null,
            "visibility": null,
            "width": null
          }
        },
        "d2203c5a3a9c4503a7dd004b1513bfd4": {
          "model_module": "@jupyter-widgets/controls",
          "model_name": "ProgressStyleModel",
          "model_module_version": "1.5.0",
          "state": {
            "_model_module": "@jupyter-widgets/controls",
            "_model_module_version": "1.5.0",
            "_model_name": "ProgressStyleModel",
            "_view_count": null,
            "_view_module": "@jupyter-widgets/base",
            "_view_module_version": "1.2.0",
            "_view_name": "StyleView",
            "bar_color": null,
            "description_width": ""
          }
        },
        "9e66796e3adc4e3ea00edbe7e5b92f19": {
          "model_module": "@jupyter-widgets/base",
          "model_name": "LayoutModel",
          "model_module_version": "1.2.0",
          "state": {
            "_model_module": "@jupyter-widgets/base",
            "_model_module_version": "1.2.0",
            "_model_name": "LayoutModel",
            "_view_count": null,
            "_view_module": "@jupyter-widgets/base",
            "_view_module_version": "1.2.0",
            "_view_name": "LayoutView",
            "align_content": null,
            "align_items": null,
            "align_self": null,
            "border": null,
            "bottom": null,
            "display": null,
            "flex": null,
            "flex_flow": null,
            "grid_area": null,
            "grid_auto_columns": null,
            "grid_auto_flow": null,
            "grid_auto_rows": null,
            "grid_column": null,
            "grid_gap": null,
            "grid_row": null,
            "grid_template_areas": null,
            "grid_template_columns": null,
            "grid_template_rows": null,
            "height": null,
            "justify_content": null,
            "justify_items": null,
            "left": null,
            "margin": null,
            "max_height": null,
            "max_width": null,
            "min_height": null,
            "min_width": null,
            "object_fit": null,
            "object_position": null,
            "order": null,
            "overflow": null,
            "overflow_x": null,
            "overflow_y": null,
            "padding": null,
            "right": null,
            "top": null,
            "visibility": null,
            "width": null
          }
        },
        "8067dabea87a43b58e8a7f04cd9c5c49": {
          "model_module": "@jupyter-widgets/controls",
          "model_name": "DescriptionStyleModel",
          "model_module_version": "1.5.0",
          "state": {
            "_model_module": "@jupyter-widgets/controls",
            "_model_module_version": "1.5.0",
            "_model_name": "DescriptionStyleModel",
            "_view_count": null,
            "_view_module": "@jupyter-widgets/base",
            "_view_module_version": "1.2.0",
            "_view_name": "StyleView",
            "description_width": ""
          }
        },
        "bef562268f6c4b13be727c1a3b4f60be": {
          "model_module": "@jupyter-widgets/controls",
          "model_name": "HBoxModel",
          "model_module_version": "1.5.0",
          "state": {
            "_dom_classes": [],
            "_model_module": "@jupyter-widgets/controls",
            "_model_module_version": "1.5.0",
            "_model_name": "HBoxModel",
            "_view_count": null,
            "_view_module": "@jupyter-widgets/controls",
            "_view_module_version": "1.5.0",
            "_view_name": "HBoxView",
            "box_style": "",
            "children": [
              "IPY_MODEL_4104b6292b6d456e9d38472f64392521",
              "IPY_MODEL_4fe8435e01cc46d8b7b434d3d3eefec6",
              "IPY_MODEL_479efd00466d4d8db89dd30a49479088"
            ],
            "layout": "IPY_MODEL_a64fed8431e9412d9033f8534a0f0800"
          }
        },
        "4104b6292b6d456e9d38472f64392521": {
          "model_module": "@jupyter-widgets/controls",
          "model_name": "HTMLModel",
          "model_module_version": "1.5.0",
          "state": {
            "_dom_classes": [],
            "_model_module": "@jupyter-widgets/controls",
            "_model_module_version": "1.5.0",
            "_model_name": "HTMLModel",
            "_view_count": null,
            "_view_module": "@jupyter-widgets/controls",
            "_view_module_version": "1.5.0",
            "_view_name": "HTMLView",
            "description": "",
            "description_tooltip": null,
            "layout": "IPY_MODEL_115f2ebb3db44b9bbe90b395bb339526",
            "placeholder": "​",
            "style": "IPY_MODEL_5ecbb56d6e6b49fc8b72ab0e6e1cba92",
            "value": "model.safetensors: 100%"
          }
        },
        "4fe8435e01cc46d8b7b434d3d3eefec6": {
          "model_module": "@jupyter-widgets/controls",
          "model_name": "FloatProgressModel",
          "model_module_version": "1.5.0",
          "state": {
            "_dom_classes": [],
            "_model_module": "@jupyter-widgets/controls",
            "_model_module_version": "1.5.0",
            "_model_name": "FloatProgressModel",
            "_view_count": null,
            "_view_module": "@jupyter-widgets/controls",
            "_view_module_version": "1.5.0",
            "_view_name": "ProgressView",
            "bar_style": "success",
            "description": "",
            "description_tooltip": null,
            "layout": "IPY_MODEL_3fd415b66dc144108ca0d2979ce27152",
            "max": 437971872,
            "min": 0,
            "orientation": "horizontal",
            "style": "IPY_MODEL_83b62c640fa945aea070c08c50897745",
            "value": 437971872
          }
        },
        "479efd00466d4d8db89dd30a49479088": {
          "model_module": "@jupyter-widgets/controls",
          "model_name": "HTMLModel",
          "model_module_version": "1.5.0",
          "state": {
            "_dom_classes": [],
            "_model_module": "@jupyter-widgets/controls",
            "_model_module_version": "1.5.0",
            "_model_name": "HTMLModel",
            "_view_count": null,
            "_view_module": "@jupyter-widgets/controls",
            "_view_module_version": "1.5.0",
            "_view_name": "HTMLView",
            "description": "",
            "description_tooltip": null,
            "layout": "IPY_MODEL_3f2c92478f714696b77d2bff628a7f14",
            "placeholder": "​",
            "style": "IPY_MODEL_3099694053da46a8a16c30f47b030f1e",
            "value": " 438M/438M [00:06&lt;00:00, 76.4MB/s]"
          }
        },
        "a64fed8431e9412d9033f8534a0f0800": {
          "model_module": "@jupyter-widgets/base",
          "model_name": "LayoutModel",
          "model_module_version": "1.2.0",
          "state": {
            "_model_module": "@jupyter-widgets/base",
            "_model_module_version": "1.2.0",
            "_model_name": "LayoutModel",
            "_view_count": null,
            "_view_module": "@jupyter-widgets/base",
            "_view_module_version": "1.2.0",
            "_view_name": "LayoutView",
            "align_content": null,
            "align_items": null,
            "align_self": null,
            "border": null,
            "bottom": null,
            "display": null,
            "flex": null,
            "flex_flow": null,
            "grid_area": null,
            "grid_auto_columns": null,
            "grid_auto_flow": null,
            "grid_auto_rows": null,
            "grid_column": null,
            "grid_gap": null,
            "grid_row": null,
            "grid_template_areas": null,
            "grid_template_columns": null,
            "grid_template_rows": null,
            "height": null,
            "justify_content": null,
            "justify_items": null,
            "left": null,
            "margin": null,
            "max_height": null,
            "max_width": null,
            "min_height": null,
            "min_width": null,
            "object_fit": null,
            "object_position": null,
            "order": null,
            "overflow": null,
            "overflow_x": null,
            "overflow_y": null,
            "padding": null,
            "right": null,
            "top": null,
            "visibility": null,
            "width": null
          }
        },
        "115f2ebb3db44b9bbe90b395bb339526": {
          "model_module": "@jupyter-widgets/base",
          "model_name": "LayoutModel",
          "model_module_version": "1.2.0",
          "state": {
            "_model_module": "@jupyter-widgets/base",
            "_model_module_version": "1.2.0",
            "_model_name": "LayoutModel",
            "_view_count": null,
            "_view_module": "@jupyter-widgets/base",
            "_view_module_version": "1.2.0",
            "_view_name": "LayoutView",
            "align_content": null,
            "align_items": null,
            "align_self": null,
            "border": null,
            "bottom": null,
            "display": null,
            "flex": null,
            "flex_flow": null,
            "grid_area": null,
            "grid_auto_columns": null,
            "grid_auto_flow": null,
            "grid_auto_rows": null,
            "grid_column": null,
            "grid_gap": null,
            "grid_row": null,
            "grid_template_areas": null,
            "grid_template_columns": null,
            "grid_template_rows": null,
            "height": null,
            "justify_content": null,
            "justify_items": null,
            "left": null,
            "margin": null,
            "max_height": null,
            "max_width": null,
            "min_height": null,
            "min_width": null,
            "object_fit": null,
            "object_position": null,
            "order": null,
            "overflow": null,
            "overflow_x": null,
            "overflow_y": null,
            "padding": null,
            "right": null,
            "top": null,
            "visibility": null,
            "width": null
          }
        },
        "5ecbb56d6e6b49fc8b72ab0e6e1cba92": {
          "model_module": "@jupyter-widgets/controls",
          "model_name": "DescriptionStyleModel",
          "model_module_version": "1.5.0",
          "state": {
            "_model_module": "@jupyter-widgets/controls",
            "_model_module_version": "1.5.0",
            "_model_name": "DescriptionStyleModel",
            "_view_count": null,
            "_view_module": "@jupyter-widgets/base",
            "_view_module_version": "1.2.0",
            "_view_name": "StyleView",
            "description_width": ""
          }
        },
        "3fd415b66dc144108ca0d2979ce27152": {
          "model_module": "@jupyter-widgets/base",
          "model_name": "LayoutModel",
          "model_module_version": "1.2.0",
          "state": {
            "_model_module": "@jupyter-widgets/base",
            "_model_module_version": "1.2.0",
            "_model_name": "LayoutModel",
            "_view_count": null,
            "_view_module": "@jupyter-widgets/base",
            "_view_module_version": "1.2.0",
            "_view_name": "LayoutView",
            "align_content": null,
            "align_items": null,
            "align_self": null,
            "border": null,
            "bottom": null,
            "display": null,
            "flex": null,
            "flex_flow": null,
            "grid_area": null,
            "grid_auto_columns": null,
            "grid_auto_flow": null,
            "grid_auto_rows": null,
            "grid_column": null,
            "grid_gap": null,
            "grid_row": null,
            "grid_template_areas": null,
            "grid_template_columns": null,
            "grid_template_rows": null,
            "height": null,
            "justify_content": null,
            "justify_items": null,
            "left": null,
            "margin": null,
            "max_height": null,
            "max_width": null,
            "min_height": null,
            "min_width": null,
            "object_fit": null,
            "object_position": null,
            "order": null,
            "overflow": null,
            "overflow_x": null,
            "overflow_y": null,
            "padding": null,
            "right": null,
            "top": null,
            "visibility": null,
            "width": null
          }
        },
        "83b62c640fa945aea070c08c50897745": {
          "model_module": "@jupyter-widgets/controls",
          "model_name": "ProgressStyleModel",
          "model_module_version": "1.5.0",
          "state": {
            "_model_module": "@jupyter-widgets/controls",
            "_model_module_version": "1.5.0",
            "_model_name": "ProgressStyleModel",
            "_view_count": null,
            "_view_module": "@jupyter-widgets/base",
            "_view_module_version": "1.2.0",
            "_view_name": "StyleView",
            "bar_color": null,
            "description_width": ""
          }
        },
        "3f2c92478f714696b77d2bff628a7f14": {
          "model_module": "@jupyter-widgets/base",
          "model_name": "LayoutModel",
          "model_module_version": "1.2.0",
          "state": {
            "_model_module": "@jupyter-widgets/base",
            "_model_module_version": "1.2.0",
            "_model_name": "LayoutModel",
            "_view_count": null,
            "_view_module": "@jupyter-widgets/base",
            "_view_module_version": "1.2.0",
            "_view_name": "LayoutView",
            "align_content": null,
            "align_items": null,
            "align_self": null,
            "border": null,
            "bottom": null,
            "display": null,
            "flex": null,
            "flex_flow": null,
            "grid_area": null,
            "grid_auto_columns": null,
            "grid_auto_flow": null,
            "grid_auto_rows": null,
            "grid_column": null,
            "grid_gap": null,
            "grid_row": null,
            "grid_template_areas": null,
            "grid_template_columns": null,
            "grid_template_rows": null,
            "height": null,
            "justify_content": null,
            "justify_items": null,
            "left": null,
            "margin": null,
            "max_height": null,
            "max_width": null,
            "min_height": null,
            "min_width": null,
            "object_fit": null,
            "object_position": null,
            "order": null,
            "overflow": null,
            "overflow_x": null,
            "overflow_y": null,
            "padding": null,
            "right": null,
            "top": null,
            "visibility": null,
            "width": null
          }
        },
        "3099694053da46a8a16c30f47b030f1e": {
          "model_module": "@jupyter-widgets/controls",
          "model_name": "DescriptionStyleModel",
          "model_module_version": "1.5.0",
          "state": {
            "_model_module": "@jupyter-widgets/controls",
            "_model_module_version": "1.5.0",
            "_model_name": "DescriptionStyleModel",
            "_view_count": null,
            "_view_module": "@jupyter-widgets/base",
            "_view_module_version": "1.2.0",
            "_view_name": "StyleView",
            "description_width": ""
          }
        },
        "513c68719e25457d8c79fdccd99194b0": {
          "model_module": "@jupyter-widgets/controls",
          "model_name": "HBoxModel",
          "model_module_version": "1.5.0",
          "state": {
            "_dom_classes": [],
            "_model_module": "@jupyter-widgets/controls",
            "_model_module_version": "1.5.0",
            "_model_name": "HBoxModel",
            "_view_count": null,
            "_view_module": "@jupyter-widgets/controls",
            "_view_module_version": "1.5.0",
            "_view_name": "HBoxView",
            "box_style": "",
            "children": [
              "IPY_MODEL_54a14d97feb344669c02376ae894332a",
              "IPY_MODEL_baedcbdaf3e64779b052bf1d314da6e2",
              "IPY_MODEL_6506ebd05dc048a5b0d81ed737c2bad0"
            ],
            "layout": "IPY_MODEL_1facc0ba395a49b39ca3343c7dda15c6"
          }
        },
        "54a14d97feb344669c02376ae894332a": {
          "model_module": "@jupyter-widgets/controls",
          "model_name": "HTMLModel",
          "model_module_version": "1.5.0",
          "state": {
            "_dom_classes": [],
            "_model_module": "@jupyter-widgets/controls",
            "_model_module_version": "1.5.0",
            "_model_name": "HTMLModel",
            "_view_count": null,
            "_view_module": "@jupyter-widgets/controls",
            "_view_module_version": "1.5.0",
            "_view_name": "HTMLView",
            "description": "",
            "description_tooltip": null,
            "layout": "IPY_MODEL_5aa92ec72da0473ba75c4aea2a2e74a6",
            "placeholder": "​",
            "style": "IPY_MODEL_060eb5296f02480a837e2b8655eef896",
            "value": "tokenizer_config.json: 100%"
          }
        },
        "baedcbdaf3e64779b052bf1d314da6e2": {
          "model_module": "@jupyter-widgets/controls",
          "model_name": "FloatProgressModel",
          "model_module_version": "1.5.0",
          "state": {
            "_dom_classes": [],
            "_model_module": "@jupyter-widgets/controls",
            "_model_module_version": "1.5.0",
            "_model_name": "FloatProgressModel",
            "_view_count": null,
            "_view_module": "@jupyter-widgets/controls",
            "_view_module_version": "1.5.0",
            "_view_name": "ProgressView",
            "bar_style": "success",
            "description": "",
            "description_tooltip": null,
            "layout": "IPY_MODEL_2af2120c139c4a83bba293914fccf2d0",
            "max": 363,
            "min": 0,
            "orientation": "horizontal",
            "style": "IPY_MODEL_1e5673b93746409daa912a8fa2959919",
            "value": 363
          }
        },
        "6506ebd05dc048a5b0d81ed737c2bad0": {
          "model_module": "@jupyter-widgets/controls",
          "model_name": "HTMLModel",
          "model_module_version": "1.5.0",
          "state": {
            "_dom_classes": [],
            "_model_module": "@jupyter-widgets/controls",
            "_model_module_version": "1.5.0",
            "_model_name": "HTMLModel",
            "_view_count": null,
            "_view_module": "@jupyter-widgets/controls",
            "_view_module_version": "1.5.0",
            "_view_name": "HTMLView",
            "description": "",
            "description_tooltip": null,
            "layout": "IPY_MODEL_84a4aba9ab524077be75a5066aafe01e",
            "placeholder": "​",
            "style": "IPY_MODEL_caca5de0d09f4bb4847441c7875b5027",
            "value": " 363/363 [00:00&lt;00:00, 6.99kB/s]"
          }
        },
        "1facc0ba395a49b39ca3343c7dda15c6": {
          "model_module": "@jupyter-widgets/base",
          "model_name": "LayoutModel",
          "model_module_version": "1.2.0",
          "state": {
            "_model_module": "@jupyter-widgets/base",
            "_model_module_version": "1.2.0",
            "_model_name": "LayoutModel",
            "_view_count": null,
            "_view_module": "@jupyter-widgets/base",
            "_view_module_version": "1.2.0",
            "_view_name": "LayoutView",
            "align_content": null,
            "align_items": null,
            "align_self": null,
            "border": null,
            "bottom": null,
            "display": null,
            "flex": null,
            "flex_flow": null,
            "grid_area": null,
            "grid_auto_columns": null,
            "grid_auto_flow": null,
            "grid_auto_rows": null,
            "grid_column": null,
            "grid_gap": null,
            "grid_row": null,
            "grid_template_areas": null,
            "grid_template_columns": null,
            "grid_template_rows": null,
            "height": null,
            "justify_content": null,
            "justify_items": null,
            "left": null,
            "margin": null,
            "max_height": null,
            "max_width": null,
            "min_height": null,
            "min_width": null,
            "object_fit": null,
            "object_position": null,
            "order": null,
            "overflow": null,
            "overflow_x": null,
            "overflow_y": null,
            "padding": null,
            "right": null,
            "top": null,
            "visibility": null,
            "width": null
          }
        },
        "5aa92ec72da0473ba75c4aea2a2e74a6": {
          "model_module": "@jupyter-widgets/base",
          "model_name": "LayoutModel",
          "model_module_version": "1.2.0",
          "state": {
            "_model_module": "@jupyter-widgets/base",
            "_model_module_version": "1.2.0",
            "_model_name": "LayoutModel",
            "_view_count": null,
            "_view_module": "@jupyter-widgets/base",
            "_view_module_version": "1.2.0",
            "_view_name": "LayoutView",
            "align_content": null,
            "align_items": null,
            "align_self": null,
            "border": null,
            "bottom": null,
            "display": null,
            "flex": null,
            "flex_flow": null,
            "grid_area": null,
            "grid_auto_columns": null,
            "grid_auto_flow": null,
            "grid_auto_rows": null,
            "grid_column": null,
            "grid_gap": null,
            "grid_row": null,
            "grid_template_areas": null,
            "grid_template_columns": null,
            "grid_template_rows": null,
            "height": null,
            "justify_content": null,
            "justify_items": null,
            "left": null,
            "margin": null,
            "max_height": null,
            "max_width": null,
            "min_height": null,
            "min_width": null,
            "object_fit": null,
            "object_position": null,
            "order": null,
            "overflow": null,
            "overflow_x": null,
            "overflow_y": null,
            "padding": null,
            "right": null,
            "top": null,
            "visibility": null,
            "width": null
          }
        },
        "060eb5296f02480a837e2b8655eef896": {
          "model_module": "@jupyter-widgets/controls",
          "model_name": "DescriptionStyleModel",
          "model_module_version": "1.5.0",
          "state": {
            "_model_module": "@jupyter-widgets/controls",
            "_model_module_version": "1.5.0",
            "_model_name": "DescriptionStyleModel",
            "_view_count": null,
            "_view_module": "@jupyter-widgets/base",
            "_view_module_version": "1.2.0",
            "_view_name": "StyleView",
            "description_width": ""
          }
        },
        "2af2120c139c4a83bba293914fccf2d0": {
          "model_module": "@jupyter-widgets/base",
          "model_name": "LayoutModel",
          "model_module_version": "1.2.0",
          "state": {
            "_model_module": "@jupyter-widgets/base",
            "_model_module_version": "1.2.0",
            "_model_name": "LayoutModel",
            "_view_count": null,
            "_view_module": "@jupyter-widgets/base",
            "_view_module_version": "1.2.0",
            "_view_name": "LayoutView",
            "align_content": null,
            "align_items": null,
            "align_self": null,
            "border": null,
            "bottom": null,
            "display": null,
            "flex": null,
            "flex_flow": null,
            "grid_area": null,
            "grid_auto_columns": null,
            "grid_auto_flow": null,
            "grid_auto_rows": null,
            "grid_column": null,
            "grid_gap": null,
            "grid_row": null,
            "grid_template_areas": null,
            "grid_template_columns": null,
            "grid_template_rows": null,
            "height": null,
            "justify_content": null,
            "justify_items": null,
            "left": null,
            "margin": null,
            "max_height": null,
            "max_width": null,
            "min_height": null,
            "min_width": null,
            "object_fit": null,
            "object_position": null,
            "order": null,
            "overflow": null,
            "overflow_x": null,
            "overflow_y": null,
            "padding": null,
            "right": null,
            "top": null,
            "visibility": null,
            "width": null
          }
        },
        "1e5673b93746409daa912a8fa2959919": {
          "model_module": "@jupyter-widgets/controls",
          "model_name": "ProgressStyleModel",
          "model_module_version": "1.5.0",
          "state": {
            "_model_module": "@jupyter-widgets/controls",
            "_model_module_version": "1.5.0",
            "_model_name": "ProgressStyleModel",
            "_view_count": null,
            "_view_module": "@jupyter-widgets/base",
            "_view_module_version": "1.2.0",
            "_view_name": "StyleView",
            "bar_color": null,
            "description_width": ""
          }
        },
        "84a4aba9ab524077be75a5066aafe01e": {
          "model_module": "@jupyter-widgets/base",
          "model_name": "LayoutModel",
          "model_module_version": "1.2.0",
          "state": {
            "_model_module": "@jupyter-widgets/base",
            "_model_module_version": "1.2.0",
            "_model_name": "LayoutModel",
            "_view_count": null,
            "_view_module": "@jupyter-widgets/base",
            "_view_module_version": "1.2.0",
            "_view_name": "LayoutView",
            "align_content": null,
            "align_items": null,
            "align_self": null,
            "border": null,
            "bottom": null,
            "display": null,
            "flex": null,
            "flex_flow": null,
            "grid_area": null,
            "grid_auto_columns": null,
            "grid_auto_flow": null,
            "grid_auto_rows": null,
            "grid_column": null,
            "grid_gap": null,
            "grid_row": null,
            "grid_template_areas": null,
            "grid_template_columns": null,
            "grid_template_rows": null,
            "height": null,
            "justify_content": null,
            "justify_items": null,
            "left": null,
            "margin": null,
            "max_height": null,
            "max_width": null,
            "min_height": null,
            "min_width": null,
            "object_fit": null,
            "object_position": null,
            "order": null,
            "overflow": null,
            "overflow_x": null,
            "overflow_y": null,
            "padding": null,
            "right": null,
            "top": null,
            "visibility": null,
            "width": null
          }
        },
        "caca5de0d09f4bb4847441c7875b5027": {
          "model_module": "@jupyter-widgets/controls",
          "model_name": "DescriptionStyleModel",
          "model_module_version": "1.5.0",
          "state": {
            "_model_module": "@jupyter-widgets/controls",
            "_model_module_version": "1.5.0",
            "_model_name": "DescriptionStyleModel",
            "_view_count": null,
            "_view_module": "@jupyter-widgets/base",
            "_view_module_version": "1.2.0",
            "_view_name": "StyleView",
            "description_width": ""
          }
        },
        "b4adc5e1b316419ba9613c27e58ce45b": {
          "model_module": "@jupyter-widgets/controls",
          "model_name": "HBoxModel",
          "model_module_version": "1.5.0",
          "state": {
            "_dom_classes": [],
            "_model_module": "@jupyter-widgets/controls",
            "_model_module_version": "1.5.0",
            "_model_name": "HBoxModel",
            "_view_count": null,
            "_view_module": "@jupyter-widgets/controls",
            "_view_module_version": "1.5.0",
            "_view_name": "HBoxView",
            "box_style": "",
            "children": [
              "IPY_MODEL_af891899836a4ed49231ace3c269940f",
              "IPY_MODEL_a4a796d31ca14bd88a5ccaa7ac81db89",
              "IPY_MODEL_4b7e973e664546c48a3e14292659bc0f"
            ],
            "layout": "IPY_MODEL_a26092899b504736819bf17b32404838"
          }
        },
        "af891899836a4ed49231ace3c269940f": {
          "model_module": "@jupyter-widgets/controls",
          "model_name": "HTMLModel",
          "model_module_version": "1.5.0",
          "state": {
            "_dom_classes": [],
            "_model_module": "@jupyter-widgets/controls",
            "_model_module_version": "1.5.0",
            "_model_name": "HTMLModel",
            "_view_count": null,
            "_view_module": "@jupyter-widgets/controls",
            "_view_module_version": "1.5.0",
            "_view_name": "HTMLView",
            "description": "",
            "description_tooltip": null,
            "layout": "IPY_MODEL_63236ff5c70c4c0faf794d4daf876bed",
            "placeholder": "​",
            "style": "IPY_MODEL_7c08a1d99d5c40af8fc69e482f49d8fc",
            "value": "vocab.txt: 100%"
          }
        },
        "a4a796d31ca14bd88a5ccaa7ac81db89": {
          "model_module": "@jupyter-widgets/controls",
          "model_name": "FloatProgressModel",
          "model_module_version": "1.5.0",
          "state": {
            "_dom_classes": [],
            "_model_module": "@jupyter-widgets/controls",
            "_model_module_version": "1.5.0",
            "_model_name": "FloatProgressModel",
            "_view_count": null,
            "_view_module": "@jupyter-widgets/controls",
            "_view_module_version": "1.5.0",
            "_view_name": "ProgressView",
            "bar_style": "success",
            "description": "",
            "description_tooltip": null,
            "layout": "IPY_MODEL_c3f6d17569a7465ebf35ff166522ce15",
            "max": 231536,
            "min": 0,
            "orientation": "horizontal",
            "style": "IPY_MODEL_d45ac5b7e0954f638b1eb84c0ec5feba",
            "value": 231536
          }
        },
        "4b7e973e664546c48a3e14292659bc0f": {
          "model_module": "@jupyter-widgets/controls",
          "model_name": "HTMLModel",
          "model_module_version": "1.5.0",
          "state": {
            "_dom_classes": [],
            "_model_module": "@jupyter-widgets/controls",
            "_model_module_version": "1.5.0",
            "_model_name": "HTMLModel",
            "_view_count": null,
            "_view_module": "@jupyter-widgets/controls",
            "_view_module_version": "1.5.0",
            "_view_name": "HTMLView",
            "description": "",
            "description_tooltip": null,
            "layout": "IPY_MODEL_933d2c7446a84226a0e44b1d97dcc3ff",
            "placeholder": "​",
            "style": "IPY_MODEL_118f97b8983045e8ba2324c3ac330aa0",
            "value": " 232k/232k [00:00&lt;00:00, 585kB/s]"
          }
        },
        "a26092899b504736819bf17b32404838": {
          "model_module": "@jupyter-widgets/base",
          "model_name": "LayoutModel",
          "model_module_version": "1.2.0",
          "state": {
            "_model_module": "@jupyter-widgets/base",
            "_model_module_version": "1.2.0",
            "_model_name": "LayoutModel",
            "_view_count": null,
            "_view_module": "@jupyter-widgets/base",
            "_view_module_version": "1.2.0",
            "_view_name": "LayoutView",
            "align_content": null,
            "align_items": null,
            "align_self": null,
            "border": null,
            "bottom": null,
            "display": null,
            "flex": null,
            "flex_flow": null,
            "grid_area": null,
            "grid_auto_columns": null,
            "grid_auto_flow": null,
            "grid_auto_rows": null,
            "grid_column": null,
            "grid_gap": null,
            "grid_row": null,
            "grid_template_areas": null,
            "grid_template_columns": null,
            "grid_template_rows": null,
            "height": null,
            "justify_content": null,
            "justify_items": null,
            "left": null,
            "margin": null,
            "max_height": null,
            "max_width": null,
            "min_height": null,
            "min_width": null,
            "object_fit": null,
            "object_position": null,
            "order": null,
            "overflow": null,
            "overflow_x": null,
            "overflow_y": null,
            "padding": null,
            "right": null,
            "top": null,
            "visibility": null,
            "width": null
          }
        },
        "63236ff5c70c4c0faf794d4daf876bed": {
          "model_module": "@jupyter-widgets/base",
          "model_name": "LayoutModel",
          "model_module_version": "1.2.0",
          "state": {
            "_model_module": "@jupyter-widgets/base",
            "_model_module_version": "1.2.0",
            "_model_name": "LayoutModel",
            "_view_count": null,
            "_view_module": "@jupyter-widgets/base",
            "_view_module_version": "1.2.0",
            "_view_name": "LayoutView",
            "align_content": null,
            "align_items": null,
            "align_self": null,
            "border": null,
            "bottom": null,
            "display": null,
            "flex": null,
            "flex_flow": null,
            "grid_area": null,
            "grid_auto_columns": null,
            "grid_auto_flow": null,
            "grid_auto_rows": null,
            "grid_column": null,
            "grid_gap": null,
            "grid_row": null,
            "grid_template_areas": null,
            "grid_template_columns": null,
            "grid_template_rows": null,
            "height": null,
            "justify_content": null,
            "justify_items": null,
            "left": null,
            "margin": null,
            "max_height": null,
            "max_width": null,
            "min_height": null,
            "min_width": null,
            "object_fit": null,
            "object_position": null,
            "order": null,
            "overflow": null,
            "overflow_x": null,
            "overflow_y": null,
            "padding": null,
            "right": null,
            "top": null,
            "visibility": null,
            "width": null
          }
        },
        "7c08a1d99d5c40af8fc69e482f49d8fc": {
          "model_module": "@jupyter-widgets/controls",
          "model_name": "DescriptionStyleModel",
          "model_module_version": "1.5.0",
          "state": {
            "_model_module": "@jupyter-widgets/controls",
            "_model_module_version": "1.5.0",
            "_model_name": "DescriptionStyleModel",
            "_view_count": null,
            "_view_module": "@jupyter-widgets/base",
            "_view_module_version": "1.2.0",
            "_view_name": "StyleView",
            "description_width": ""
          }
        },
        "c3f6d17569a7465ebf35ff166522ce15": {
          "model_module": "@jupyter-widgets/base",
          "model_name": "LayoutModel",
          "model_module_version": "1.2.0",
          "state": {
            "_model_module": "@jupyter-widgets/base",
            "_model_module_version": "1.2.0",
            "_model_name": "LayoutModel",
            "_view_count": null,
            "_view_module": "@jupyter-widgets/base",
            "_view_module_version": "1.2.0",
            "_view_name": "LayoutView",
            "align_content": null,
            "align_items": null,
            "align_self": null,
            "border": null,
            "bottom": null,
            "display": null,
            "flex": null,
            "flex_flow": null,
            "grid_area": null,
            "grid_auto_columns": null,
            "grid_auto_flow": null,
            "grid_auto_rows": null,
            "grid_column": null,
            "grid_gap": null,
            "grid_row": null,
            "grid_template_areas": null,
            "grid_template_columns": null,
            "grid_template_rows": null,
            "height": null,
            "justify_content": null,
            "justify_items": null,
            "left": null,
            "margin": null,
            "max_height": null,
            "max_width": null,
            "min_height": null,
            "min_width": null,
            "object_fit": null,
            "object_position": null,
            "order": null,
            "overflow": null,
            "overflow_x": null,
            "overflow_y": null,
            "padding": null,
            "right": null,
            "top": null,
            "visibility": null,
            "width": null
          }
        },
        "d45ac5b7e0954f638b1eb84c0ec5feba": {
          "model_module": "@jupyter-widgets/controls",
          "model_name": "ProgressStyleModel",
          "model_module_version": "1.5.0",
          "state": {
            "_model_module": "@jupyter-widgets/controls",
            "_model_module_version": "1.5.0",
            "_model_name": "ProgressStyleModel",
            "_view_count": null,
            "_view_module": "@jupyter-widgets/base",
            "_view_module_version": "1.2.0",
            "_view_name": "StyleView",
            "bar_color": null,
            "description_width": ""
          }
        },
        "933d2c7446a84226a0e44b1d97dcc3ff": {
          "model_module": "@jupyter-widgets/base",
          "model_name": "LayoutModel",
          "model_module_version": "1.2.0",
          "state": {
            "_model_module": "@jupyter-widgets/base",
            "_model_module_version": "1.2.0",
            "_model_name": "LayoutModel",
            "_view_count": null,
            "_view_module": "@jupyter-widgets/base",
            "_view_module_version": "1.2.0",
            "_view_name": "LayoutView",
            "align_content": null,
            "align_items": null,
            "align_self": null,
            "border": null,
            "bottom": null,
            "display": null,
            "flex": null,
            "flex_flow": null,
            "grid_area": null,
            "grid_auto_columns": null,
            "grid_auto_flow": null,
            "grid_auto_rows": null,
            "grid_column": null,
            "grid_gap": null,
            "grid_row": null,
            "grid_template_areas": null,
            "grid_template_columns": null,
            "grid_template_rows": null,
            "height": null,
            "justify_content": null,
            "justify_items": null,
            "left": null,
            "margin": null,
            "max_height": null,
            "max_width": null,
            "min_height": null,
            "min_width": null,
            "object_fit": null,
            "object_position": null,
            "order": null,
            "overflow": null,
            "overflow_x": null,
            "overflow_y": null,
            "padding": null,
            "right": null,
            "top": null,
            "visibility": null,
            "width": null
          }
        },
        "118f97b8983045e8ba2324c3ac330aa0": {
          "model_module": "@jupyter-widgets/controls",
          "model_name": "DescriptionStyleModel",
          "model_module_version": "1.5.0",
          "state": {
            "_model_module": "@jupyter-widgets/controls",
            "_model_module_version": "1.5.0",
            "_model_name": "DescriptionStyleModel",
            "_view_count": null,
            "_view_module": "@jupyter-widgets/base",
            "_view_module_version": "1.2.0",
            "_view_name": "StyleView",
            "description_width": ""
          }
        },
        "2782b2ff93cc4ae2841a86b53d1d1b1e": {
          "model_module": "@jupyter-widgets/controls",
          "model_name": "HBoxModel",
          "model_module_version": "1.5.0",
          "state": {
            "_dom_classes": [],
            "_model_module": "@jupyter-widgets/controls",
            "_model_module_version": "1.5.0",
            "_model_name": "HBoxModel",
            "_view_count": null,
            "_view_module": "@jupyter-widgets/controls",
            "_view_module_version": "1.5.0",
            "_view_name": "HBoxView",
            "box_style": "",
            "children": [
              "IPY_MODEL_107f9eec886f4cafa1914dd599223f44",
              "IPY_MODEL_7e9e23e22f724b729504c5cdcb268b2c",
              "IPY_MODEL_58dc89d77ff74e25a6dda4e3614e174f"
            ],
            "layout": "IPY_MODEL_ff077cc0b7624e34867de7a22504bd6f"
          }
        },
        "107f9eec886f4cafa1914dd599223f44": {
          "model_module": "@jupyter-widgets/controls",
          "model_name": "HTMLModel",
          "model_module_version": "1.5.0",
          "state": {
            "_dom_classes": [],
            "_model_module": "@jupyter-widgets/controls",
            "_model_module_version": "1.5.0",
            "_model_name": "HTMLModel",
            "_view_count": null,
            "_view_module": "@jupyter-widgets/controls",
            "_view_module_version": "1.5.0",
            "_view_name": "HTMLView",
            "description": "",
            "description_tooltip": null,
            "layout": "IPY_MODEL_d3c6e5d577f94c84bea7f833a5bc921e",
            "placeholder": "​",
            "style": "IPY_MODEL_2815c9f1cd7b4f69873474b805d30fe2",
            "value": "tokenizer.json: 100%"
          }
        },
        "7e9e23e22f724b729504c5cdcb268b2c": {
          "model_module": "@jupyter-widgets/controls",
          "model_name": "FloatProgressModel",
          "model_module_version": "1.5.0",
          "state": {
            "_dom_classes": [],
            "_model_module": "@jupyter-widgets/controls",
            "_model_module_version": "1.5.0",
            "_model_name": "FloatProgressModel",
            "_view_count": null,
            "_view_module": "@jupyter-widgets/controls",
            "_view_module_version": "1.5.0",
            "_view_name": "ProgressView",
            "bar_style": "success",
            "description": "",
            "description_tooltip": null,
            "layout": "IPY_MODEL_f7173fbd7f0140c9bfb30fda791b6f59",
            "max": 466021,
            "min": 0,
            "orientation": "horizontal",
            "style": "IPY_MODEL_593aa9a1bf4142b29e0a322ce15b26bd",
            "value": 466021
          }
        },
        "58dc89d77ff74e25a6dda4e3614e174f": {
          "model_module": "@jupyter-widgets/controls",
          "model_name": "HTMLModel",
          "model_module_version": "1.5.0",
          "state": {
            "_dom_classes": [],
            "_model_module": "@jupyter-widgets/controls",
            "_model_module_version": "1.5.0",
            "_model_name": "HTMLModel",
            "_view_count": null,
            "_view_module": "@jupyter-widgets/controls",
            "_view_module_version": "1.5.0",
            "_view_name": "HTMLView",
            "description": "",
            "description_tooltip": null,
            "layout": "IPY_MODEL_dc2a2b9ad905410597803048fb7ae3d7",
            "placeholder": "​",
            "style": "IPY_MODEL_e5ee0fd751a74654b176e6d449062a7e",
            "value": " 466k/466k [00:00&lt;00:00, 785kB/s]"
          }
        },
        "ff077cc0b7624e34867de7a22504bd6f": {
          "model_module": "@jupyter-widgets/base",
          "model_name": "LayoutModel",
          "model_module_version": "1.2.0",
          "state": {
            "_model_module": "@jupyter-widgets/base",
            "_model_module_version": "1.2.0",
            "_model_name": "LayoutModel",
            "_view_count": null,
            "_view_module": "@jupyter-widgets/base",
            "_view_module_version": "1.2.0",
            "_view_name": "LayoutView",
            "align_content": null,
            "align_items": null,
            "align_self": null,
            "border": null,
            "bottom": null,
            "display": null,
            "flex": null,
            "flex_flow": null,
            "grid_area": null,
            "grid_auto_columns": null,
            "grid_auto_flow": null,
            "grid_auto_rows": null,
            "grid_column": null,
            "grid_gap": null,
            "grid_row": null,
            "grid_template_areas": null,
            "grid_template_columns": null,
            "grid_template_rows": null,
            "height": null,
            "justify_content": null,
            "justify_items": null,
            "left": null,
            "margin": null,
            "max_height": null,
            "max_width": null,
            "min_height": null,
            "min_width": null,
            "object_fit": null,
            "object_position": null,
            "order": null,
            "overflow": null,
            "overflow_x": null,
            "overflow_y": null,
            "padding": null,
            "right": null,
            "top": null,
            "visibility": null,
            "width": null
          }
        },
        "d3c6e5d577f94c84bea7f833a5bc921e": {
          "model_module": "@jupyter-widgets/base",
          "model_name": "LayoutModel",
          "model_module_version": "1.2.0",
          "state": {
            "_model_module": "@jupyter-widgets/base",
            "_model_module_version": "1.2.0",
            "_model_name": "LayoutModel",
            "_view_count": null,
            "_view_module": "@jupyter-widgets/base",
            "_view_module_version": "1.2.0",
            "_view_name": "LayoutView",
            "align_content": null,
            "align_items": null,
            "align_self": null,
            "border": null,
            "bottom": null,
            "display": null,
            "flex": null,
            "flex_flow": null,
            "grid_area": null,
            "grid_auto_columns": null,
            "grid_auto_flow": null,
            "grid_auto_rows": null,
            "grid_column": null,
            "grid_gap": null,
            "grid_row": null,
            "grid_template_areas": null,
            "grid_template_columns": null,
            "grid_template_rows": null,
            "height": null,
            "justify_content": null,
            "justify_items": null,
            "left": null,
            "margin": null,
            "max_height": null,
            "max_width": null,
            "min_height": null,
            "min_width": null,
            "object_fit": null,
            "object_position": null,
            "order": null,
            "overflow": null,
            "overflow_x": null,
            "overflow_y": null,
            "padding": null,
            "right": null,
            "top": null,
            "visibility": null,
            "width": null
          }
        },
        "2815c9f1cd7b4f69873474b805d30fe2": {
          "model_module": "@jupyter-widgets/controls",
          "model_name": "DescriptionStyleModel",
          "model_module_version": "1.5.0",
          "state": {
            "_model_module": "@jupyter-widgets/controls",
            "_model_module_version": "1.5.0",
            "_model_name": "DescriptionStyleModel",
            "_view_count": null,
            "_view_module": "@jupyter-widgets/base",
            "_view_module_version": "1.2.0",
            "_view_name": "StyleView",
            "description_width": ""
          }
        },
        "f7173fbd7f0140c9bfb30fda791b6f59": {
          "model_module": "@jupyter-widgets/base",
          "model_name": "LayoutModel",
          "model_module_version": "1.2.0",
          "state": {
            "_model_module": "@jupyter-widgets/base",
            "_model_module_version": "1.2.0",
            "_model_name": "LayoutModel",
            "_view_count": null,
            "_view_module": "@jupyter-widgets/base",
            "_view_module_version": "1.2.0",
            "_view_name": "LayoutView",
            "align_content": null,
            "align_items": null,
            "align_self": null,
            "border": null,
            "bottom": null,
            "display": null,
            "flex": null,
            "flex_flow": null,
            "grid_area": null,
            "grid_auto_columns": null,
            "grid_auto_flow": null,
            "grid_auto_rows": null,
            "grid_column": null,
            "grid_gap": null,
            "grid_row": null,
            "grid_template_areas": null,
            "grid_template_columns": null,
            "grid_template_rows": null,
            "height": null,
            "justify_content": null,
            "justify_items": null,
            "left": null,
            "margin": null,
            "max_height": null,
            "max_width": null,
            "min_height": null,
            "min_width": null,
            "object_fit": null,
            "object_position": null,
            "order": null,
            "overflow": null,
            "overflow_x": null,
            "overflow_y": null,
            "padding": null,
            "right": null,
            "top": null,
            "visibility": null,
            "width": null
          }
        },
        "593aa9a1bf4142b29e0a322ce15b26bd": {
          "model_module": "@jupyter-widgets/controls",
          "model_name": "ProgressStyleModel",
          "model_module_version": "1.5.0",
          "state": {
            "_model_module": "@jupyter-widgets/controls",
            "_model_module_version": "1.5.0",
            "_model_name": "ProgressStyleModel",
            "_view_count": null,
            "_view_module": "@jupyter-widgets/base",
            "_view_module_version": "1.2.0",
            "_view_name": "StyleView",
            "bar_color": null,
            "description_width": ""
          }
        },
        "dc2a2b9ad905410597803048fb7ae3d7": {
          "model_module": "@jupyter-widgets/base",
          "model_name": "LayoutModel",
          "model_module_version": "1.2.0",
          "state": {
            "_model_module": "@jupyter-widgets/base",
            "_model_module_version": "1.2.0",
            "_model_name": "LayoutModel",
            "_view_count": null,
            "_view_module": "@jupyter-widgets/base",
            "_view_module_version": "1.2.0",
            "_view_name": "LayoutView",
            "align_content": null,
            "align_items": null,
            "align_self": null,
            "border": null,
            "bottom": null,
            "display": null,
            "flex": null,
            "flex_flow": null,
            "grid_area": null,
            "grid_auto_columns": null,
            "grid_auto_flow": null,
            "grid_auto_rows": null,
            "grid_column": null,
            "grid_gap": null,
            "grid_row": null,
            "grid_template_areas": null,
            "grid_template_columns": null,
            "grid_template_rows": null,
            "height": null,
            "justify_content": null,
            "justify_items": null,
            "left": null,
            "margin": null,
            "max_height": null,
            "max_width": null,
            "min_height": null,
            "min_width": null,
            "object_fit": null,
            "object_position": null,
            "order": null,
            "overflow": null,
            "overflow_x": null,
            "overflow_y": null,
            "padding": null,
            "right": null,
            "top": null,
            "visibility": null,
            "width": null
          }
        },
        "e5ee0fd751a74654b176e6d449062a7e": {
          "model_module": "@jupyter-widgets/controls",
          "model_name": "DescriptionStyleModel",
          "model_module_version": "1.5.0",
          "state": {
            "_model_module": "@jupyter-widgets/controls",
            "_model_module_version": "1.5.0",
            "_model_name": "DescriptionStyleModel",
            "_view_count": null,
            "_view_module": "@jupyter-widgets/base",
            "_view_module_version": "1.2.0",
            "_view_name": "StyleView",
            "description_width": ""
          }
        },
        "7cae75d2e7774bef87a7a97e52be05d8": {
          "model_module": "@jupyter-widgets/controls",
          "model_name": "HBoxModel",
          "model_module_version": "1.5.0",
          "state": {
            "_dom_classes": [],
            "_model_module": "@jupyter-widgets/controls",
            "_model_module_version": "1.5.0",
            "_model_name": "HBoxModel",
            "_view_count": null,
            "_view_module": "@jupyter-widgets/controls",
            "_view_module_version": "1.5.0",
            "_view_name": "HBoxView",
            "box_style": "",
            "children": [
              "IPY_MODEL_d8ba92ba83c44e1694ee5de76ed2a045",
              "IPY_MODEL_226e546bfbab4ee5951314f6934e8a30",
              "IPY_MODEL_4344401bce5344d098d62e7e669ebeef"
            ],
            "layout": "IPY_MODEL_0135c322fd644192b5acda447d7d0a57"
          }
        },
        "d8ba92ba83c44e1694ee5de76ed2a045": {
          "model_module": "@jupyter-widgets/controls",
          "model_name": "HTMLModel",
          "model_module_version": "1.5.0",
          "state": {
            "_dom_classes": [],
            "_model_module": "@jupyter-widgets/controls",
            "_model_module_version": "1.5.0",
            "_model_name": "HTMLModel",
            "_view_count": null,
            "_view_module": "@jupyter-widgets/controls",
            "_view_module_version": "1.5.0",
            "_view_name": "HTMLView",
            "description": "",
            "description_tooltip": null,
            "layout": "IPY_MODEL_a5d5675fa1074dd48898c7ff8ca91dd8",
            "placeholder": "​",
            "style": "IPY_MODEL_4669b983b40a462eaa3bfeb314b7bc85",
            "value": "special_tokens_map.json: 100%"
          }
        },
        "226e546bfbab4ee5951314f6934e8a30": {
          "model_module": "@jupyter-widgets/controls",
          "model_name": "FloatProgressModel",
          "model_module_version": "1.5.0",
          "state": {
            "_dom_classes": [],
            "_model_module": "@jupyter-widgets/controls",
            "_model_module_version": "1.5.0",
            "_model_name": "FloatProgressModel",
            "_view_count": null,
            "_view_module": "@jupyter-widgets/controls",
            "_view_module_version": "1.5.0",
            "_view_name": "ProgressView",
            "bar_style": "success",
            "description": "",
            "description_tooltip": null,
            "layout": "IPY_MODEL_c37fef942792410fa6584d7640b67f50",
            "max": 239,
            "min": 0,
            "orientation": "horizontal",
            "style": "IPY_MODEL_89c6ce6ea94b4ee39c420d56cd97bb53",
            "value": 239
          }
        },
        "4344401bce5344d098d62e7e669ebeef": {
          "model_module": "@jupyter-widgets/controls",
          "model_name": "HTMLModel",
          "model_module_version": "1.5.0",
          "state": {
            "_dom_classes": [],
            "_model_module": "@jupyter-widgets/controls",
            "_model_module_version": "1.5.0",
            "_model_name": "HTMLModel",
            "_view_count": null,
            "_view_module": "@jupyter-widgets/controls",
            "_view_module_version": "1.5.0",
            "_view_name": "HTMLView",
            "description": "",
            "description_tooltip": null,
            "layout": "IPY_MODEL_bf13f775fdc14328a7b4000eec7f53f0",
            "placeholder": "​",
            "style": "IPY_MODEL_89cf8139300d443284fd8d91cfd51fd1",
            "value": " 239/239 [00:00&lt;00:00, 4.38kB/s]"
          }
        },
        "0135c322fd644192b5acda447d7d0a57": {
          "model_module": "@jupyter-widgets/base",
          "model_name": "LayoutModel",
          "model_module_version": "1.2.0",
          "state": {
            "_model_module": "@jupyter-widgets/base",
            "_model_module_version": "1.2.0",
            "_model_name": "LayoutModel",
            "_view_count": null,
            "_view_module": "@jupyter-widgets/base",
            "_view_module_version": "1.2.0",
            "_view_name": "LayoutView",
            "align_content": null,
            "align_items": null,
            "align_self": null,
            "border": null,
            "bottom": null,
            "display": null,
            "flex": null,
            "flex_flow": null,
            "grid_area": null,
            "grid_auto_columns": null,
            "grid_auto_flow": null,
            "grid_auto_rows": null,
            "grid_column": null,
            "grid_gap": null,
            "grid_row": null,
            "grid_template_areas": null,
            "grid_template_columns": null,
            "grid_template_rows": null,
            "height": null,
            "justify_content": null,
            "justify_items": null,
            "left": null,
            "margin": null,
            "max_height": null,
            "max_width": null,
            "min_height": null,
            "min_width": null,
            "object_fit": null,
            "object_position": null,
            "order": null,
            "overflow": null,
            "overflow_x": null,
            "overflow_y": null,
            "padding": null,
            "right": null,
            "top": null,
            "visibility": null,
            "width": null
          }
        },
        "a5d5675fa1074dd48898c7ff8ca91dd8": {
          "model_module": "@jupyter-widgets/base",
          "model_name": "LayoutModel",
          "model_module_version": "1.2.0",
          "state": {
            "_model_module": "@jupyter-widgets/base",
            "_model_module_version": "1.2.0",
            "_model_name": "LayoutModel",
            "_view_count": null,
            "_view_module": "@jupyter-widgets/base",
            "_view_module_version": "1.2.0",
            "_view_name": "LayoutView",
            "align_content": null,
            "align_items": null,
            "align_self": null,
            "border": null,
            "bottom": null,
            "display": null,
            "flex": null,
            "flex_flow": null,
            "grid_area": null,
            "grid_auto_columns": null,
            "grid_auto_flow": null,
            "grid_auto_rows": null,
            "grid_column": null,
            "grid_gap": null,
            "grid_row": null,
            "grid_template_areas": null,
            "grid_template_columns": null,
            "grid_template_rows": null,
            "height": null,
            "justify_content": null,
            "justify_items": null,
            "left": null,
            "margin": null,
            "max_height": null,
            "max_width": null,
            "min_height": null,
            "min_width": null,
            "object_fit": null,
            "object_position": null,
            "order": null,
            "overflow": null,
            "overflow_x": null,
            "overflow_y": null,
            "padding": null,
            "right": null,
            "top": null,
            "visibility": null,
            "width": null
          }
        },
        "4669b983b40a462eaa3bfeb314b7bc85": {
          "model_module": "@jupyter-widgets/controls",
          "model_name": "DescriptionStyleModel",
          "model_module_version": "1.5.0",
          "state": {
            "_model_module": "@jupyter-widgets/controls",
            "_model_module_version": "1.5.0",
            "_model_name": "DescriptionStyleModel",
            "_view_count": null,
            "_view_module": "@jupyter-widgets/base",
            "_view_module_version": "1.2.0",
            "_view_name": "StyleView",
            "description_width": ""
          }
        },
        "c37fef942792410fa6584d7640b67f50": {
          "model_module": "@jupyter-widgets/base",
          "model_name": "LayoutModel",
          "model_module_version": "1.2.0",
          "state": {
            "_model_module": "@jupyter-widgets/base",
            "_model_module_version": "1.2.0",
            "_model_name": "LayoutModel",
            "_view_count": null,
            "_view_module": "@jupyter-widgets/base",
            "_view_module_version": "1.2.0",
            "_view_name": "LayoutView",
            "align_content": null,
            "align_items": null,
            "align_self": null,
            "border": null,
            "bottom": null,
            "display": null,
            "flex": null,
            "flex_flow": null,
            "grid_area": null,
            "grid_auto_columns": null,
            "grid_auto_flow": null,
            "grid_auto_rows": null,
            "grid_column": null,
            "grid_gap": null,
            "grid_row": null,
            "grid_template_areas": null,
            "grid_template_columns": null,
            "grid_template_rows": null,
            "height": null,
            "justify_content": null,
            "justify_items": null,
            "left": null,
            "margin": null,
            "max_height": null,
            "max_width": null,
            "min_height": null,
            "min_width": null,
            "object_fit": null,
            "object_position": null,
            "order": null,
            "overflow": null,
            "overflow_x": null,
            "overflow_y": null,
            "padding": null,
            "right": null,
            "top": null,
            "visibility": null,
            "width": null
          }
        },
        "89c6ce6ea94b4ee39c420d56cd97bb53": {
          "model_module": "@jupyter-widgets/controls",
          "model_name": "ProgressStyleModel",
          "model_module_version": "1.5.0",
          "state": {
            "_model_module": "@jupyter-widgets/controls",
            "_model_module_version": "1.5.0",
            "_model_name": "ProgressStyleModel",
            "_view_count": null,
            "_view_module": "@jupyter-widgets/base",
            "_view_module_version": "1.2.0",
            "_view_name": "StyleView",
            "bar_color": null,
            "description_width": ""
          }
        },
        "bf13f775fdc14328a7b4000eec7f53f0": {
          "model_module": "@jupyter-widgets/base",
          "model_name": "LayoutModel",
          "model_module_version": "1.2.0",
          "state": {
            "_model_module": "@jupyter-widgets/base",
            "_model_module_version": "1.2.0",
            "_model_name": "LayoutModel",
            "_view_count": null,
            "_view_module": "@jupyter-widgets/base",
            "_view_module_version": "1.2.0",
            "_view_name": "LayoutView",
            "align_content": null,
            "align_items": null,
            "align_self": null,
            "border": null,
            "bottom": null,
            "display": null,
            "flex": null,
            "flex_flow": null,
            "grid_area": null,
            "grid_auto_columns": null,
            "grid_auto_flow": null,
            "grid_auto_rows": null,
            "grid_column": null,
            "grid_gap": null,
            "grid_row": null,
            "grid_template_areas": null,
            "grid_template_columns": null,
            "grid_template_rows": null,
            "height": null,
            "justify_content": null,
            "justify_items": null,
            "left": null,
            "margin": null,
            "max_height": null,
            "max_width": null,
            "min_height": null,
            "min_width": null,
            "object_fit": null,
            "object_position": null,
            "order": null,
            "overflow": null,
            "overflow_x": null,
            "overflow_y": null,
            "padding": null,
            "right": null,
            "top": null,
            "visibility": null,
            "width": null
          }
        },
        "89cf8139300d443284fd8d91cfd51fd1": {
          "model_module": "@jupyter-widgets/controls",
          "model_name": "DescriptionStyleModel",
          "model_module_version": "1.5.0",
          "state": {
            "_model_module": "@jupyter-widgets/controls",
            "_model_module_version": "1.5.0",
            "_model_name": "DescriptionStyleModel",
            "_view_count": null,
            "_view_module": "@jupyter-widgets/base",
            "_view_module_version": "1.2.0",
            "_view_name": "StyleView",
            "description_width": ""
          }
        },
        "74aaad8d84e34e0286f3cbd465de63aa": {
          "model_module": "@jupyter-widgets/controls",
          "model_name": "HBoxModel",
          "model_module_version": "1.5.0",
          "state": {
            "_dom_classes": [],
            "_model_module": "@jupyter-widgets/controls",
            "_model_module_version": "1.5.0",
            "_model_name": "HBoxModel",
            "_view_count": null,
            "_view_module": "@jupyter-widgets/controls",
            "_view_module_version": "1.5.0",
            "_view_name": "HBoxView",
            "box_style": "",
            "children": [
              "IPY_MODEL_4d5f5bce5b5242c987501aa42572a6f6",
              "IPY_MODEL_fbe5ed87f64b426e816f87a9d23ed97e",
              "IPY_MODEL_d43dd24418724316a79d55f775404085"
            ],
            "layout": "IPY_MODEL_602a195536754c3089de4ef70feff948"
          }
        },
        "4d5f5bce5b5242c987501aa42572a6f6": {
          "model_module": "@jupyter-widgets/controls",
          "model_name": "HTMLModel",
          "model_module_version": "1.5.0",
          "state": {
            "_dom_classes": [],
            "_model_module": "@jupyter-widgets/controls",
            "_model_module_version": "1.5.0",
            "_model_name": "HTMLModel",
            "_view_count": null,
            "_view_module": "@jupyter-widgets/controls",
            "_view_module_version": "1.5.0",
            "_view_name": "HTMLView",
            "description": "",
            "description_tooltip": null,
            "layout": "IPY_MODEL_f00e9e86f84249e5a09e6c6ddff62115",
            "placeholder": "​",
            "style": "IPY_MODEL_2f0bbc3752f3411995c0f581e2fa63de",
            "value": "1_Pooling/config.json: 100%"
          }
        },
        "fbe5ed87f64b426e816f87a9d23ed97e": {
          "model_module": "@jupyter-widgets/controls",
          "model_name": "FloatProgressModel",
          "model_module_version": "1.5.0",
          "state": {
            "_dom_classes": [],
            "_model_module": "@jupyter-widgets/controls",
            "_model_module_version": "1.5.0",
            "_model_name": "FloatProgressModel",
            "_view_count": null,
            "_view_module": "@jupyter-widgets/controls",
            "_view_module_version": "1.5.0",
            "_view_name": "ProgressView",
            "bar_style": "success",
            "description": "",
            "description_tooltip": null,
            "layout": "IPY_MODEL_5755b41a399048dc9eb8d1dda7f79566",
            "max": 190,
            "min": 0,
            "orientation": "horizontal",
            "style": "IPY_MODEL_022d3f4c6c754d6a8fe51ee1ac588271",
            "value": 190
          }
        },
        "d43dd24418724316a79d55f775404085": {
          "model_module": "@jupyter-widgets/controls",
          "model_name": "HTMLModel",
          "model_module_version": "1.5.0",
          "state": {
            "_dom_classes": [],
            "_model_module": "@jupyter-widgets/controls",
            "_model_module_version": "1.5.0",
            "_model_name": "HTMLModel",
            "_view_count": null,
            "_view_module": "@jupyter-widgets/controls",
            "_view_module_version": "1.5.0",
            "_view_name": "HTMLView",
            "description": "",
            "description_tooltip": null,
            "layout": "IPY_MODEL_91d91cc61bbd4c4db38b34ec0be224cd",
            "placeholder": "​",
            "style": "IPY_MODEL_5f181fed14804cee967d20edd16ae230",
            "value": " 190/190 [00:00&lt;00:00, 1.51kB/s]"
          }
        },
        "602a195536754c3089de4ef70feff948": {
          "model_module": "@jupyter-widgets/base",
          "model_name": "LayoutModel",
          "model_module_version": "1.2.0",
          "state": {
            "_model_module": "@jupyter-widgets/base",
            "_model_module_version": "1.2.0",
            "_model_name": "LayoutModel",
            "_view_count": null,
            "_view_module": "@jupyter-widgets/base",
            "_view_module_version": "1.2.0",
            "_view_name": "LayoutView",
            "align_content": null,
            "align_items": null,
            "align_self": null,
            "border": null,
            "bottom": null,
            "display": null,
            "flex": null,
            "flex_flow": null,
            "grid_area": null,
            "grid_auto_columns": null,
            "grid_auto_flow": null,
            "grid_auto_rows": null,
            "grid_column": null,
            "grid_gap": null,
            "grid_row": null,
            "grid_template_areas": null,
            "grid_template_columns": null,
            "grid_template_rows": null,
            "height": null,
            "justify_content": null,
            "justify_items": null,
            "left": null,
            "margin": null,
            "max_height": null,
            "max_width": null,
            "min_height": null,
            "min_width": null,
            "object_fit": null,
            "object_position": null,
            "order": null,
            "overflow": null,
            "overflow_x": null,
            "overflow_y": null,
            "padding": null,
            "right": null,
            "top": null,
            "visibility": null,
            "width": null
          }
        },
        "f00e9e86f84249e5a09e6c6ddff62115": {
          "model_module": "@jupyter-widgets/base",
          "model_name": "LayoutModel",
          "model_module_version": "1.2.0",
          "state": {
            "_model_module": "@jupyter-widgets/base",
            "_model_module_version": "1.2.0",
            "_model_name": "LayoutModel",
            "_view_count": null,
            "_view_module": "@jupyter-widgets/base",
            "_view_module_version": "1.2.0",
            "_view_name": "LayoutView",
            "align_content": null,
            "align_items": null,
            "align_self": null,
            "border": null,
            "bottom": null,
            "display": null,
            "flex": null,
            "flex_flow": null,
            "grid_area": null,
            "grid_auto_columns": null,
            "grid_auto_flow": null,
            "grid_auto_rows": null,
            "grid_column": null,
            "grid_gap": null,
            "grid_row": null,
            "grid_template_areas": null,
            "grid_template_columns": null,
            "grid_template_rows": null,
            "height": null,
            "justify_content": null,
            "justify_items": null,
            "left": null,
            "margin": null,
            "max_height": null,
            "max_width": null,
            "min_height": null,
            "min_width": null,
            "object_fit": null,
            "object_position": null,
            "order": null,
            "overflow": null,
            "overflow_x": null,
            "overflow_y": null,
            "padding": null,
            "right": null,
            "top": null,
            "visibility": null,
            "width": null
          }
        },
        "2f0bbc3752f3411995c0f581e2fa63de": {
          "model_module": "@jupyter-widgets/controls",
          "model_name": "DescriptionStyleModel",
          "model_module_version": "1.5.0",
          "state": {
            "_model_module": "@jupyter-widgets/controls",
            "_model_module_version": "1.5.0",
            "_model_name": "DescriptionStyleModel",
            "_view_count": null,
            "_view_module": "@jupyter-widgets/base",
            "_view_module_version": "1.2.0",
            "_view_name": "StyleView",
            "description_width": ""
          }
        },
        "5755b41a399048dc9eb8d1dda7f79566": {
          "model_module": "@jupyter-widgets/base",
          "model_name": "LayoutModel",
          "model_module_version": "1.2.0",
          "state": {
            "_model_module": "@jupyter-widgets/base",
            "_model_module_version": "1.2.0",
            "_model_name": "LayoutModel",
            "_view_count": null,
            "_view_module": "@jupyter-widgets/base",
            "_view_module_version": "1.2.0",
            "_view_name": "LayoutView",
            "align_content": null,
            "align_items": null,
            "align_self": null,
            "border": null,
            "bottom": null,
            "display": null,
            "flex": null,
            "flex_flow": null,
            "grid_area": null,
            "grid_auto_columns": null,
            "grid_auto_flow": null,
            "grid_auto_rows": null,
            "grid_column": null,
            "grid_gap": null,
            "grid_row": null,
            "grid_template_areas": null,
            "grid_template_columns": null,
            "grid_template_rows": null,
            "height": null,
            "justify_content": null,
            "justify_items": null,
            "left": null,
            "margin": null,
            "max_height": null,
            "max_width": null,
            "min_height": null,
            "min_width": null,
            "object_fit": null,
            "object_position": null,
            "order": null,
            "overflow": null,
            "overflow_x": null,
            "overflow_y": null,
            "padding": null,
            "right": null,
            "top": null,
            "visibility": null,
            "width": null
          }
        },
        "022d3f4c6c754d6a8fe51ee1ac588271": {
          "model_module": "@jupyter-widgets/controls",
          "model_name": "ProgressStyleModel",
          "model_module_version": "1.5.0",
          "state": {
            "_model_module": "@jupyter-widgets/controls",
            "_model_module_version": "1.5.0",
            "_model_name": "ProgressStyleModel",
            "_view_count": null,
            "_view_module": "@jupyter-widgets/base",
            "_view_module_version": "1.2.0",
            "_view_name": "StyleView",
            "bar_color": null,
            "description_width": ""
          }
        },
        "91d91cc61bbd4c4db38b34ec0be224cd": {
          "model_module": "@jupyter-widgets/base",
          "model_name": "LayoutModel",
          "model_module_version": "1.2.0",
          "state": {
            "_model_module": "@jupyter-widgets/base",
            "_model_module_version": "1.2.0",
            "_model_name": "LayoutModel",
            "_view_count": null,
            "_view_module": "@jupyter-widgets/base",
            "_view_module_version": "1.2.0",
            "_view_name": "LayoutView",
            "align_content": null,
            "align_items": null,
            "align_self": null,
            "border": null,
            "bottom": null,
            "display": null,
            "flex": null,
            "flex_flow": null,
            "grid_area": null,
            "grid_auto_columns": null,
            "grid_auto_flow": null,
            "grid_auto_rows": null,
            "grid_column": null,
            "grid_gap": null,
            "grid_row": null,
            "grid_template_areas": null,
            "grid_template_columns": null,
            "grid_template_rows": null,
            "height": null,
            "justify_content": null,
            "justify_items": null,
            "left": null,
            "margin": null,
            "max_height": null,
            "max_width": null,
            "min_height": null,
            "min_width": null,
            "object_fit": null,
            "object_position": null,
            "order": null,
            "overflow": null,
            "overflow_x": null,
            "overflow_y": null,
            "padding": null,
            "right": null,
            "top": null,
            "visibility": null,
            "width": null
          }
        },
        "5f181fed14804cee967d20edd16ae230": {
          "model_module": "@jupyter-widgets/controls",
          "model_name": "DescriptionStyleModel",
          "model_module_version": "1.5.0",
          "state": {
            "_model_module": "@jupyter-widgets/controls",
            "_model_module_version": "1.5.0",
            "_model_name": "DescriptionStyleModel",
            "_view_count": null,
            "_view_module": "@jupyter-widgets/base",
            "_view_module_version": "1.2.0",
            "_view_name": "StyleView",
            "description_width": ""
          }
        }
      }
    }
  },
  "nbformat": 4,
  "nbformat_minor": 0
}